{
 "cells": [
  {
   "cell_type": "markdown",
   "metadata": {},
   "source": [
    "# About \n",
    "\n",
    "This notebook is intended to be a POC for Experiment 4.1 in the Skantze 2017 paper. "
   ]
  },
  {
   "cell_type": "markdown",
   "metadata": {},
   "source": [
    "## Setup "
   ]
  },
  {
   "cell_type": "code",
   "execution_count": 1,
   "metadata": {},
   "outputs": [],
   "source": [
    " # Download libraries for environment. \n",
    "\n",
    "import sys \n",
    "import os \n",
    "\n",
    "# Env. vars to check if the notebook is running on colab, kaggle etc. \n",
    "IS_COLAB = \"google.colab\" in sys.modules \n",
    "IS_KAGGLE = \"kaggle_secrets\" in sys.modules \n",
    "IS_LOCAL = not (IS_COLAB or IS_KAGGLE)\n",
    "\n",
    "if IS_COLAB:\n",
    "    # Install the packages \n",
    "    %pip install -q -U tensorflow-addons\n",
    "    %pip install -q -U transformers\n",
    "    %pip install -q -U datasets\n",
    "    print(\"You can safely ignore the package incompatibility errors.\")\n",
    "    # Mount the drive \n",
    "    from google.colab import drive \n",
    "    drive.mount(\"/drive\")"
   ]
  },
  {
   "cell_type": "code",
   "execution_count": 8,
   "metadata": {},
   "outputs": [],
   "source": [
    "\n",
    "import os\n",
    "import pandas as pd\n",
    "import numpy as np\n",
    "from copy import deepcopy \n",
    "\n",
    "import random \n",
    "import shutil \n",
    "# Scikit-Learn ≥0.20 is required\n",
    "import sklearn\n",
    "assert sklearn.__version__ >= \"0.20\"\n",
    "\n",
    "\n",
    "# Pytorch imports \n",
    "import torch\n",
    "import torch.nn as nn \n",
    "from torch.utils.data import Dataset, DataLoader\n",
    "\n",
    "# Others \n",
    "import glob \n",
    "\n",
    "# To plot pretty figures\n",
    "%matplotlib inline\n",
    "import matplotlib as mpl\n",
    "import matplotlib.pyplot as plt\n",
    "mpl.rc('axes', labelsize=14)\n",
    "mpl.rc('xtick', labelsize=12)\n",
    "mpl.rc('ytick', labelsize=12)\n",
    "\n",
    "\n"
   ]
  },
  {
   "cell_type": "code",
   "execution_count": 3,
   "metadata": {},
   "outputs": [],
   "source": [
    "# --  Set environment global vars. \n",
    "\n",
    "# Shared env. vars. \n",
    "GLOBAL_SEED = 42 \n",
    "IS_CUDA_ENV = torch.cuda.is_available()\n",
    "GLOBAL_DEVICE = torch.device('cuda') if IS_CUDA_ENV else torch.device('cpu')\n",
    "SET_SEED = True # If true, sets the global seeds for this notebook. \n",
    "LIMITED_RESOURCES = not IS_CUDA_ENV\n",
    "\n",
    "if LIMITED_RESOURCES:\n",
    "    SMALL_DATASET_SIZE = 10\n",
    "\n",
    "if IS_COLAB:\n",
    "    LIMITED_RESOURCES = False \n",
    "   "
   ]
  },
  {
   "cell_type": "code",
   "execution_count": 4,
   "metadata": {},
   "outputs": [],
   "source": [
    "# Configuring env. \n",
    "if SET_SEED:\n",
    "    # to make this notebook's output stable across runs\n",
    "    np.random.seed(GLOBAL_SEED) \n",
    "    torch.manual_seed(GLOBAL_SEED)"
   ]
  },
  {
   "cell_type": "code",
   "execution_count": 5,
   "metadata": {},
   "outputs": [],
   "source": [
    "# Project Paths\n",
    "NOTEBOOK_NAME = \"skantze2017_exp_4.1_poc\"\n",
    "PROJECT_ROOT_DIR = \"/Users/muhammadumair/Documents/Repositories/mumair01-repos/TRP-Modeling/skantze_2017_continuous\" \n",
    "# --- Input data dirs. \n",
    "\n",
    "FULL_DATALOADER_DIR = os.path.join(PROJECT_ROOT_DIR, \"data\",\"processed\", \"skantze2017_maptask_dataset_poc\",\"full\")\n",
    "PROSODY_DATALOADER_DIR = os.path.join(PROJECT_ROOT_DIR, \"data\",\"processed\", \"skantze2017_maptask_dataset_poc\",\"prosody\")\n",
    "\n",
    "# --- Result dirs. \n",
    "# NOTE: The model dir will have to change depending on where the models are stored. \n",
    "REPORTS_DIR = os.path.join(PROJECT_ROOT_DIR,\"reports\",NOTEBOOK_NAME)\n",
    "SAVE_MODELS_DIR =  os.path.join(PROJECT_ROOT_DIR,\"models\",NOTEBOOK_NAME)\n",
    "\n",
    "os.makedirs(REPORTS_DIR,exist_ok=True)\n",
    "os.makedirs(SAVE_MODELS_DIR,exist_ok=True)\n"
   ]
  },
  {
   "cell_type": "code",
   "execution_count": 46,
   "metadata": {},
   "outputs": [
    {
     "data": {
      "text/plain": [
       "'/Users/muhammadumair/Documents/Repositories/mumair01-repos/TRP-Modeling/skantze_2017_continuous/data/processed/maptask/full'"
      ]
     },
     "execution_count": 46,
     "metadata": {},
     "output_type": "execute_result"
    }
   ],
   "source": [
    "# Paths to the specific feature sets \n",
    "FULL_PROCESSED_FEATURE_DIR = os.path.join(PROJECT_ROOT_DIR,\"data\", \"processed\", \"maptask\",\"full\")\n",
    "PROSODY_PROCESSED_FEATURE_DIR = os.path.join(PROJECT_ROOT_DIR,\"data\", \"processed\", \"maptask\",\"prosody\")\n",
    "FULL_PROCESSED_FEATURE_DIR"
   ]
  },
  {
   "cell_type": "code",
   "execution_count": 198,
   "metadata": {},
   "outputs": [],
   "source": [
    "def save_fig(path, fig_id, tight_layout=True, fig_extension=\"png\", resolution=300):\n",
    "    path = os.path.join(path, fig_id + \".\" + fig_extension)\n",
    "    print(\"Saving figure\", fig_id)\n",
    "    if tight_layout:\n",
    "        plt.tight_layout()\n",
    "    plt.savefig(path, format=fig_extension, dpi=resolution)"
   ]
  },
  {
   "cell_type": "markdown",
   "metadata": {},
   "source": [
    "## Required Code \n",
    "\n",
    "**NOTE** In this section, we are copying some required code from notebooks 1.0-* to 3.0-*.\n",
    "\n",
    "Ay bugs in this code **should be fixed in the appropriate notebooks**. "
   ]
  },
  {
   "cell_type": "markdown",
   "metadata": {},
   "source": [
    "### MapTask Dataset Generation Code"
   ]
  },
  {
   "cell_type": "code",
   "execution_count": 36,
   "metadata": {},
   "outputs": [],
   "source": [
    "RAW_DATA_DIR = os.path.join(PROJECT_ROOT_DIR,\"data\", \"raw\", \"maptask\")\n",
    "MAPTASK_DIR = os.path.join(RAW_DATA_DIR,\"maptaskv2-1\")\n",
    "# Paths within the maptask corpus \n",
    "STEREO_AUDIO_PATH = os.path.join(MAPTASK_DIR,\"Data/signals/dialogues\")\n",
    "MONO_AUDIO_PATH = os.path.join(MAPTASK_DIR,\"Data/signals/mono_signals\")\n",
    "# NOTE: The timed units are also used for Voice Activity annotations. \n",
    "TIMED_UNIT_PATHS = os.path.join(MAPTASK_DIR,\"Data/timed-units\") \n",
    "POS_PATH = os.path.join(MAPTASK_DIR,\"Data/pos\")\n"
   ]
  },
  {
   "cell_type": "code",
   "execution_count": 37,
   "metadata": {},
   "outputs": [],
   "source": [
    "def get_maptask_participant(csv_path):\n",
    "    filename, ext = os.path.splitext(os.path.basename(csv_path))\n",
    "    filename_split = filename.split(\".\")\n",
    "    participant = filename_split[1]\n",
    "    return participant\n",
    "\n",
    "def get_maptask_dialogue(csv_path):\n",
    "    filename, ext = os.path.splitext(os.path.basename(csv_path))\n",
    "    filename_split = filename.split(\".\")\n",
    "    dialogue = filename_split[0]\n",
    "    return dialogue\n",
    "\n",
    "def read_data(dir_path,dialogue_name, participant,ext):\n",
    "    \"\"\"\n",
    "    Assumption is that the basename . is the dialogue name. \n",
    "    \"\"\"\n",
    "    results = []\n",
    "    data_paths = [p for p in os.listdir(dir_path)]\n",
    "    data_paths = [os.path.join(dir_path,p) for p in data_paths if os.path.splitext(p)[1][1:] == ext]\n",
    "    for path in data_paths:\n",
    "       if get_maptask_dialogue(path) == dialogue_name and \\\n",
    "                get_maptask_participant(path) == participant:\n",
    "            results.append(path)\n",
    "    return results \n",
    "\n",
    "def get_mono_audio(dialogue_name, participant):\n",
    "    return read_data(MONO_AUDIO_PATH,dialogue_name, participant,\"wav\")[0]\n",
    "\n",
    "def get_stereo_audio(dialogue_name):\n",
    "    return read_data(STEREO_AUDIO_PATH,dialogue_name,\"mix\",\"wav\")[0]\n",
    "\n",
    "def get_timed_unit(dialogue_name, participant):\n",
    "    return read_data(TIMED_UNIT_PATHS,dialogue_name, participant,\"xml\")[0]\n"
   ]
  },
  {
   "cell_type": "code",
   "execution_count": 38,
   "metadata": {},
   "outputs": [],
   "source": [
    "def collect_dialogue_features(dialogue_names, features_dir):\n",
    "    \"\"\"\n",
    "    Collect the dialogue f and g feature files.\n",
    "    Assumes that features_dir contains both the f and g feature files. \n",
    "    \"\"\"\n",
    "    collected = {}\n",
    "    for dialogue in dialogue_names:\n",
    "        collected[dialogue] = {\n",
    "            \"f\" : read_data(features_dir,dialogue,\"f\",\"csv\")[0], \n",
    "            \"g\" : read_data(features_dir,dialogue,\"g\",\"csv\")[0]}\n",
    "    return collected \n",
    "\n",
    "\n"
   ]
  },
  {
   "cell_type": "code",
   "execution_count": 41,
   "metadata": {},
   "outputs": [],
   "source": [
    "import random\n",
    "from copy import deepcopy\n",
    "from sklearn.model_selection import train_test_split "
   ]
  },
  {
   "cell_type": "code",
   "execution_count": 40,
   "metadata": {},
   "outputs": [],
   "source": [
    "def get_train_val_test_dialogues(dataset_paths, test_size=0.25, val_size=0.2, \n",
    "        seed=GLOBAL_SEED):\n",
    "    dataset_paths = deepcopy(dataset_paths)\n",
    "    dialogue_names = sorted(list(set([get_maptask_dialogue(p) for p in dataset_paths])))\n",
    "    train_dialogues, test_dialogues = train_test_split(dialogue_names, \n",
    "        test_size=test_size,random_state=seed)\n",
    "    train_dialogues, val_dialogues = train_test_split(train_dialogues, \n",
    "        test_size=val_size,random_state=seed)\n",
    "    return train_dialogues, val_dialogues, test_dialogues \n"
   ]
  },
  {
   "cell_type": "markdown",
   "metadata": {},
   "source": [
    "### MapTask Dataclass and Method Definitions \n",
    "\n",
    "These are required to be in the same notebook to be loaded. \n",
    "\n",
    "\n",
    "NOTE: **DO NOT** modify these here, refer to 2.0-MU-Skantze-MapTask-Dataset-POC"
   ]
  },
  {
   "cell_type": "code",
   "execution_count": 6,
   "metadata": {},
   "outputs": [],
   "source": [
    "def extract_voice_activity_labels(feature_df, N):\n",
    "    # TODO: FIx the delimiter \n",
    "    feature_df = feature_df[[\"frameTime\",\"voiceActivity\"]]\n",
    "    assert not feature_df.isnull().values.any()\n",
    "    frame_times_ms = np.asarray(feature_df[\"frameTime\"])\n",
    "    voice_activity_annotations = np.asarray(feature_df[\"voiceActivity\"])\n",
    "    assert frame_times_ms.shape[0] == voice_activity_annotations.shape[0]\n",
    "    labels = np.zeros((frame_times_ms.shape[0],N)) # target label shape: Num Frames x N\n",
    "    for i in range(len(frame_times_ms)):\n",
    "        # Pad the last labels with 0 if the conversation has ended \n",
    "        if i + N > len(frame_times_ms):\n",
    "            concat = np.concatenate(\n",
    "                [voice_activity_annotations[i:],\n",
    "                 np.zeros(N - (len(frame_times_ms)-i))])\n",
    "            labels[i] = concat\n",
    "        else:\n",
    "            labels[i] = voice_activity_annotations[i:i+N]\n",
    "    labels_df = pd.DataFrame(labels) \n",
    "    labels_df.insert(0,\"frameTime\",frame_times_ms)\n",
    "    assert not labels_df.isnull().values.any()\n",
    "    return labels_df \n"
   ]
  },
  {
   "cell_type": "code",
   "execution_count": 7,
   "metadata": {},
   "outputs": [],
   "source": [
    "\n",
    "class Skantze2017VAPredictionMapTaskDataset(Dataset):\n",
    "    \"\"\"\n",
    "    Maptask dataset for voice activity annotation sequence prediction.  \n",
    "    NOTE: Needs a large amount of memory to load this. \n",
    "    \"\"\"\n",
    "\n",
    "    def __init__(self, feature_paths_map, sequence_length_ms, \n",
    "            prediction_length_ms, target_participant, frame_step_size_ms):\n",
    "        # Vars. \n",
    "        self.feature_paths_map = feature_paths_map \n",
    "        self.sequence_length_ms = sequence_length_ms \n",
    "        self.prediction_length_ms = prediction_length_ms \n",
    "        self.target_participant = target_participant \n",
    "        self.frame_step_size_ms = frame_step_size_ms \n",
    "        # Calculated \n",
    "        self.num_context_frames = int(sequence_length_ms / frame_step_size_ms)\n",
    "        self.num_target_frames = int(prediction_length_ms / frame_step_size_ms)\n",
    "        # Storage \n",
    "        self.xs = [] \n",
    "        self.ys = [] \n",
    "        for dialogue in list(self.feature_paths_map.keys()):\n",
    "            self.__load_data(dialogue)\n",
    "        assert len(self.xs) == len(self.ys)\n",
    "\n",
    "    def __len__(self):\n",
    "        return len(self.xs)\n",
    "    \n",
    "    def __getitem__(self, idx):\n",
    "        if idx > self.__len__():\n",
    "            raise Exception \n",
    "        return self.xs[idx], self.ys[idx]\n",
    "\n",
    "    def __load_data(self, dialogue):\n",
    "        s0_feature_df, s1_feature_df = self.__load_dataframes(dialogue)\n",
    "        # Extract the voice activity labels for s0 as the target labels\n",
    "        s0_target_labels_df = extract_voice_activity_labels(\n",
    "            s0_feature_df,self.num_target_frames)\n",
    "        # Make sure none of the dfs have any nan values \n",
    "        assert not s0_feature_df.isnull().values.any() and \\\n",
    "            not s1_feature_df.isnull().values.any() and \\\n",
    "            not s0_target_labels_df.isnull().values.any()\n",
    "        # Trim the dataframes to the same length \n",
    "        min_num_frames = np.min([len(s0_feature_df.index),len(s1_feature_df.index)])\n",
    "        s0_feature_df = s0_feature_df[:min_num_frames]\n",
    "        s1_feature_df = s1_feature_df[:min_num_frames]\n",
    "        s0_target_labels_df = s0_target_labels_df[:min_num_frames]\n",
    "        # Make sure they all have common frametimes\n",
    "        assert s0_feature_df['frameTime'].equals(s1_feature_df['frameTime'])\n",
    "        assert s0_feature_df['frameTime'].equals(s0_target_labels_df['frameTime'])\n",
    "        s0_s1_df = pd.concat([s0_feature_df,s1_feature_df],axis=1)     \n",
    "        assert not s0_s1_df.isnull().values.any()     \n",
    "        # Determine the number of sequences for this dialogue \n",
    "        num_sequences = int(np.floor(len(s0_feature_df.index))/self.num_context_frames)\n",
    "        for i in range(num_sequences):\n",
    "            x = np.asarray(s0_s1_df.loc[:,s0_s1_df.columns != 'frameTime'][i * \\\n",
    "                self.num_context_frames : (i * self.num_context_frames) \\\n",
    "                    + self.num_context_frames])\n",
    "            y = np.asarray(s0_target_labels_df.loc[:,s0_target_labels_df.columns\\\n",
    "                    != 'frameTime'][i * self.num_context_frames : \\\n",
    "                        (i * self.num_context_frames) + self.num_context_frames])[-1,:]\n",
    "            self.xs.append(x)\n",
    "            self.ys.append(y)\n",
    "\n",
    "    def __load_dataframes(self, dialogue):\n",
    "        if self.target_participant == \"f\":\n",
    "            s0_feature_df = pd.read_csv(self.feature_paths_map[dialogue][\"f\"], index_col=0,delimiter=\",\") \n",
    "            s1_feature_df = pd.read_csv(self.feature_paths_map[dialogue][\"g\"],index_col=0,delimiter=\",\")\n",
    "        else:\n",
    "            s0_feature_df = pd.read_csv(self.feature_paths_map[dialogue][\"g\"],index_col=0,delimiter=\",\") \n",
    "            s1_feature_df = pd.read_csv(self.feature_paths_map[dialogue][\"f\"],index_col=0,delimiter=\",\")\n",
    "        return s0_feature_df, s1_feature_df \n",
    "\n"
   ]
  },
  {
   "cell_type": "code",
   "execution_count": 9,
   "metadata": {},
   "outputs": [],
   "source": [
    "# NOTE:Seed worker can be used to ensure reproducibility in DataLoader \n",
    "# across runs. \n",
    "def seed_worker(worker_id):\n",
    "    worker_seed =GLOBAL_SEED\n",
    "    np.random.seed(worker_seed)\n",
    "    random.seed(worker_seed)\n",
    "\n",
    "def generate_dataloader(dataset, batch_size=32, shuffle=True, num_workers=0, \n",
    "        drop_last=True, pin_memory=True):\n",
    "    return DataLoader(\n",
    "        dataset, \n",
    "        batch_size=batch_size, \n",
    "        shuffle=shuffle, \n",
    "        num_workers=num_workers, \n",
    "        drop_last=drop_last, # We always want to remove the last incomplete batch. \n",
    "        pin_memory=pin_memory, \n",
    "        worker_init_fn=seed_worker)"
   ]
  },
  {
   "cell_type": "markdown",
   "metadata": {},
   "source": [
    "### MapTask Loading Saved Datasets "
   ]
  },
  {
   "cell_type": "code",
   "execution_count": 10,
   "metadata": {},
   "outputs": [],
   "source": [
    "from copy import deepcopy "
   ]
  },
  {
   "cell_type": "code",
   "execution_count": 11,
   "metadata": {},
   "outputs": [],
   "source": [
    "def load_saved_dataloader_util(feature_set):\n",
    "    \"\"\"\n",
    "    Loads the dataloader saved by the 2.0 notebook. \n",
    "    \"\"\"\n",
    "    load_dir = FULL_DATALOADER_DIR if feature_set == \"full\" else PROSODY_DATALOADER_DIR\n",
    "    dataloaders = [] \n",
    "    for dataset_name in ('train','val','test'):\n",
    "        path = \"{}/{}_dataloader_{}.pt\".format(load_dir, dataset_name, feature_set)\n",
    "        dataloader = torch.load(path)\n",
    "        dataloaders.append(deepcopy(dataloader))\n",
    "    return dataloaders"
   ]
  },
  {
   "cell_type": "markdown",
   "metadata": {},
   "source": [
    "### Skantze 2017 Model"
   ]
  },
  {
   "cell_type": "code",
   "execution_count": 12,
   "metadata": {},
   "outputs": [],
   "source": [
    "class Skantze2017LSTMPredictor(nn.Module):\n",
    "    # TODO: The seed parameter is used to make sure that the layer initializations \n",
    "    # are the same across runs for model comparison - this should probably be \n",
    "    # either refactored or replaced.  \n",
    "    def __init__(self, input_dim, hidden_dim, output_dim, layer_dim=1, seed=None):\n",
    "        super().__init__()\n",
    "        # Defining the vars. \n",
    "        self.input_dim = input_dim\n",
    "        self.hidden_dim = hidden_dim \n",
    "        self.output_dim = output_dim\n",
    "        self.layer_dim = layer_dim\n",
    "        # LSTM Layers\n",
    "        if seed != None:\n",
    "            torch.manual_seed(seed)\n",
    "        self.lstm = nn.LSTM(input_dim, hidden_dim,layer_dim,batch_first=True) #  tanh activation is the default. \n",
    "        # Fully connected layer\n",
    "        if seed != None:\n",
    "            torch.manual_seed(seed)\n",
    "        self.fc = nn.Linear(hidden_dim,output_dim,bias=True)\n",
    "        if seed != None:\n",
    "            torch.manual_seed(seed)\n",
    "        self.fc_activation = nn.Sigmoid()\n",
    "\n",
    "    def forward(self, x):\n",
    "        # Initialize the hidden states for first input with zeroes. \n",
    "        h0 = torch.zeros(self.layer_dim, x.size(0), self.hidden_dim).requires_grad_()\n",
    "        # Initialize the cell state for the first input with zeroes. \n",
    "        c0 = torch.zeros(self.layer_dim, x.size(0),self.hidden_dim).requires_grad_()\n",
    "\n",
    "        # TODO: Still need to implement TBPTT in the model for the last 10 seconds, \n",
    "        # which is what was done in the Skantze paper. \n",
    "\n",
    "        # We need to detach as we are doing truncated backpropagation through time (BPTT)\n",
    "        # If we don't, we'll backprop all the way to the start even after going through another batch\n",
    "        # Forward propagation by passing in the input, hidden state, and cell state into the model\n",
    "        out, (hn, cn) = self.lstm(x.float(),(h0.detach(), c0.detach()))\n",
    "\n",
    "        # Reshaping the outputs in the shape of (batch_size, seq_length, hidden_size)\n",
    "        # so that it can fit into the fully connected layer\n",
    "        out = out[:, -1, :] # Because we need the final output. \n",
    "        return self.fc_activation(self.fc(out))\n"
   ]
  },
  {
   "cell_type": "markdown",
   "metadata": {},
   "source": [
    "### General Training Utility Methods "
   ]
  },
  {
   "cell_type": "code",
   "execution_count": 13,
   "metadata": {},
   "outputs": [],
   "source": [
    "# Writing training loop for a single batch \n",
    "\n",
    "def train_step(model,optimizer, loss_fn, x, y):\n",
    "    # Make sure X type is correct. \n",
    "    x = x.type(torch.FloatTensor)\n",
    "    # NOTE: The input should not have any nans. \n",
    "    assert not torch.isnan(x).any()\n",
    "    model.train()\n",
    "    optimizer.zero_grad()\n",
    "    y_hat = model(x)\n",
    "    assert not torch.isnan(y_hat).any()\n",
    "    assert not torch.isnan(y).any()\n",
    "    loss = loss_fn(y,y_hat)\n",
    "    assert not torch.isnan(y).any()\n",
    "    loss.backward()\n",
    "    # nn.utils.clip_grad_norm_(model.parameters(),1.0)\n",
    "    optimizer.step()\n",
    "    return loss"
   ]
  },
  {
   "cell_type": "code",
   "execution_count": 14,
   "metadata": {},
   "outputs": [],
   "source": [
    "def validate_step(model, loss_fn, x,y):\n",
    "    with torch.no_grad():\n",
    "        model.eval()\n",
    "        y_hat = model(x)\n",
    "        loss = loss_fn(y,y_hat).item()\n",
    "        return loss \n"
   ]
  },
  {
   "cell_type": "code",
   "execution_count": 15,
   "metadata": {},
   "outputs": [],
   "source": [
    "def next_batch(dataloader):\n",
    "    # Loop over dataset \n",
    "    for x_batch ,y_batch in dataloader:\n",
    "        yield x_batch, y_batch \n",
    "    "
   ]
  },
  {
   "cell_type": "code",
   "execution_count": 16,
   "metadata": {},
   "outputs": [],
   "source": [
    "def train(model,optimizer, loss_fn,train_dataloader, val_dataloader, n_epochs,\n",
    "        validate_n_epochs=1,save_n_epochs=None, save_fn = None,\n",
    "        print_n_epochs=None):\n",
    "    # Set the model to training \n",
    "    model.train()\n",
    "\n",
    "    # Vars. to record results across training \n",
    "    training_losses = []\n",
    "    validation_losses = [] \n",
    "    \n",
    "    for epoch in range(1, n_epochs+1):\n",
    "        train_loss = 0.0 \n",
    "        samples = 0.0 \n",
    "\n",
    "        # Run the training batch \n",
    "        for batch_x, batch_y in next_batch(train_dataloader):\n",
    "            loss = train_step(model, optimizer,loss_fn,batch_x, batch_y)\n",
    "            # -- Updates loss etc. \n",
    "            train_loss += loss.item() * batch_y.size(0) \n",
    "            # TODO: Not sure if this is the correct way to get accuracy. \n",
    "            samples += batch_y.size(0)\n",
    "        training_losses.append(train_loss / samples)\n",
    "\n",
    "        # Run the validation batch\n",
    "        if epoch % validate_n_epochs == 0:\n",
    "            batch_val_losses = []\n",
    "            for batch_x, batch_y in next_batch(val_dataloader):\n",
    "                loss = validate_step(model, loss_fn,batch_x,batch_y)\n",
    "                batch_val_losses.append(loss) \n",
    "            validation_losses.append(np.mean(batch_val_losses))\n",
    "        else:\n",
    "            batch_val_losses = 0.0\n",
    "        \n",
    "        # Save the model if required. \n",
    "        if (save_n_epochs != None and epoch % save_n_epochs == 0 and save_fn != None) or \\\n",
    "                (save_fn != None and epoch == n_epochs):\n",
    "            info = {\n",
    "                \"epoch\" : epoch, \n",
    "                \"loss\" : train_loss/samples,\n",
    "                \"val_loss\" : np.mean(batch_val_losses)}\n",
    "            save_fn(model ,info)\n",
    "        # Print if needed \n",
    "        if print_n_epochs != None and epoch % print_n_epochs == 0:\n",
    "            print(f\"[{epoch}/{n_epochs}] Training loss: {train_loss/samples:.4f}\\t \\\n",
    "                Validation loss: {np.mean(batch_val_losses):.4f}\")\n",
    "\n",
    "    return training_losses, validation_losses\n"
   ]
  },
  {
   "cell_type": "markdown",
   "metadata": {},
   "source": [
    "### Skantze2017 Model Specific Training Utility Methods "
   ]
  },
  {
   "cell_type": "code",
   "execution_count": 17,
   "metadata": {},
   "outputs": [],
   "source": [
    "# Methods to save and load this specific model. \n",
    "\n",
    "import h5py \n",
    "\n",
    "def save_for_inference(save_path):\n",
    "    assert not os.path.isfile(save_path)\n",
    "    return lambda model, info: (\n",
    "        torch.save({\n",
    "            \"kwargs\" : {\n",
    "                \"input_dim\" : model.input_dim, \n",
    "                \"hidden_dim\" : model.hidden_dim,\n",
    "                \"output_dim\" : model.output_dim,\n",
    "                \"layer_dim\" : model.layer_dim}, \n",
    "            \"info\" : deepcopy(info),\n",
    "            \"model_state_dict\" : model.state_dict()}, save_path))\n",
    "    \n",
    "def load_for_inference(save_file_path):\n",
    "    assert os.path.isfile(save_file_path) \n",
    "    checkpoint = torch.load(save_file_path)\n",
    "    model = Skantze2017LSTMPredictor(**checkpoint[\"kwargs\"])\n",
    "    model.load_state_dict(checkpoint['model_state_dict'])\n",
    "    return model, checkpoint['info']\n",
    "\n",
    "\n",
    "def save_losses(save_dir, filename):\n",
    "    assert os.path.isdir(save_dir)\n",
    "    path = \"{}/{}.h5\".format(save_dir,filename)\n",
    "    hf : h5py.File = h5py.File(path,'w')\n",
    "\n",
    "    def h5_save_losses(grp_name, losses_dict):\n",
    "        grp = hf.create_group(grp_name)\n",
    "        for loss_name, losses in losses_dict.items():\n",
    "            # loss_name = np.asarray(losses) \n",
    "            grp.create_dataset(loss_name, data=losses)\n",
    "        \n",
    "    return hf, path, h5_save_losses\n",
    "\n"
   ]
  },
  {
   "cell_type": "markdown",
   "metadata": {},
   "source": [
    "### Skantze2017 Model Specific Testing Utility Methods "
   ]
  },
  {
   "cell_type": "code",
   "execution_count": 18,
   "metadata": {},
   "outputs": [],
   "source": [
    "def evaluate_skantze2017(model, test_dataloader):\n",
    "    loss_fn = nn.L1Loss()\n",
    "    losses = [] \n",
    "    va_losses = []\n",
    "    with torch.no_grad():\n",
    "        model.eval() \n",
    "        for x_batch, y_batch in next_batch(test_dataloader):\n",
    "            x_batch = x_batch.view([1, -1, x_batch.size(-1)])\n",
    "            y_hat = model(x_batch)\n",
    "            loss = loss_fn(y_hat, y_batch)\n",
    "            losses.append(loss) \n",
    "            nonzero_target_indices = np.nonzero(y_batch ==1)[:,1]\n",
    "            if len(nonzero_target_indices) > 0:\n",
    "                va_loss = loss_fn(\n",
    "                    y_hat[:,nonzero_target_indices], y_batch[:,nonzero_target_indices])\n",
    "                va_losses.append(va_loss)\n",
    "        return losses , va_losses\n",
    "            "
   ]
  },
  {
   "cell_type": "markdown",
   "metadata": {},
   "source": [
    "## Experiment 4.1: Visualizing Prediction performance"
   ]
  },
  {
   "cell_type": "markdown",
   "metadata": {},
   "source": [
    "The following should be varied to vary the results of this experiment:\n",
    "1. The data set from which the dataloaders are created. Since there is more voice activity for speaker g, that model is predicted to have a lower performance. \n",
    "\n",
    "\n"
   ]
  },
  {
   "cell_type": "code",
   "execution_count": 206,
   "metadata": {},
   "outputs": [],
   "source": [
    "# Parameters for the experiment \n",
    "MODEL_NAME = \"skantze2017\"\n",
    "FEATURE_SET = \"full\"\n",
    "NUM_HIDDEN_NODES = 40 \n",
    "TARGET_PARTICIPANT = \"f\"\n",
    "N_EPOCHS = 10\n",
    "SEQUENCE_LENGTHS_MS = [60_000]\n",
    "PREDICTION_LENGTHS_MS = [250, 500,1000,2000,3000]\n",
    "FRAME_STEP_SIZE_MS = 50 \n",
    "\n",
    "# Training args. \n",
    "PRINT_N_EPOCHS = 1 \n",
    "SAVE_N_EPOCHS = 1 \n",
    "LEARNING_RATE = 0.01 \n",
    "WEIGHT_DECAY = 0.001\n",
    "\n"
   ]
  },
  {
   "cell_type": "code",
   "execution_count": 207,
   "metadata": {},
   "outputs": [],
   "source": [
    "FEATURE_SET_DIR = FULL_PROCESSED_FEATURE_DIR if FEATURE_SET == \"full\" else PROSODY_PROCESSED_FEATURE_DIR"
   ]
  },
  {
   "cell_type": "code",
   "execution_count": 208,
   "metadata": {},
   "outputs": [],
   "source": [
    "# NOTE: This method needs to be redefined for experiment 4.1 \n",
    "def save_for_inference(save_dir,model_name):\n",
    "    assert os.path.isdir(save_dir)\n",
    "    return lambda model, info: (\n",
    "        torch.save({\n",
    "            \"kwargs\" : {\n",
    "                \"input_dim\" : model.input_dim, \n",
    "                \"hidden_dim\" : model.hidden_dim,\n",
    "                \"output_dim\" : model.output_dim,\n",
    "                \"layer_dim\" : model.layer_dim}, \n",
    "            \"info\" : deepcopy(info),\n",
    "            \"model_state_dict\" : model.state_dict()}, \n",
    "            os.path.join(save_dir, \"{}_{}.pt\".format(model_name, info['epoch']))))"
   ]
  },
  {
   "cell_type": "code",
   "execution_count": 209,
   "metadata": {},
   "outputs": [
    {
     "name": "stdout",
     "output_type": "stream",
     "text": [
      "76 20 32\n"
     ]
    }
   ],
   "source": [
    "# Get dialogue splits \n",
    "dataset_csv_paths =  glob.glob(\"{}/*.csv\".format(FEATURE_SET_DIR))\n",
    "train_dialogues, val_dialogues, test_dialogues = \\\n",
    "    get_train_val_test_dialogues(dataset_csv_paths)\n",
    "feature_paths_map =  \\\n",
    "    collect_dialogue_features(train_dialogues,FEATURE_SET_DIR)\n",
    "print(len(train_dialogues), len(val_dialogues), len(test_dialogues))\n"
   ]
  },
  {
   "cell_type": "code",
   "execution_count": 210,
   "metadata": {},
   "outputs": [],
   "source": [
    "from tqdm import tqdm "
   ]
  },
  {
   "cell_type": "code",
   "execution_count": 211,
   "metadata": {},
   "outputs": [
    {
     "name": "stdout",
     "output_type": "stream",
     "text": [
      "Running experiment:\n",
      "Max Epochs: 10\n",
      "Sequence length: 60000\n",
      "prediction length: 250\n",
      "Feature set: full\n",
      "Generating datasets...\n",
      "Generating dataloaders...\n",
      "Evaluating the untrained model for reference...\n",
      "Training models...\n",
      "[1/11] Training loss: 0.3553\t                 Validation loss: 0.1672\n",
      "[2/11] Training loss: 0.1352\t                 Validation loss: 0.1553\n",
      "[3/11] Training loss: 0.1483\t                 Validation loss: 0.1325\n",
      "[4/11] Training loss: 0.0822\t                 Validation loss: 0.1242\n",
      "[5/11] Training loss: 0.0829\t                 Validation loss: 0.1114\n",
      "[6/11] Training loss: 0.0441\t                 Validation loss: 0.1080\n",
      "[7/11] Training loss: 0.0420\t                 Validation loss: 0.1093\n",
      "[8/11] Training loss: 0.0338\t                 Validation loss: 0.1123\n",
      "[9/11] Training loss: 0.0434\t                 Validation loss: 0.1128\n",
      "[10/11] Training loss: 0.0595\t                 Validation loss: 0.1282\n",
      "[11/11] Training loss: 0.0664\t                 Validation loss: 0.1080\n",
      "Evaluating models...\n"
     ]
    },
    {
     "name": "stderr",
     "output_type": "stream",
     "text": [
      "100%|██████████| 11/11 [00:50<00:00,  4.60s/it]\n"
     ]
    },
    {
     "name": "stdout",
     "output_type": "stream",
     "text": [
      "Running experiment:\n",
      "Max Epochs: 10\n",
      "Sequence length: 60000\n",
      "prediction length: 500\n",
      "Feature set: full\n",
      "Generating datasets...\n",
      "Generating dataloaders...\n",
      "Evaluating the untrained model for reference...\n",
      "Training models...\n",
      "[1/11] Training loss: 0.3413\t                 Validation loss: 0.2226\n",
      "[2/11] Training loss: 0.1956\t                 Validation loss: 0.2038\n",
      "[3/11] Training loss: 0.1436\t                 Validation loss: 0.1932\n",
      "[4/11] Training loss: 0.1249\t                 Validation loss: 0.1804\n",
      "[5/11] Training loss: 0.1217\t                 Validation loss: 0.1748\n",
      "[6/11] Training loss: 0.1019\t                 Validation loss: 0.1762\n",
      "[7/11] Training loss: 0.1000\t                 Validation loss: 0.1684\n",
      "[8/11] Training loss: 0.0846\t                 Validation loss: 0.1706\n",
      "[9/11] Training loss: 0.0737\t                 Validation loss: 0.1706\n",
      "[10/11] Training loss: 0.0962\t                 Validation loss: 0.1700\n",
      "[11/11] Training loss: 0.1103\t                 Validation loss: 0.1682\n",
      "Evaluating models...\n"
     ]
    },
    {
     "name": "stderr",
     "output_type": "stream",
     "text": [
      "100%|██████████| 11/11 [00:49<00:00,  4.47s/it]\n"
     ]
    },
    {
     "name": "stdout",
     "output_type": "stream",
     "text": [
      "Running experiment:\n",
      "Max Epochs: 10\n",
      "Sequence length: 60000\n",
      "prediction length: 1000\n",
      "Feature set: full\n",
      "Generating datasets...\n",
      "Generating dataloaders...\n",
      "Evaluating the untrained model for reference...\n",
      "Training models...\n",
      "[1/11] Training loss: 0.3893\t                 Validation loss: 0.2301\n",
      "[2/11] Training loss: 0.2865\t                 Validation loss: 0.2253\n",
      "[3/11] Training loss: 0.1814\t                 Validation loss: 0.2214\n",
      "[4/11] Training loss: 0.2194\t                 Validation loss: 0.2180\n",
      "[5/11] Training loss: 0.1812\t                 Validation loss: 0.2185\n",
      "[6/11] Training loss: 0.1737\t                 Validation loss: 0.2092\n",
      "[7/11] Training loss: 0.1553\t                 Validation loss: 0.2214\n",
      "[8/11] Training loss: 0.1747\t                 Validation loss: 0.2072\n",
      "[9/11] Training loss: 0.1691\t                 Validation loss: 0.2098\n",
      "[10/11] Training loss: 0.1435\t                 Validation loss: 0.2056\n",
      "[11/11] Training loss: 0.1392\t                 Validation loss: 0.2032\n",
      "Evaluating models...\n"
     ]
    },
    {
     "name": "stderr",
     "output_type": "stream",
     "text": [
      "100%|██████████| 11/11 [00:51<00:00,  4.64s/it]\n"
     ]
    },
    {
     "name": "stdout",
     "output_type": "stream",
     "text": [
      "Running experiment:\n",
      "Max Epochs: 10\n",
      "Sequence length: 60000\n",
      "prediction length: 2000\n",
      "Feature set: full\n",
      "Generating datasets...\n",
      "Generating dataloaders...\n",
      "Evaluating the untrained model for reference...\n",
      "Training models...\n",
      "[1/11] Training loss: 0.3457\t                 Validation loss: 0.2209\n",
      "[2/11] Training loss: 0.2356\t                 Validation loss: 0.2212\n",
      "[3/11] Training loss: 0.2234\t                 Validation loss: 0.2194\n",
      "[4/11] Training loss: 0.2084\t                 Validation loss: 0.2218\n",
      "[5/11] Training loss: 0.2080\t                 Validation loss: 0.2212\n",
      "[6/11] Training loss: 0.2136\t                 Validation loss: 0.2217\n",
      "[7/11] Training loss: 0.2187\t                 Validation loss: 0.2217\n",
      "[8/11] Training loss: 0.2326\t                 Validation loss: 0.2211\n",
      "[9/11] Training loss: 0.2121\t                 Validation loss: 0.2186\n",
      "[10/11] Training loss: 0.2173\t                 Validation loss: 0.2209\n",
      "[11/11] Training loss: 0.2120\t                 Validation loss: 0.2193\n",
      "Evaluating models...\n"
     ]
    },
    {
     "name": "stderr",
     "output_type": "stream",
     "text": [
      "100%|██████████| 11/11 [00:51<00:00,  4.65s/it]\n"
     ]
    },
    {
     "name": "stdout",
     "output_type": "stream",
     "text": [
      "Running experiment:\n",
      "Max Epochs: 10\n",
      "Sequence length: 60000\n",
      "prediction length: 3000\n",
      "Feature set: full\n",
      "Generating datasets...\n",
      "Generating dataloaders...\n",
      "Evaluating the untrained model for reference...\n",
      "Training models...\n",
      "[1/11] Training loss: 0.3977\t                 Validation loss: 0.2164\n",
      "[2/11] Training loss: 0.2698\t                 Validation loss: 0.2225\n",
      "[3/11] Training loss: 0.2365\t                 Validation loss: 0.2132\n",
      "[4/11] Training loss: 0.2396\t                 Validation loss: 0.2149\n",
      "[5/11] Training loss: 0.2481\t                 Validation loss: 0.2169\n",
      "[6/11] Training loss: 0.2259\t                 Validation loss: 0.2155\n",
      "[7/11] Training loss: 0.2340\t                 Validation loss: 0.2136\n",
      "[8/11] Training loss: 0.2314\t                 Validation loss: 0.2154\n",
      "[9/11] Training loss: 0.2378\t                 Validation loss: 0.2150\n",
      "[10/11] Training loss: 0.2444\t                 Validation loss: 0.2167\n",
      "[11/11] Training loss: 0.2489\t                 Validation loss: 0.2152\n",
      "Evaluating models...\n"
     ]
    },
    {
     "name": "stderr",
     "output_type": "stream",
     "text": [
      "100%|██████████| 11/11 [00:53<00:00,  4.88s/it]\n"
     ]
    }
   ],
   "source": [
    "# --- Training models for the experiment. \n",
    "\n",
    "# Creating the loss save function \n",
    "hf, hf_save_path, save_loss_fn= save_losses(SAVE_MODELS_DIR, \"exp_4.1\")\n",
    "\n",
    "for sequence_length_ms in SEQUENCE_LENGTHS_MS:\n",
    "    for prediction_length_ms in PREDICTION_LENGTHS_MS:\n",
    "        print(\"Running experiment:\\nMax Epochs: {}\\nSequence length: {}\\n\"\\\n",
    "                    \"prediction length: {}\\nFeature set: {}\".format(\n",
    "                        N_EPOCHS,sequence_length_ms,\n",
    "                        prediction_length_ms, FEATURE_SET))\n",
    "        # Create the save dir / func for this config. \n",
    "        exp_config_name =  \"{}_{}_{}_{}\".format(sequence_length_ms,\n",
    "                    prediction_length_ms,FEATURE_SET,N_EPOCHS)\n",
    "        save_models_dir = os.path.join(SAVE_MODELS_DIR,exp_config_name)\n",
    "        os.makedirs(save_models_dir,exist_ok=True)\n",
    "        save_fn = save_for_inference(save_models_dir,MODEL_NAME)\n",
    "        # Generate the datasets \n",
    "        print(\"Generating datasets...\")\n",
    "        datasets = [] \n",
    "        for dialogues in (train_dialogues, val_dialogues, test_dialogues):\n",
    "            dataset = Skantze2017VAPredictionMapTaskDataset(\n",
    "                feature_paths_map=collect_dialogue_features(\n",
    "                                        dialogues,FEATURE_SET_DIR), \n",
    "                sequence_length_ms=sequence_length_ms, \n",
    "                prediction_length_ms=prediction_length_ms, \n",
    "                target_participant=TARGET_PARTICIPANT, \n",
    "                frame_step_size_ms=FRAME_STEP_SIZE_MS)\n",
    "            datasets.append(deepcopy(dataset))\n",
    "        # Generate the dataloaders \n",
    "        print(\"Generating dataloaders...\")\n",
    "        dataloaders = [] \n",
    "        for i, (dataset_name, batch_size) in enumerate(\n",
    "            zip(('train','val','test'),(32,32,1))):\n",
    "            dataloader = generate_dataloader(datasets[i],batch_size=batch_size)\n",
    "            dataloaders.append(dataloader)\n",
    "        # --- Initialize the model for training \n",
    "        model = Skantze2017LSTMPredictor(\n",
    "            input_dim=next(iter(datasets[0]))[0].shape[-1],\n",
    "            hidden_dim=NUM_HIDDEN_NODES , \n",
    "            output_dim=int(prediction_length_ms/FRAME_STEP_SIZE_MS))\n",
    "        loss_fn = nn.L1Loss()\n",
    "        optimizer = torch.optim.RMSprop(\n",
    "            model.parameters(),lr=LEARNING_RATE,weight_decay=WEIGHT_DECAY)\n",
    "        # -- Save the eval loss of the untrained model \n",
    "        print(\"Evaluating the untrained model for reference...\")\n",
    "        per_epoch_eval_losses = []\n",
    "        l1_losses, _ = evaluate_skantze2017(model, dataloaders[-1])\n",
    "        per_epoch_eval_losses.append(np.mean(l1_losses))\n",
    "        # -- Start training \n",
    "        print(\"Training models...\")\n",
    "        training_losses, val_losses = train(\n",
    "            model,optimizer, loss_fn,dataloaders[0], dataloaders[1], \n",
    "            n_epochs=N_EPOCHS+1, print_n_epochs=PRINT_N_EPOCHS,\n",
    "            save_fn=save_fn,save_n_epochs=SAVE_N_EPOCHS)\n",
    "        # -- Evaluate the models \n",
    "        # The evaluation is the average evaluation loss for models trained \n",
    "        # utpo epoch N. \n",
    "        print(\"Evaluating models...\")\n",
    "        model_paths = sorted(glob.glob(\"{}/*.pt\".format(save_models_dir))) \n",
    "        for model_path in tqdm(model_paths):\n",
    "            model, info = load_for_inference(model_path)\n",
    "            model.eval()\n",
    "            l1_losses, _ = evaluate_skantze2017(model, dataloaders[-1])\n",
    "            per_epoch_eval_losses.append(np.mean(l1_losses))\n",
    "        # Save losses for the final epoch of this configuration.\n",
    "        # NOTE: These losses are the per epoch loss for every epoch. \n",
    "        save_loss_fn(\n",
    "            exp_config_name, {\n",
    "                \"per_epoch_training\" : training_losses, \n",
    "                \"per_epoch_validation\" : val_losses, \n",
    "                \"per_epoch_eval\" : per_epoch_eval_losses})\n",
    "hf.close()\n",
    "        "
   ]
  },
  {
   "cell_type": "code",
   "execution_count": 212,
   "metadata": {},
   "outputs": [],
   "source": [
    "from collections import defaultdict"
   ]
  },
  {
   "cell_type": "code",
   "execution_count": 213,
   "metadata": {},
   "outputs": [
    {
     "data": {
      "image/png": "[encoded data removed]",
      "text/plain": [
       "<Figure size 432x288 with 1 Axes>"
      ]
     },
     "metadata": {
      "needs_background": "light"
     },
     "output_type": "display_data"
    },
    {
     "name": "stdout",
     "output_type": "stream",
     "text": [
      "Saving figure Exp-4.1-Figure-3-full\n"
     ]
    },
    {
     "data": {
      "text/plain": [
       "<Figure size 432x288 with 0 Axes>"
      ]
     },
     "metadata": {},
     "output_type": "display_data"
    }
   ],
   "source": [
    "with h5py.File(hf_save_path,'r') as hf:\n",
    "    keys = list(hf.keys())\n",
    "    keys.sort(key=lambda grp_name : int(grp_name.split('_')[1]))\n",
    "    plt.figure()\n",
    "    for desc in keys:\n",
    "        per_epoch_eval_losses = np.asarray(hf[desc][\"per_epoch_training\"])\n",
    "        plt.plot(per_epoch_eval_losses, label=desc) \n",
    "    plt.title(\"Prediction performance - {} Feature Set\".format(FEATURE_SET))\n",
    "    plt.xlabel(\"Epochs Trained\")\n",
    "    plt.ylabel(\"Mean Absolute Error\")\n",
    "    plt.legend()\n",
    "    plt.show()\n",
    "    save_fig(REPORTS_DIR,\"Exp-4.1-Figure-3-{}\".format(FEATURE_SET)) "
   ]
  },
  {
   "cell_type": "code",
   "execution_count": null,
   "metadata": {},
   "outputs": [],
   "source": []
  },
  {
   "cell_type": "code",
   "execution_count": null,
   "metadata": {},
   "outputs": [],
   "source": []
  },
  {
   "cell_type": "code",
   "execution_count": null,
   "metadata": {},
   "outputs": [],
   "source": []
  }
 ],
 "metadata": {
  "kernelspec": {
   "display_name": "Python 3.8.13 ('trp')",
   "language": "python",
   "name": "python3"
  },
  "language_info": {
   "codemirror_mode": {
    "name": "ipython",
    "version": 3
   },
   "file_extension": ".py",
   "mimetype": "text/x-python",
   "name": "python",
   "nbconvert_exporter": "python",
   "pygments_lexer": "ipython3",
   "version": "3.8.13"
  },
  "orig_nbformat": 4,
  "vscode": {
   "interpreter": {
    "hash": "a2304c455ac551f7a45279e05896e7a6c75d8c847965e97ef85e853390a9b358"
   }
  }
 },
 "nbformat": 4,
 "nbformat_minor": 2
}
