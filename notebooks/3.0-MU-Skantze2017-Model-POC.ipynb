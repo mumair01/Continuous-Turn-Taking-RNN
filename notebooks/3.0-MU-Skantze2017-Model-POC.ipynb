{
 "cells": [
  {
   "cell_type": "markdown",
   "metadata": {},
   "source": [
    "# About \n",
    "\n",
    "This notebook is intended to be a POC for the Skantze2017 LSTM RNN. "
   ]
  },
  {
   "cell_type": "markdown",
   "metadata": {},
   "source": [
    "## Setup "
   ]
  },
  {
   "cell_type": "code",
   "execution_count": 1,
   "metadata": {},
   "outputs": [],
   "source": [
    " # Download libraries for environment. \n",
    "\n",
    "import sys \n",
    "import os \n",
    "\n",
    "# Env. vars to check if the notebook is running on colab, kaggle etc. \n",
    "IS_COLAB = \"google.colab\" in sys.modules \n",
    "IS_KAGGLE = \"kaggle_secrets\" in sys.modules \n",
    "IS_LOCAL = not (IS_COLAB or IS_KAGGLE)\n",
    "\n",
    "if IS_COLAB:\n",
    "    # Install the packages \n",
    "    %pip install -q -U tensorflow-addons\n",
    "    %pip install -q -U transformers\n",
    "    %pip install -q -U datasets\n",
    "    print(\"You can safely ignore the package incompatibility errors.\")\n",
    "    # Mount the drive \n",
    "    from google.colab import drive \n",
    "    drive.mount(\"/drive\")"
   ]
  },
  {
   "cell_type": "code",
   "execution_count": 33,
   "metadata": {},
   "outputs": [],
   "source": [
    "\n",
    "import os\n",
    "import pandas as pd\n",
    "import numpy as np\n",
    "from copy import deepcopy \n",
    "\n",
    "import random \n",
    "import shutil \n",
    "# Scikit-Learn ≥0.20 is required\n",
    "import sklearn\n",
    "assert sklearn.__version__ >= \"0.20\"\n",
    "\n",
    "\n",
    "# Pytorch imports \n",
    "import torch\n",
    "import torch.nn as nn \n",
    "from torch.utils.data import Dataset, DataLoader\n",
    "\n",
    "# Others \n",
    "import glob \n",
    "\n",
    "# To plot pretty figures\n",
    "%matplotlib inline\n",
    "import matplotlib as mpl\n",
    "import matplotlib.pyplot as plt\n",
    "mpl.rc('axes', labelsize=14)\n",
    "mpl.rc('xtick', labelsize=12)\n",
    "mpl.rc('ytick', labelsize=12)\n",
    "\n",
    "\n"
   ]
  },
  {
   "cell_type": "code",
   "execution_count": 3,
   "metadata": {},
   "outputs": [],
   "source": [
    "# --  Set environment global vars. \n",
    "\n",
    "# Shared env. vars. \n",
    "GLOBAL_SEED = 42 \n",
    "IS_CUDA_ENV = torch.cuda.is_available()\n",
    "GLOBAL_DEVICE = torch.device('cuda') if IS_CUDA_ENV else torch.device('cpu')\n",
    "SET_SEED = True # If true, sets the global seeds for this notebook. \n",
    "LIMITED_RESOURCES = not IS_CUDA_ENV\n",
    "\n",
    "if LIMITED_RESOURCES:\n",
    "    SMALL_DATASET_SIZE = 10\n",
    "\n",
    "if IS_COLAB:\n",
    "    LIMITED_RESOURCES = False \n",
    "   "
   ]
  },
  {
   "cell_type": "code",
   "execution_count": 4,
   "metadata": {},
   "outputs": [],
   "source": [
    "# Configuring env. \n",
    "if SET_SEED:\n",
    "    # to make this notebook's output stable across runs\n",
    "    np.random.seed(GLOBAL_SEED) \n",
    "    torch.manual_seed(GLOBAL_SEED)"
   ]
  },
  {
   "cell_type": "code",
   "execution_count": 30,
   "metadata": {},
   "outputs": [],
   "source": [
    "# Project Paths\n",
    "NOTEBOOK_NAME = \"skantze2017_model_poc\"\n",
    "PROJECT_ROOT_DIR = \"/Users/muhammadumair/Documents/Repositories/mumair01-repos/TRP-Modeling/skantze_2017_continuous\" \n",
    "# --- Input data dirs. \n",
    "\n",
    "FULL_DATALOADER_DIR = os.path.join(PROJECT_ROOT_DIR, \"data\",\"processed\", \"skantze2017_maptask_dataset_poc\",\"full\")\n",
    "PROSODY_DATALOADER_DIR = os.path.join(PROJECT_ROOT_DIR, \"data\",\"processed\", \"skantze2017_maptask_dataset_poc\",\"prosody\")\n",
    "\n",
    "# --- Result dirs. \n",
    "# NOTE: The model dir will have to change depending on where the models are stored. \n",
    "REPORTS_DIR = os.path.join(PROJECT_ROOT_DIR,\"reports\",NOTEBOOK_NAME)\n",
    "SAVE_MODELS_DIR =  os.path.join(PROJECT_ROOT_DIR,\"models\",NOTEBOOK_NAME)\n",
    "\n",
    "os.makedirs(REPORTS_DIR,exist_ok=True)\n",
    "os.makedirs(SAVE_MODELS_DIR,exist_ok=True)\n"
   ]
  },
  {
   "cell_type": "markdown",
   "metadata": {},
   "source": [
    "## Datasets and DataLoader \n"
   ]
  },
  {
   "cell_type": "markdown",
   "metadata": {},
   "source": [
    "### MapTask Dataclass and Method Definitions \n",
    "\n",
    "These are required to be in the same notebook to be loaded. \n",
    "\n",
    "\n",
    "NOTE: **DO NOT** modify these here, refer to 2.0-MU-Skantze-MapTask-Dataset-POC"
   ]
  },
  {
   "cell_type": "code",
   "execution_count": 6,
   "metadata": {},
   "outputs": [],
   "source": [
    "def extract_voice_activity_labels(feature_df, N):\n",
    "    # TODO: FIx the delimiter \n",
    "    feature_df = feature_df[[\"frameTime\",\"voiceActivity\"]]\n",
    "    assert not feature_df.isnull().values.any()\n",
    "    frame_times_ms = np.asarray(feature_df[\"frameTime\"])\n",
    "    voice_activity_annotations = np.asarray(feature_df[\"voiceActivity\"])\n",
    "    assert frame_times_ms.shape[0] == voice_activity_annotations.shape[0]\n",
    "    labels = np.zeros((frame_times_ms.shape[0],N)) # target label shape: Num Frames x N\n",
    "    for i in range(len(frame_times_ms)):\n",
    "        # Pad the last labels with 0 if the conversation has ended \n",
    "        if i + N > len(frame_times_ms):\n",
    "            concat = np.concatenate(\n",
    "                [voice_activity_annotations[i:],\n",
    "                 np.zeros(N - (len(frame_times_ms)-i))])\n",
    "            labels[i] = concat\n",
    "        else:\n",
    "            labels[i] = voice_activity_annotations[i:i+N]\n",
    "    labels_df = pd.DataFrame(labels) \n",
    "    labels_df.insert(0,\"frameTime\",frame_times_ms)\n",
    "    assert not labels_df.isnull().values.any()\n",
    "    return labels_df \n"
   ]
  },
  {
   "cell_type": "code",
   "execution_count": 7,
   "metadata": {},
   "outputs": [],
   "source": [
    "\n",
    "class Skantze2017VAPredictionMapTaskDataset(Dataset):\n",
    "    \"\"\"\n",
    "    Maptask dataset for voice activity annotation sequence prediction.  \n",
    "    NOTE: Needs a large amount of memory to load this. \n",
    "    \"\"\"\n",
    "\n",
    "    def __init__(self, feature_paths_map, sequence_length_ms, \n",
    "            prediction_length_ms, target_participant, frame_step_size_ms):\n",
    "        # Vars. \n",
    "        self.feature_paths_map = feature_paths_map \n",
    "        self.sequence_length_ms = sequence_length_ms \n",
    "        self.prediction_length_ms = prediction_length_ms \n",
    "        self.target_participant = target_participant \n",
    "        self.frame_step_size_ms = frame_step_size_ms \n",
    "        # Calculated \n",
    "        self.num_context_frames = int(sequence_length_ms / frame_step_size_ms)\n",
    "        self.num_target_frames = int(prediction_length_ms / frame_step_size_ms)\n",
    "        # Storage \n",
    "        self.xs = [] \n",
    "        self.ys = [] \n",
    "        for dialogue in list(self.feature_paths_map.keys()):\n",
    "            self.__load_data(dialogue)\n",
    "        assert len(self.xs) == len(self.ys)\n",
    "\n",
    "    def __len__(self):\n",
    "        return len(self.xs)\n",
    "    \n",
    "    def __getitem__(self, idx):\n",
    "        if idx > self.__len__():\n",
    "            raise Exception \n",
    "        return self.xs[idx], self.ys[idx]\n",
    "\n",
    "    def __load_data(self, dialogue):\n",
    "        s0_feature_df, s1_feature_df = self.__load_dataframes(dialogue)\n",
    "        # Extract the voice activity labels for s0 as the target labels\n",
    "        s0_target_labels_df = extract_voice_activity_labels(\n",
    "            s0_feature_df,self.num_target_frames)\n",
    "        # Make sure none of the dfs have any nan values \n",
    "        assert not s0_feature_df.isnull().values.any() and \\\n",
    "            not s1_feature_df.isnull().values.any() and \\\n",
    "            not s0_target_labels_df.isnull().values.any()\n",
    "        # Trim the dataframes to the same length \n",
    "        min_num_frames = np.min([len(s0_feature_df.index),len(s1_feature_df.index)])\n",
    "        s0_feature_df = s0_feature_df[:min_num_frames]\n",
    "        s1_feature_df = s1_feature_df[:min_num_frames]\n",
    "        s0_target_labels_df = s0_target_labels_df[:min_num_frames]\n",
    "        # Make sure they all have common frametimes\n",
    "        assert s0_feature_df['frameTime'].equals(s1_feature_df['frameTime'])\n",
    "        assert s0_feature_df['frameTime'].equals(s0_target_labels_df['frameTime'])\n",
    "        s0_s1_df = pd.concat([s0_feature_df,s1_feature_df],axis=1)     \n",
    "        assert not s0_s1_df.isnull().values.any()     \n",
    "        # Determine the number of sequences for this dialogue \n",
    "        num_sequences = int(np.floor(len(s0_feature_df.index))/self.num_context_frames)\n",
    "        for i in range(num_sequences):\n",
    "            x = np.asarray(s0_s1_df.loc[:,s0_s1_df.columns != 'frameTime'][i * \\\n",
    "                self.num_context_frames : (i * self.num_context_frames) \\\n",
    "                    + self.num_context_frames])\n",
    "            y = np.asarray(s0_target_labels_df.loc[:,s0_target_labels_df.columns\\\n",
    "                    != 'frameTime'][i * self.num_context_frames : \\\n",
    "                        (i * self.num_context_frames) + self.num_context_frames])[-1,:]\n",
    "            self.xs.append(x)\n",
    "            self.ys.append(y)\n",
    "\n",
    "    def __load_dataframes(self, dialogue):\n",
    "        if self.target_participant == \"f\":\n",
    "            s0_feature_df = pd.read_csv(self.feature_paths_map[dialogue][\"f\"], index_col=0,delimiter=\",\") \n",
    "            s1_feature_df = pd.read_csv(self.feature_paths_map[dialogue][\"g\"],index_col=0,delimiter=\",\")\n",
    "        else:\n",
    "            s0_feature_df = pd.read_csv(self.feature_paths_map[dialogue][\"g\"],index_col=0,delimiter=\",\") \n",
    "            s1_feature_df = pd.read_csv(self.feature_paths_map[dialogue][\"f\"],index_col=0,delimiter=\",\")\n",
    "        return s0_feature_df, s1_feature_df \n",
    "\n"
   ]
  },
  {
   "cell_type": "code",
   "execution_count": 8,
   "metadata": {},
   "outputs": [],
   "source": [
    "import random "
   ]
  },
  {
   "cell_type": "code",
   "execution_count": 9,
   "metadata": {},
   "outputs": [],
   "source": [
    "# NOTE:Seed worker can be used to ensure reproducibility in DataLoader \n",
    "# across runs. \n",
    "def seed_worker(worker_id):\n",
    "    worker_seed =GLOBAL_SEED\n",
    "    np.random.seed(worker_seed)\n",
    "    random.seed(worker_seed)\n",
    "\n",
    "def generate_dataloader(dataset, batch_size=32, shuffle=True, num_workers=0, \n",
    "        drop_last=True, pin_memory=True):\n",
    "    return DataLoader(\n",
    "        dataset, \n",
    "        batch_size=batch_size, \n",
    "        shuffle=shuffle, \n",
    "        num_workers=num_workers, \n",
    "        drop_last=drop_last, # We always want to remove the last incomplete batch. \n",
    "        pin_memory=pin_memory, \n",
    "        worker_init_fn=seed_worker)"
   ]
  },
  {
   "cell_type": "markdown",
   "metadata": {},
   "source": [
    "### MapTask Loading Saved Datasets "
   ]
  },
  {
   "cell_type": "code",
   "execution_count": null,
   "metadata": {},
   "outputs": [],
   "source": [
    "from copy import deepcopy "
   ]
  },
  {
   "cell_type": "code",
   "execution_count": 22,
   "metadata": {},
   "outputs": [],
   "source": [
    "def load_saved_dataloader_util(feature_set):\n",
    "    \"\"\"\n",
    "    Loads the dataloader saved by the 2.0 notebook. \n",
    "    \"\"\"\n",
    "    load_dir = FULL_DATALOADER_DIR if feature_set == \"full\" else PROSODY_DATALOADER_DIR\n",
    "    dataloaders = [] \n",
    "    for dataset_name in ('train','val','test'):\n",
    "        path = \"{}/{}_dataloader_{}.pt\".format(load_dir, dataset_name, feature_set)\n",
    "        dataloader = torch.load(path)\n",
    "        dataloaders.append(deepcopy(dataloader))\n",
    "    return dataloaders"
   ]
  },
  {
   "cell_type": "markdown",
   "metadata": {},
   "source": [
    "## Skantze 2017 Model"
   ]
  },
  {
   "cell_type": "code",
   "execution_count": 11,
   "metadata": {},
   "outputs": [],
   "source": [
    "class Skantze2017LSTMPredictor(nn.Module):\n",
    "    # TODO: The seed parameter is used to make sure that the layer initializations \n",
    "    # are the same across runs for model comparison - this should probably be \n",
    "    # either refactored or replaced.  \n",
    "    def __init__(self, input_dim, hidden_dim, output_dim, layer_dim=1, seed=None):\n",
    "        super().__init__()\n",
    "        # Defining the vars. \n",
    "        self.input_dim = input_dim\n",
    "        self.hidden_dim = hidden_dim \n",
    "        self.output_dim = output_dim\n",
    "        self.layer_dim = layer_dim\n",
    "        # LSTM Layers\n",
    "        if seed != None:\n",
    "            torch.manual_seed(seed)\n",
    "        self.lstm = nn.LSTM(input_dim, hidden_dim,layer_dim,batch_first=True) #  tanh activation is the default. \n",
    "        # Fully connected layer\n",
    "        if seed != None:\n",
    "            torch.manual_seed(seed)\n",
    "        self.fc = nn.Linear(hidden_dim,output_dim,bias=True)\n",
    "        if seed != None:\n",
    "            torch.manual_seed(seed)\n",
    "        self.fc_activation = nn.Sigmoid()\n",
    "\n",
    "    def forward(self, x):\n",
    "        # Initialize the hidden states for first input with zeroes. \n",
    "        h0 = torch.zeros(self.layer_dim, x.size(0), self.hidden_dim).requires_grad_()\n",
    "        # Initialize the cell state for the first input with zeroes. \n",
    "        c0 = torch.zeros(self.layer_dim, x.size(0),self.hidden_dim).requires_grad_()\n",
    "\n",
    "        # TODO: Still need to implement TBPTT in the model for the last 10 seconds, \n",
    "        # which is what was done in the Skantze paper. \n",
    "\n",
    "        # We need to detach as we are doing truncated backpropagation through time (BPTT)\n",
    "        # If we don't, we'll backprop all the way to the start even after going through another batch\n",
    "        # Forward propagation by passing in the input, hidden state, and cell state into the model\n",
    "        out, (hn, cn) = self.lstm(x.float(),(h0.detach(), c0.detach()))\n",
    "\n",
    "        # Reshaping the outputs in the shape of (batch_size, seq_length, hidden_size)\n",
    "        # so that it can fit into the fully connected layer\n",
    "        out = out[:, -1, :] # Because we need the final output. \n",
    "        return self.fc_activation(self.fc(out))\n"
   ]
  },
  {
   "cell_type": "code",
   "execution_count": 12,
   "metadata": {},
   "outputs": [],
   "source": [
    "model = Skantze2017LSTMPredictor(\n",
    "    input_dim=130, \n",
    "    hidden_dim=40, \n",
    "    output_dim=60)"
   ]
  },
  {
   "cell_type": "markdown",
   "metadata": {},
   "source": [
    "## Training"
   ]
  },
  {
   "cell_type": "markdown",
   "metadata": {},
   "source": [
    "### Training Utility Methods "
   ]
  },
  {
   "cell_type": "code",
   "execution_count": 13,
   "metadata": {},
   "outputs": [],
   "source": [
    "# Writing training loop for a single batch \n",
    "\n",
    "def train_step(model,optimizer, loss_fn, x, y):\n",
    "    # Make sure X type is correct. \n",
    "    x = x.type(torch.FloatTensor)\n",
    "    # NOTE: The input should not have any nans. \n",
    "    assert not torch.isnan(x).any()\n",
    "    model.train()\n",
    "    optimizer.zero_grad()\n",
    "    y_hat = model(x)\n",
    "    assert not torch.isnan(y_hat).any()\n",
    "    assert not torch.isnan(y).any()\n",
    "    loss = loss_fn(y,y_hat)\n",
    "    assert not torch.isnan(y).any()\n",
    "    loss.backward()\n",
    "    # nn.utils.clip_grad_norm_(model.parameters(),1.0)\n",
    "    optimizer.step()\n",
    "    return loss"
   ]
  },
  {
   "cell_type": "code",
   "execution_count": 14,
   "metadata": {},
   "outputs": [],
   "source": [
    "def validate_step(model, loss_fn, x,y):\n",
    "    with torch.no_grad():\n",
    "        model.eval()\n",
    "        y_hat = model(x)\n",
    "        loss = loss_fn(y,y_hat).item()\n",
    "        return loss \n"
   ]
  },
  {
   "cell_type": "code",
   "execution_count": 15,
   "metadata": {},
   "outputs": [],
   "source": [
    "def next_batch(dataloader):\n",
    "    # Loop over dataset \n",
    "    for x_batch ,y_batch in dataloader:\n",
    "        yield x_batch, y_batch \n",
    "    "
   ]
  },
  {
   "cell_type": "code",
   "execution_count": 16,
   "metadata": {},
   "outputs": [],
   "source": [
    "def train(model,optimizer, loss_fn,train_dataloader, val_dataloader, n_epochs,\n",
    "        validate_n_epochs=1,save_n_epochs=None, save_fn = None,\n",
    "        print_n_epochs=None):\n",
    "    # Set the model to training \n",
    "    model.train()\n",
    "\n",
    "    # Vars. to record results across training \n",
    "    training_losses = []\n",
    "    validation_losses = [] \n",
    "    \n",
    "    for epoch in range(1, n_epochs+1):\n",
    "        train_loss = 0.0 \n",
    "        samples = 0.0 \n",
    "\n",
    "        # Run the training batch \n",
    "        for batch_x, batch_y in next_batch(train_dataloader):\n",
    "            loss = train_step(model, optimizer,loss_fn,batch_x, batch_y)\n",
    "            # -- Updates loss etc. \n",
    "            train_loss += loss.item() * batch_y.size(0) \n",
    "            # TODO: Not sure if this is the correct way to get accuracy. \n",
    "            samples += batch_y.size(0)\n",
    "        training_losses.append(train_loss / samples)\n",
    "\n",
    "        # Run the validation batch\n",
    "        if epoch % validate_n_epochs == 0:\n",
    "            batch_val_losses = []\n",
    "            for batch_x, batch_y in next_batch(val_dataloader):\n",
    "                loss = validate_step(model, loss_fn,batch_x,batch_y)\n",
    "                batch_val_losses.append(loss) \n",
    "            validation_losses.append(np.mean(batch_val_losses))\n",
    "        else:\n",
    "            batch_val_losses = 0.0\n",
    "        \n",
    "        # Save the model if required. \n",
    "        if (save_n_epochs != None and epoch % save_n_epochs == 0 and save_fn != None) or \\\n",
    "                (save_fn != None and epoch == n_epochs):\n",
    "            info = {\n",
    "                \"epoch\" : epoch, \n",
    "                \"loss\" : train_loss/samples,\n",
    "                \"val_loss\" : np.mean(batch_val_losses)}\n",
    "            save_fn(model ,info)\n",
    "        # Print if needed \n",
    "        if print_n_epochs != None and epoch % print_n_epochs == 0:\n",
    "            print(f\"[{epoch}/{n_epochs}] Training loss: {train_loss/samples:.4f}\\t \\\n",
    "                Validation loss: {np.mean(batch_val_losses):.4f}\")\n",
    "\n",
    "    return training_losses, validation_losses\n"
   ]
  },
  {
   "cell_type": "markdown",
   "metadata": {},
   "source": [
    "### Skantze2017 Model Training "
   ]
  },
  {
   "cell_type": "code",
   "execution_count": 17,
   "metadata": {},
   "outputs": [],
   "source": [
    "FEATURE_SET = \"full\"\n"
   ]
  },
  {
   "cell_type": "code",
   "execution_count": 58,
   "metadata": {},
   "outputs": [],
   "source": [
    "train_dataloader, val_dataloader, test_dataloader = load_saved_dataloader_util(FEATURE_SET)"
   ]
  },
  {
   "cell_type": "code",
   "execution_count": 19,
   "metadata": {},
   "outputs": [],
   "source": [
    "INPUT_DIM = next(iter(train_dataloader))[0].shape[-1]\n",
    "HIDDEN_DIM = 40 \n",
    "PREDICTION_LENGTH_MS = 3000 \n",
    "FRAME_STEP_SIZE_MS = 50 # acThe data is in time steps of 50 ms \n",
    "OUTPUT_DIM = int(PREDICTION_LENGTH_MS/FRAME_STEP_SIZE_MS) "
   ]
  },
  {
   "cell_type": "code",
   "execution_count": 41,
   "metadata": {},
   "outputs": [],
   "source": [
    "# Methods to save and load this specific model. \n",
    "\n",
    "import h5py \n",
    "\n",
    "def save_for_inference(save_path):\n",
    "    assert not os.path.isfile(save_path)\n",
    "    return lambda model, info: (\n",
    "        torch.save({\n",
    "            \"kwargs\" : {\n",
    "                \"input_dim\" : model.input_dim, \n",
    "                \"hidden_dim\" : model.hidden_dim,\n",
    "                \"output_dim\" : model.output_dim,\n",
    "                \"layer_dim\" : model.layer_dim}, \n",
    "            \"info\" : deepcopy(info),\n",
    "            \"model_state_dict\" : model.state_dict()}, save_path))\n",
    "    \n",
    "def load_for_inference(save_file_path):\n",
    "    assert os.path.isfile(save_file_path) \n",
    "    checkpoint = torch.load(save_file_path)\n",
    "    model = Skantze2017LSTMPredictor(**checkpoint[\"kwargs\"])\n",
    "    model.load_state_dict(checkpoint['model_state_dict'])\n",
    "    return model, checkpoint['info']\n",
    "\n",
    "\n",
    "def save_losses(save_dir, filename):\n",
    "    assert os.path.isdir(save_dir)\n",
    "    path = \"{}/{}.h5\".format(save_dir,filename)\n",
    "    hf : h5py.File = h5py.File(path,'w')\n",
    "\n",
    "    def h5_save_losses(grp_name, losses_dict):\n",
    "        grp = hf.create_group(grp_name)\n",
    "        for loss_name, losses in losses_dict.items():\n",
    "            # loss_name = np.asarray(losses) \n",
    "            grp.create_dataset(loss_name, data=losses)\n",
    "        \n",
    "    return hf, path, h5_save_losses\n",
    "\n"
   ]
  },
  {
   "cell_type": "code",
   "execution_count": 31,
   "metadata": {},
   "outputs": [],
   "source": [
    "\n",
    "# Define the save fn. \n",
    "path = \"{}/sample_training.pt\".format(SAVE_MODELS_DIR)\n",
    "save_fn = save_for_inference(path)"
   ]
  },
  {
   "cell_type": "code",
   "execution_count": 34,
   "metadata": {},
   "outputs": [
    {
     "name": "stdout",
     "output_type": "stream",
     "text": [
      "[1/5] Training loss: 0.2636\t                 Validation loss: 0.2350\n",
      "[2/5] Training loss: 0.2285\t                 Validation loss: 0.2356\n",
      "[3/5] Training loss: 0.2277\t                 Validation loss: 0.2481\n",
      "[4/5] Training loss: 0.2255\t                 Validation loss: 0.2325\n",
      "[5/5] Training loss: 0.2280\t                 Validation loss: 0.2329\n"
     ]
    }
   ],
   "source": [
    "# --- Testing the model \n",
    "\n",
    "model = Skantze2017LSTMPredictor(\n",
    "    input_dim=INPUT_DIM,\n",
    "    hidden_dim=HIDDEN_DIM, \n",
    "    output_dim=OUTPUT_DIM)\n",
    "\n",
    "# Must define the loss function - Mean Absolute Error in original paper \n",
    "loss_fn = nn.L1Loss()\n",
    "# RMSProp used in original paper \n",
    "optimizer = torch.optim.RMSprop(model.parameters(),lr=0.01,weight_decay=0.001)\n",
    "\n",
    "\n",
    "training_losses, val_losses = train(\n",
    "    model,optimizer, loss_fn,train_dataloader, val_dataloader, \n",
    "    n_epochs=5, print_n_epochs=1,save_fn=save_fn)\n"
   ]
  },
  {
   "cell_type": "code",
   "execution_count": 49,
   "metadata": {},
   "outputs": [],
   "source": [
    "# Saving and loading the losses. \n",
    "hf, save_path, save_loss_fn= save_losses(REPORTS_DIR, \"sample_saved_losses\")\n",
    "save_loss_fn(\n",
    "    \"sample_saved_losses\", {\n",
    "        \"training\" : training_losses, \n",
    "        \"validation\" : val_losses\n",
    "    }\n",
    ")\n",
    "hf.close()\n",
    "with h5py.File(save_path,'r') as f:\n",
    "    training_losses = np.asarray(f['sample_saved_losses']['training'])\n",
    "    val_losses =  np.asarray(f['sample_saved_losses']['validation'])\n"
   ]
  },
  {
   "cell_type": "code",
   "execution_count": 50,
   "metadata": {},
   "outputs": [
    {
     "data": {
      "image/png": "[encoded data removed]",
      "text/plain": [
       "<Figure size 432x288 with 1 Axes>"
      ]
     },
     "metadata": {
      "needs_background": "light"
     },
     "output_type": "display_data"
    }
   ],
   "source": [
    "# Plot the losses \n",
    "plt.figure()\n",
    "plt.plot(training_losses, label=\"training loss\")\n",
    "plt.plot(val_losses,label=\"validation loss\")\n",
    "plt.xlabel(\"Epochs\")\n",
    "plt.ylabel(\"Loss of type {}\".format(loss_fn))\n",
    "plt.title(\"Training losses\")\n",
    "plt.legend()\n",
    "plt.show()\n"
   ]
  },
  {
   "cell_type": "markdown",
   "metadata": {},
   "source": [
    "## Testing"
   ]
  },
  {
   "cell_type": "code",
   "execution_count": 55,
   "metadata": {},
   "outputs": [],
   "source": [
    "def evaluate_skantze2017(model, test_dataloader):\n",
    "    loss_fn = nn.L1Loss()\n",
    "    losses = [] \n",
    "    va_losses = []\n",
    "    with torch.no_grad():\n",
    "        model.eval() \n",
    "        for x_batch, y_batch in next_batch(test_dataloader):\n",
    "            x_batch = x_batch.view([1, -1, x_batch.size(-1)])\n",
    "            y_hat = model(x_batch)\n",
    "            loss = loss_fn(y_hat, y_batch)\n",
    "            losses.append(loss) \n",
    "            nonzero_target_indices = np.nonzero(y_batch ==1)[:,1]\n",
    "            if len(nonzero_target_indices) > 0:\n",
    "                va_loss = loss_fn(\n",
    "                    y_hat[:,nonzero_target_indices], y_batch[:,nonzero_target_indices])\n",
    "                va_losses.append(va_loss)\n",
    "        return losses , va_losses\n",
    "            "
   ]
  },
  {
   "cell_type": "code",
   "execution_count": 56,
   "metadata": {},
   "outputs": [
    {
     "data": {
      "text/plain": [
       "Skantze2017LSTMPredictor(\n",
       "  (lstm): LSTM(130, 40, batch_first=True)\n",
       "  (fc): Linear(in_features=40, out_features=60, bias=True)\n",
       "  (fc_activation): Sigmoid()\n",
       ")"
      ]
     },
     "execution_count": 56,
     "metadata": {},
     "output_type": "execute_result"
    }
   ],
   "source": [
    "# Loading the model \n",
    "path = \"{}/sample_training.pt\".format(SAVE_MODELS_DIR)\n",
    "model, info = load_for_inference(path)\n",
    "model.eval()"
   ]
  },
  {
   "cell_type": "code",
   "execution_count": 59,
   "metadata": {},
   "outputs": [
    {
     "data": {
      "text/plain": [
       "(0.21257003, 0.9904395)"
      ]
     },
     "execution_count": 59,
     "metadata": {},
     "output_type": "execute_result"
    }
   ],
   "source": [
    "l1_losses, va_losses = evaluate_skantze2017(model, test_dataloader) \n",
    "# TODO: This is an issue because it means that 1 labels are predominantly not \n",
    "# being predicted correctly i.e., the model is almost always saying that \n",
    "# the speaker VA probability is low. \n",
    "np.mean(l1_losses), np.mean(va_losses)"
   ]
  },
  {
   "cell_type": "code",
   "execution_count": null,
   "metadata": {},
   "outputs": [],
   "source": []
  }
 ],
 "metadata": {
  "kernelspec": {
   "display_name": "Python 3.8.13 ('trp')",
   "language": "python",
   "name": "python3"
  },
  "language_info": {
   "codemirror_mode": {
    "name": "ipython",
    "version": 3
   },
   "file_extension": ".py",
   "mimetype": "text/x-python",
   "name": "python",
   "nbconvert_exporter": "python",
   "pygments_lexer": "ipython3",
   "version": "3.8.13"
  },
  "orig_nbformat": 4,
  "vscode": {
   "interpreter": {
    "hash": "a2304c455ac551f7a45279e05896e7a6c75d8c847965e97ef85e853390a9b358"
   }
  }
 },
 "nbformat": 4,
 "nbformat_minor": 2
}
