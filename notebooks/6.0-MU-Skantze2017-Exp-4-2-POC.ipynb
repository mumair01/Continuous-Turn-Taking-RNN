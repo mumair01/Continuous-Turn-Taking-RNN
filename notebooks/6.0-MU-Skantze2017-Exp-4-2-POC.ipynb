{
 "cells": [
  {
   "cell_type": "markdown",
   "metadata": {},
   "source": [
    "# About \n",
    "\n",
    "This notebook is intended to be a POC for Experiment 4.2 in the Skantze 2017 paper. "
   ]
  },
  {
   "cell_type": "markdown",
   "metadata": {},
   "source": [
    "## Setup "
   ]
  },
  {
   "cell_type": "code",
   "execution_count": 1,
   "metadata": {},
   "outputs": [],
   "source": [
    " # Download libraries for environment. \n",
    "\n",
    "import sys \n",
    "import os \n",
    "\n",
    "# Env. vars to check if the notebook is running on colab, kaggle etc. \n",
    "IS_COLAB = \"google.colab\" in sys.modules \n",
    "IS_KAGGLE = \"kaggle_secrets\" in sys.modules \n",
    "IS_LOCAL = not (IS_COLAB or IS_KAGGLE)\n",
    "\n",
    "if IS_COLAB:\n",
    "    # Install the packages \n",
    "    %pip install -q -U tensorflow-addons\n",
    "    %pip install -q -U transformers\n",
    "    %pip install -q -U datasets\n",
    "    print(\"You can safely ignore the package incompatibility errors.\")\n",
    "    # Mount the drive \n",
    "    from google.colab import drive \n",
    "    drive.mount(\"/drive\")"
   ]
  },
  {
   "cell_type": "code",
   "execution_count": 2,
   "metadata": {},
   "outputs": [],
   "source": [
    "\n",
    "import os\n",
    "import pandas as pd\n",
    "import numpy as np\n",
    "from copy import deepcopy \n",
    "\n",
    "import random \n",
    "import shutil \n",
    "# Scikit-Learn ≥0.20 is required\n",
    "import sklearn\n",
    "assert sklearn.__version__ >= \"0.20\"\n",
    "\n",
    "\n",
    "# Pytorch imports \n",
    "import torch\n",
    "import torch.nn as nn \n",
    "from torch.utils.data import Dataset, DataLoader\n",
    "\n",
    "# Others \n",
    "import glob \n",
    "\n",
    "# To plot pretty figures\n",
    "%matplotlib inline\n",
    "import matplotlib as mpl\n",
    "import matplotlib.pyplot as plt\n",
    "mpl.rc('axes', labelsize=14)\n",
    "mpl.rc('xtick', labelsize=12)\n",
    "mpl.rc('ytick', labelsize=12)\n",
    "\n",
    "\n"
   ]
  },
  {
   "cell_type": "code",
   "execution_count": 3,
   "metadata": {},
   "outputs": [],
   "source": [
    "# --  Set environment global vars. \n",
    "\n",
    "# Shared env. vars. \n",
    "GLOBAL_SEED = 42 \n",
    "IS_CUDA_ENV = torch.cuda.is_available()\n",
    "GLOBAL_DEVICE = torch.device('cuda') if IS_CUDA_ENV else torch.device('cpu')\n",
    "SET_SEED = True # If true, sets the global seeds for this notebook. \n",
    "LIMITED_RESOURCES = not IS_CUDA_ENV\n",
    "\n",
    "if LIMITED_RESOURCES:\n",
    "    SMALL_DATASET_SIZE = 20\n",
    "\n",
    "if IS_COLAB:\n",
    "    LIMITED_RESOURCES = False \n",
    "   "
   ]
  },
  {
   "cell_type": "code",
   "execution_count": 4,
   "metadata": {},
   "outputs": [],
   "source": [
    "# Configuring env. \n",
    "if SET_SEED:\n",
    "    # to make this notebook's output stable across runs\n",
    "    np.random.seed(GLOBAL_SEED) \n",
    "    torch.manual_seed(GLOBAL_SEED)"
   ]
  },
  {
   "cell_type": "code",
   "execution_count": 5,
   "metadata": {},
   "outputs": [],
   "source": [
    "# Project Paths\n",
    "NOTEBOOK_NAME = \"skantze2017_exp_4_2_poc\"\n",
    "PROJECT_ROOT_DIR = \"/Users/muhammadumair/Documents/Repositories/mumair01-repos/TRP-Modeling/skantze_2017_continuous\" \n",
    "# --- Input data dirs. \n",
    "\n",
    "# --- Result dirs. \n",
    "# NOTE: The model dir will have to change depending on where the models are stored. \n",
    "PROCESSED_DATA_DIR =  os.path.join(PROJECT_ROOT_DIR,\"data\",\"processed\",NOTEBOOK_NAME)\n",
    "REPORTS_DIR = os.path.join(PROJECT_ROOT_DIR,\"reports\",NOTEBOOK_NAME)\n",
    "SAVE_MODELS_DIR = os.path.join(PROJECT_ROOT_DIR,\"models\",NOTEBOOK_NAME)\n",
    "\n",
    "# Paths to the specific feature sets \n",
    "FULL_PROCESSED_FEATURE_DIR = os.path.join(PROJECT_ROOT_DIR,\"data\", \"processed\", \"maptask\",\"full\")\n",
    "PROSODY_PROCESSED_FEATURE_DIR = os.path.join(PROJECT_ROOT_DIR,\"data\", \"processed\", \"maptask\",\"prosody\")\n",
    "FULL_PROCESSED_FEATURE_DIR\n",
    "\n",
    "os.makedirs(PROCESSED_DATA_DIR,exist_ok=True)\n",
    "os.makedirs(REPORTS_DIR,exist_ok=True)\n",
    "os.makedirs(SAVE_MODELS_DIR,exist_ok=True)\n"
   ]
  },
  {
   "cell_type": "code",
   "execution_count": 6,
   "metadata": {},
   "outputs": [],
   "source": [
    "RAW_DATA_DIR = os.path.join(PROJECT_ROOT_DIR,\"data\", \"raw\", \"maptask\")\n",
    "MAPTASK_DIR = os.path.join(RAW_DATA_DIR,\"maptaskv2-1\")\n",
    "# Paths within the maptask corpus \n",
    "STEREO_AUDIO_PATH = os.path.join(MAPTASK_DIR,\"Data/signals/dialogues\")\n",
    "MONO_AUDIO_PATH = os.path.join(MAPTASK_DIR,\"Data/signals/mono_signals\")\n",
    "# NOTE: The timed units are also used for Voice Activity annotations. \n",
    "TIMED_UNIT_PATHS = os.path.join(MAPTASK_DIR,\"Data/timed-units\") \n",
    "POS_PATH = os.path.join(MAPTASK_DIR,\"Data/pos\")\n"
   ]
  },
  {
   "cell_type": "code",
   "execution_count": 7,
   "metadata": {},
   "outputs": [],
   "source": [
    "def save_fig(path, fig_id, tight_layout=True, fig_extension=\"png\", resolution=300):\n",
    "    path = os.path.join(path, fig_id + \".\" + fig_extension)\n",
    "    print(\"Saving figure\", fig_id)\n",
    "    if tight_layout:\n",
    "        plt.tight_layout()\n",
    "    plt.savefig(path, format=fig_extension, dpi=resolution)"
   ]
  },
  {
   "cell_type": "markdown",
   "metadata": {},
   "source": [
    "## Required Code \n",
    "\n",
    "**NOTE** In this section, we are copying some required code from notebooks 1.0-* to 3.0-*.\n",
    "\n",
    "Ay bugs in this code **should be fixed in the appropriate notebooks**. "
   ]
  },
  {
   "cell_type": "markdown",
   "metadata": {},
   "source": [
    "### MapTask Dataset Preprocessing"
   ]
  },
  {
   "cell_type": "code",
   "execution_count": 8,
   "metadata": {},
   "outputs": [],
   "source": [
    "def get_maptask_participant(csv_path):\n",
    "    filename, ext = os.path.splitext(os.path.basename(csv_path))\n",
    "    filename_split = filename.split(\".\")\n",
    "    participant = filename_split[1]\n",
    "    return participant\n",
    "\n",
    "def get_maptask_dialogue(csv_path):\n",
    "    filename, ext = os.path.splitext(os.path.basename(csv_path))\n",
    "    filename_split = filename.split(\".\")\n",
    "    dialogue = filename_split[0]\n",
    "    return dialogue\n",
    "\n",
    "def read_data(dir_path,dialogue_name, participant,ext):\n",
    "    \"\"\"\n",
    "    Assumption is that the basename . is the dialogue name. \n",
    "    \"\"\"\n",
    "    results = []\n",
    "    data_paths = [p for p in os.listdir(dir_path)]\n",
    "    data_paths = [os.path.join(dir_path,p) for p in data_paths if os.path.splitext(p)[1][1:] == ext]\n",
    "    for path in data_paths:\n",
    "       if get_maptask_dialogue(path) == dialogue_name and \\\n",
    "                get_maptask_participant(path) == participant:\n",
    "            results.append(path)\n",
    "    return results \n",
    "\n",
    "def get_mono_audio(dialogue_name, participant):\n",
    "    return read_data(MONO_AUDIO_PATH,dialogue_name, participant,\"wav\")[0]\n",
    "\n",
    "def get_stereo_audio(dialogue_name):\n",
    "    return read_data(STEREO_AUDIO_PATH,dialogue_name,\"mix\",\"wav\")[0]\n",
    "\n",
    "def get_timed_unit(dialogue_name, participant):\n",
    "    return read_data(TIMED_UNIT_PATHS,dialogue_name, participant,\"xml\")[0]\n",
    "\n",
    "def collect_dialogue_features(dialogue_names, features_dir):\n",
    "    \"\"\"\n",
    "    Collect the dialogue f and g feature files.\n",
    "    Assumes that features_dir contains both the f and g feature files. \n",
    "    \"\"\"\n",
    "    collected = {}\n",
    "    for dialogue in dialogue_names:\n",
    "        collected[dialogue] = {\n",
    "            \"f\" : read_data(features_dir,dialogue,\"f\",\"csv\")[0], \n",
    "            \"g\" : read_data(features_dir,dialogue,\"g\",\"csv\")[0]}\n",
    "    return collected \n",
    "\n",
    "\n"
   ]
  },
  {
   "cell_type": "code",
   "execution_count": 9,
   "metadata": {},
   "outputs": [],
   "source": [
    "def extract_voice_activity_labels(feature_df, N):\n",
    "    # TODO: FIx the delimiter \n",
    "    feature_df = feature_df[[\"frameTime\",\"voiceActivity\"]]\n",
    "    assert not feature_df.isnull().values.any()\n",
    "    frame_times_ms = np.asarray(feature_df[\"frameTime\"])\n",
    "    voice_activity_annotations = np.asarray(feature_df[\"voiceActivity\"])\n",
    "    assert frame_times_ms.shape[0] == voice_activity_annotations.shape[0]\n",
    "    labels = np.zeros((frame_times_ms.shape[0],N)) # target label shape: Num Frames x N\n",
    "    for i in range(len(frame_times_ms)):\n",
    "        # Pad the last labels with 0 if the conversation has ended \n",
    "        if i + N > len(frame_times_ms):\n",
    "            concat = np.concatenate(\n",
    "                [voice_activity_annotations[i:],\n",
    "                 np.zeros(N - (len(frame_times_ms)-i))])\n",
    "            labels[i] = concat\n",
    "        else:\n",
    "            labels[i] = voice_activity_annotations[i:i+N]\n",
    "    labels_df = pd.DataFrame(labels) \n",
    "    labels_df.insert(0,\"frameTime\",frame_times_ms)\n",
    "    assert not labels_df.isnull().values.any()\n",
    "    return labels_df \n"
   ]
  },
  {
   "cell_type": "markdown",
   "metadata": {},
   "source": [
    "### MapTask Dataset Code "
   ]
  },
  {
   "cell_type": "code",
   "execution_count": 10,
   "metadata": {},
   "outputs": [],
   "source": [
    "\n",
    "class Skantze2017VAPredictionMapTaskDataset(Dataset):\n",
    "    \"\"\"\n",
    "    Maptask dataset for voice activity annotation sequence prediction.  \n",
    "    NOTE: Needs a large amount of memory to load this. \n",
    "    \"\"\"\n",
    "\n",
    "    def __init__(self, feature_paths_map, sequence_length_ms, \n",
    "            prediction_length_ms, target_participant, frame_step_size_ms):\n",
    "        # Vars. \n",
    "        self.feature_paths_map = feature_paths_map \n",
    "        self.sequence_length_ms = sequence_length_ms \n",
    "        self.prediction_length_ms = prediction_length_ms \n",
    "        self.target_participant = target_participant \n",
    "        self.frame_step_size_ms = frame_step_size_ms \n",
    "        # Calculated \n",
    "        self.num_context_frames = int(sequence_length_ms / frame_step_size_ms)\n",
    "        self.num_target_frames = int(prediction_length_ms / frame_step_size_ms)\n",
    "        # Storage \n",
    "        self.xs = [] \n",
    "        self.ys = [] \n",
    "        for dialogue in list(self.feature_paths_map.keys()):\n",
    "            self.__load_data(dialogue)\n",
    "        assert len(self.xs) == len(self.ys)\n",
    "\n",
    "    def __len__(self):\n",
    "        return len(self.xs)\n",
    "    \n",
    "    def __getitem__(self, idx):\n",
    "        if idx > self.__len__():\n",
    "            raise Exception \n",
    "        return self.xs[idx], self.ys[idx]\n",
    "\n",
    "    def __load_data(self, dialogue):\n",
    "        s0_feature_df, s1_feature_df = self.__load_dataframes(dialogue)\n",
    "        # Extract the voice activity labels for s0 as the target labels\n",
    "        s0_target_labels_df = extract_voice_activity_labels(\n",
    "            s0_feature_df,self.num_target_frames)\n",
    "        # Make sure none of the dfs have any nan values \n",
    "        assert not s0_feature_df.isnull().values.any() and \\\n",
    "            not s1_feature_df.isnull().values.any() and \\\n",
    "            not s0_target_labels_df.isnull().values.any()\n",
    "        # Trim the dataframes to the same length \n",
    "        min_num_frames = np.min([len(s0_feature_df.index),len(s1_feature_df.index)])\n",
    "        s0_feature_df = s0_feature_df[:min_num_frames]\n",
    "        s1_feature_df = s1_feature_df[:min_num_frames]\n",
    "        s0_target_labels_df = s0_target_labels_df[:min_num_frames]\n",
    "        # Make sure they all have common frametimes\n",
    "        assert s0_feature_df['frameTime'].equals(s1_feature_df['frameTime'])\n",
    "        assert s0_feature_df['frameTime'].equals(s0_target_labels_df['frameTime'])\n",
    "        s0_s1_df = pd.concat([s0_feature_df,s1_feature_df],axis=1)     \n",
    "        assert not s0_s1_df.isnull().values.any()     \n",
    "        # Determine the number of sequences for this dialogue \n",
    "        num_sequences = int(np.floor(len(s0_feature_df.index))/self.num_context_frames)\n",
    "        for i in range(num_sequences):\n",
    "            x = np.asarray(s0_s1_df.loc[:,s0_s1_df.columns != 'frameTime'][i * \\\n",
    "                self.num_context_frames : (i * self.num_context_frames) \\\n",
    "                    + self.num_context_frames])\n",
    "            y = np.asarray(s0_target_labels_df.loc[:,s0_target_labels_df.columns\\\n",
    "                    != 'frameTime'][i * self.num_context_frames : \\\n",
    "                        (i * self.num_context_frames) + self.num_context_frames])[-1,:]\n",
    "            self.xs.append(x)\n",
    "            self.ys.append(y)\n",
    "\n",
    "    def __load_dataframes(self, dialogue):\n",
    "        if self.target_participant == \"f\":\n",
    "            s0_feature_df = pd.read_csv(self.feature_paths_map[dialogue][\"f\"], index_col=0,delimiter=\",\") \n",
    "            s1_feature_df = pd.read_csv(self.feature_paths_map[dialogue][\"g\"],index_col=0,delimiter=\",\")\n",
    "        else:\n",
    "            s0_feature_df = pd.read_csv(self.feature_paths_map[dialogue][\"g\"],index_col=0,delimiter=\",\") \n",
    "            s1_feature_df = pd.read_csv(self.feature_paths_map[dialogue][\"f\"],index_col=0,delimiter=\",\")\n",
    "        return s0_feature_df, s1_feature_df \n",
    "\n"
   ]
  },
  {
   "cell_type": "code",
   "execution_count": 11,
   "metadata": {},
   "outputs": [],
   "source": [
    "import random\n",
    "from copy import deepcopy\n",
    "from sklearn.model_selection import train_test_split "
   ]
  },
  {
   "cell_type": "code",
   "execution_count": 12,
   "metadata": {},
   "outputs": [],
   "source": [
    "def get_train_val_test_dialogues(dataset_paths, test_size=0.25, val_size=0.2, \n",
    "        seed=GLOBAL_SEED):\n",
    "    dataset_paths = deepcopy(dataset_paths)\n",
    "    dialogue_names = sorted(list(set([get_maptask_dialogue(p) for p in dataset_paths])))\n",
    "    train_dialogues, test_dialogues = train_test_split(dialogue_names, \n",
    "        test_size=test_size,random_state=seed)\n",
    "    train_dialogues, val_dialogues = train_test_split(train_dialogues, \n",
    "        test_size=val_size,random_state=seed)\n",
    "    return train_dialogues, val_dialogues, test_dialogues \n"
   ]
  },
  {
   "cell_type": "markdown",
   "metadata": {},
   "source": [
    "### MapTask Dataclass and Method Definitions \n",
    "\n",
    "These are required to be in the same notebook to be loaded. \n",
    "\n",
    "\n",
    "NOTE: **DO NOT** modify these here, refer to 2.0-MU-Skantze-MapTask-Dataset-POC"
   ]
  },
  {
   "cell_type": "code",
   "execution_count": 13,
   "metadata": {},
   "outputs": [],
   "source": [
    "# NOTE:Seed worker can be used to ensure reproducibility in DataLoader \n",
    "# across runs. \n",
    "def seed_worker(worker_id):\n",
    "    worker_seed =GLOBAL_SEED\n",
    "    np.random.seed(worker_seed)\n",
    "    random.seed(worker_seed)\n",
    "\n",
    "def generate_dataloader(dataset, batch_size=32, shuffle=True, num_workers=0, \n",
    "        drop_last=True, pin_memory=True):\n",
    "    return DataLoader(\n",
    "        dataset, \n",
    "        batch_size=batch_size, \n",
    "        shuffle=shuffle, \n",
    "        num_workers=num_workers, \n",
    "        drop_last=drop_last, # We always want to remove the last incomplete batch. \n",
    "        pin_memory=pin_memory, \n",
    "        worker_init_fn=seed_worker)"
   ]
  },
  {
   "cell_type": "markdown",
   "metadata": {},
   "source": [
    "### Skantze 2017 Model"
   ]
  },
  {
   "cell_type": "code",
   "execution_count": 14,
   "metadata": {},
   "outputs": [],
   "source": [
    "class Skantze2017LSTMPredictor(nn.Module):\n",
    "    # TODO: The seed parameter is used to make sure that the layer initializations \n",
    "    # are the same across runs for model comparison - this should probably be \n",
    "    # either refactored or replaced.  \n",
    "    def __init__(self, input_dim, hidden_dim, output_dim, layer_dim=1, seed=None):\n",
    "        super().__init__()\n",
    "        # Defining the vars. \n",
    "        self.input_dim = input_dim\n",
    "        self.hidden_dim = hidden_dim \n",
    "        self.output_dim = output_dim\n",
    "        self.layer_dim = layer_dim\n",
    "        # LSTM Layers\n",
    "        if seed != None:\n",
    "            torch.manual_seed(seed)\n",
    "        self.lstm = nn.LSTM(input_dim, hidden_dim,layer_dim,batch_first=True) #  tanh activation is the default. \n",
    "        # Fully connected layer\n",
    "        if seed != None:\n",
    "            torch.manual_seed(seed)\n",
    "        self.fc = nn.Linear(hidden_dim,output_dim,bias=True)\n",
    "        if seed != None:\n",
    "            torch.manual_seed(seed)\n",
    "        self.fc_activation = nn.Sigmoid()\n",
    "\n",
    "    def forward(self, x):\n",
    "        # Initialize the hidden states for first input with zeroes. \n",
    "        h0 = torch.zeros(self.layer_dim, x.size(0), self.hidden_dim).requires_grad_()\n",
    "        # Initialize the cell state for the first input with zeroes. \n",
    "        c0 = torch.zeros(self.layer_dim, x.size(0),self.hidden_dim).requires_grad_()\n",
    "\n",
    "        # TODO: Still need to implement TBPTT in the model for the last 10 seconds, \n",
    "        # which is what was done in the Skantze paper. \n",
    "\n",
    "        # We need to detach as we are doing truncated backpropagation through time (BPTT)\n",
    "        # If we don't, we'll backprop all the way to the start even after going through another batch\n",
    "        # Forward propagation by passing in the input, hidden state, and cell state into the model\n",
    "        out, (hn, cn) = self.lstm(x.float(),(h0.detach(), c0.detach()))\n",
    "\n",
    "        # Reshaping the outputs in the shape of (batch_size, seq_length, hidden_size)\n",
    "        # so that it can fit into the fully connected layer\n",
    "        out = out[:, -1, :] # Because we need the final output. \n",
    "        return self.fc_activation(self.fc(out))\n"
   ]
  },
  {
   "cell_type": "markdown",
   "metadata": {},
   "source": [
    "### General Training Utility Methods "
   ]
  },
  {
   "cell_type": "code",
   "execution_count": 15,
   "metadata": {},
   "outputs": [],
   "source": [
    "# Writing training loop for a single batch \n",
    "\n",
    "def train_step(model,optimizer, loss_fn, x, y):\n",
    "    # Make sure X type is correct. \n",
    "    x = x.type(torch.FloatTensor)\n",
    "    # NOTE: The input should not have any nans. \n",
    "    assert not torch.isnan(x).any()\n",
    "    model.train()\n",
    "    optimizer.zero_grad()\n",
    "    y_hat = model(x)\n",
    "    assert not torch.isnan(y_hat).any()\n",
    "    assert not torch.isnan(y).any()\n",
    "    loss = loss_fn(y,y_hat)\n",
    "    assert not torch.isnan(y).any()\n",
    "    loss.backward()\n",
    "    # nn.utils.clip_grad_norm_(model.parameters(),1.0)\n",
    "    optimizer.step()\n",
    "    return loss\n",
    "\n",
    "def validate_step(model, loss_fn, x,y):\n",
    "    with torch.no_grad():\n",
    "        model.eval()\n",
    "        y_hat = model(x)\n",
    "        loss = loss_fn(y,y_hat).item()\n",
    "        return loss \n",
    "\n",
    "def next_batch(dataloader):\n",
    "    # Loop over dataset \n",
    "    for x_batch ,y_batch in dataloader:\n",
    "        yield x_batch, y_batch "
   ]
  },
  {
   "cell_type": "code",
   "execution_count": 16,
   "metadata": {},
   "outputs": [],
   "source": [
    "def train(model,optimizer, loss_fn,train_dataloader, val_dataloader, n_epochs,\n",
    "        validate_n_epochs=1,save_n_epochs=None, save_fn = None,\n",
    "        print_n_epochs=None):\n",
    "    # Set the model to training \n",
    "    model.train()\n",
    "\n",
    "    # Vars. to record results across training \n",
    "    training_losses = []\n",
    "    validation_losses = [] \n",
    "    \n",
    "    for epoch in range(1, n_epochs+1):\n",
    "        train_loss = 0.0 \n",
    "        samples = 0.0 \n",
    "\n",
    "        # Run the training batch \n",
    "        for batch_x, batch_y in next_batch(train_dataloader):\n",
    "            loss = train_step(model, optimizer,loss_fn,batch_x, batch_y)\n",
    "            # -- Updates loss etc. \n",
    "            train_loss += loss.item() * batch_y.size(0) \n",
    "            # TODO: Not sure if this is the correct way to get accuracy. \n",
    "            samples += batch_y.size(0)\n",
    "        training_losses.append(train_loss / samples)\n",
    "\n",
    "        # Run the validation batch\n",
    "        if epoch % validate_n_epochs == 0:\n",
    "            batch_val_losses = []\n",
    "            for batch_x, batch_y in next_batch(val_dataloader):\n",
    "                loss = validate_step(model, loss_fn,batch_x,batch_y)\n",
    "                batch_val_losses.append(loss) \n",
    "            validation_losses.append(np.mean(batch_val_losses))\n",
    "        else:\n",
    "            batch_val_losses = 0.0\n",
    "        \n",
    "        # Save the model if required. \n",
    "        if (save_n_epochs != None and epoch % save_n_epochs == 0 and save_fn != None) or \\\n",
    "                (save_fn != None and epoch == n_epochs):\n",
    "            info = {\n",
    "                \"epoch\" : epoch, \n",
    "                \"loss\" : train_loss/samples,\n",
    "                \"val_loss\" : np.mean(batch_val_losses)}\n",
    "            save_fn(model ,info)\n",
    "        # Print if needed \n",
    "        if print_n_epochs != None and epoch % print_n_epochs == 0:\n",
    "            print(f\"[{epoch}/{n_epochs}] Training loss: {train_loss/samples:.4f}\\t \\\n",
    "                Validation loss: {np.mean(batch_val_losses):.4f}\")\n",
    "\n",
    "    return training_losses, validation_losses\n",
    "\n"
   ]
  },
  {
   "cell_type": "markdown",
   "metadata": {},
   "source": [
    "### Skantze2017 Model Specific Training Utility Methods "
   ]
  },
  {
   "cell_type": "code",
   "execution_count": 17,
   "metadata": {},
   "outputs": [],
   "source": [
    "\n",
    "# Methods to save and load this specific model. \n",
    "\n",
    "import h5py \n",
    "\n",
    "def save_for_inference(save_path):\n",
    "    assert not os.path.isfile(save_path)\n",
    "    return lambda model, info: (\n",
    "        torch.save({\n",
    "            \"kwargs\" : {\n",
    "                \"input_dim\" : model.input_dim, \n",
    "                \"hidden_dim\" : model.hidden_dim,\n",
    "                \"output_dim\" : model.output_dim,\n",
    "                \"layer_dim\" : model.layer_dim}, \n",
    "            \"info\" : deepcopy(info),\n",
    "            \"model_state_dict\" : model.state_dict()}, save_path))\n",
    "    \n",
    "def load_for_inference(save_file_path):\n",
    "    assert os.path.isfile(save_file_path) \n",
    "    checkpoint = torch.load(save_file_path)\n",
    "    model = Skantze2017LSTMPredictor(**checkpoint[\"kwargs\"])\n",
    "    model.load_state_dict(checkpoint['model_state_dict'])\n",
    "    return model, checkpoint['info']\n",
    "\n",
    "\n",
    "def save_losses(save_dir, filename):\n",
    "    assert os.path.isdir(save_dir)\n",
    "    path = \"{}/{}.h5\".format(save_dir,filename)\n",
    "    hf : h5py.File = h5py.File(path,'w')\n",
    "\n",
    "    def h5_save_losses(grp_name, losses_dict):\n",
    "        grp = hf.create_group(grp_name)\n",
    "        for loss_name, losses in losses_dict.items():\n",
    "            # loss_name = np.asarray(losses) \n",
    "            grp.create_dataset(loss_name, data=losses)\n",
    "        \n",
    "    return hf, path, h5_save_losses\n",
    "\n"
   ]
  },
  {
   "cell_type": "markdown",
   "metadata": {},
   "source": [
    "### Skantze2017 Model Specific Testing Utility Methods "
   ]
  },
  {
   "cell_type": "code",
   "execution_count": 18,
   "metadata": {},
   "outputs": [],
   "source": [
    "def evaluate_skantze2017(model, test_dataloader):\n",
    "    loss_fn = nn.L1Loss()\n",
    "    losses = [] \n",
    "    va_losses = []\n",
    "    with torch.no_grad():\n",
    "        model.eval() \n",
    "        for x_batch, y_batch in next_batch(test_dataloader):\n",
    "            x_batch = x_batch.view([1, -1, x_batch.size(-1)])\n",
    "            y_hat = model(x_batch)\n",
    "            loss = loss_fn(y_hat, y_batch)\n",
    "            losses.append(loss) \n",
    "            nonzero_target_indices = np.nonzero(y_batch ==1)[:,1]\n",
    "            if len(nonzero_target_indices) > 0:\n",
    "                va_loss = loss_fn(\n",
    "                    y_hat[:,nonzero_target_indices], y_batch[:,nonzero_target_indices])\n",
    "                va_losses.append(va_loss)\n",
    "        return losses , va_losses\n",
    "            "
   ]
  },
  {
   "cell_type": "markdown",
   "metadata": {},
   "source": [
    "### Prediction Dataset Code "
   ]
  },
  {
   "cell_type": "code",
   "execution_count": 19,
   "metadata": {},
   "outputs": [],
   "source": [
    "class Skantze2017PausesDataset(Dataset):\n",
    "\n",
    "    HOLD_LABEL = 0 \n",
    "    SHIFT_LABEL = 1 \n",
    "\n",
    "    def __init__(self, feature_paths_map , sequence_length_ms, min_pause_length_ms, \n",
    "                max_future_silence_window_ms, s0_participant, frame_step_size_ms, \n",
    "                save_dir = None):\n",
    "        # Params . \n",
    "        self.feature_paths_map = feature_paths_map \n",
    "        self.sequence_length_ms = sequence_length_ms \n",
    "        self.min_pause_length_ms = min_pause_length_ms\n",
    "        self.max_future_silence_window_ms = max_future_silence_window_ms\n",
    "        self.s0_participant = s0_participant\n",
    "        self.frame_step_size_ms = frame_step_size_ms  \n",
    "        self.save_dir = save_dir # If the save dir is provided, saves the dataset as it is built. \n",
    "        # Calculated \n",
    "        self.num_context_frames = int(sequence_length_ms / frame_step_size_ms)\n",
    "        self.num_pause_frames = int(min_pause_length_ms / frame_step_size_ms)\n",
    "        self.future_window_frames = int(max_future_silence_window_ms / frame_step_size_ms)\n",
    "        # Data Storage vars. \n",
    "        self.xs = [] \n",
    "        self.ys = [] \n",
    "        self.num_silences = 0 \n",
    "        self.num_holds = 0 \n",
    "        self.num_shifts = 0 \n",
    "        self.num_pauses = 0 \n",
    "        # Prepare the data \n",
    "        for dialogue in list(self.feature_paths_map.keys()):\n",
    "            self.__prepare_items(dialogue, self.__prepare_pauses_df(dialogue))\n",
    "\n",
    "    def __len__(self):\n",
    "        return len(self.xs)\n",
    "    \n",
    "    def __getitem__(self, idx):\n",
    "        if idx > self.__len__():\n",
    "            raise Exception \n",
    "        # NOTE: xs has target speaker features concatenated with non-target speaker features. \n",
    "        # ys is the previous speaker, hold / shift label, and the next speaker. \n",
    "        return self.xs[idx], self.ys[idx]\n",
    "    \n",
    "    def get_pause_statistics(self):\n",
    "        return {\n",
    "            \"min_pause_length_ms \" : self.min_pause_length_ms , \n",
    "            \"sequence_length_ms\" : self.sequence_length_ms, \n",
    "            \"max_future_silence_window_ms\" : self.max_future_silence_window_ms, \n",
    "            \"num_silences\" : self.num_silences, \n",
    "            \"num_holds\" : self.num_holds, \n",
    "            \"num_shifts\" : self.num_shifts,\n",
    "            \"num_pauses\" : self.num_pauses,\n",
    "            \"s0_participant\" : self.s0_participant\n",
    "        }\n",
    "    \n",
    "    def __prepare_items(self,dialogue,pauses_df):\n",
    "        s0_feature_df, s1_feature_df = self.__load_dataframes(dialogue)\n",
    "        # Collect the data for both models\n",
    "        s0_s1_df = pd.concat([s0_feature_df.loc[:,s0_feature_df.columns != 'frameTime'],s1_feature_df.loc[:,s1_feature_df.columns != 'frameTime']],axis=1)   \n",
    "        s1_s0_df = pd.concat([s1_feature_df.loc[:,s1_feature_df.columns != 'frameTime'],s0_feature_df.loc[:,s0_feature_df.columns != 'frameTime']],axis=1) \n",
    "        for pause_data in pauses_df.itertuples():\n",
    "            _,_, previous_speaker, idx_after_silence_frames, _, hold_shift_label, next_speaker = pause_data \n",
    "            idx_after_silence_frames = int(idx_after_silence_frames)\n",
    "            # Collect features for each speaker equal to sequence length / num context frames. \n",
    "            if idx_after_silence_frames- self.num_context_frames >= 0:\n",
    "                x_s0 = np.asarray(s0_s1_df.iloc[idx_after_silence_frames-self.num_context_frames:idx_after_silence_frames])\n",
    "                x_s1 = np.asarray(s1_s0_df.iloc[idx_after_silence_frames-self.num_context_frames:idx_after_silence_frames])\n",
    "            else:\n",
    "                num_pad = self.num_context_frames - idx_after_silence_frames -1 \n",
    "                x_s0 = np.pad(np.asarray(s0_s1_df.iloc[0:idx_after_silence_frames+1]),[(num_pad,0),(0,0)],'constant')\n",
    "                x_s1 = np.pad(np.asarray(s1_s0_df.iloc[0:idx_after_silence_frames+1]),[(num_pad,0),(0,0)],'constant')\n",
    "            self.xs.append((x_s0,x_s1)) \n",
    "            self.ys.append((int(previous_speaker), int(hold_shift_label), int(next_speaker)))\n",
    "\n",
    "    def __prepare_pauses_df(self, dialogue):\n",
    "        s0_feature_df, s1_feature_df = self.__load_dataframes(dialogue)\n",
    "        # Obtain frame indices where both speakers are speaking. \n",
    "        s0_va_idxs =  np.where(s0_feature_df['voiceActivity'] == 1)[0]\n",
    "        s1_va_idxs =  np.where(s1_feature_df['voiceActivity'] == 1)[0]\n",
    "        va_idxs = np.union1d(s0_va_idxs,s1_va_idxs)\n",
    "        # Obtain index of last speaking frame before silences \n",
    "        speak_before_silence_frames_idx = \\\n",
    "            va_idxs[np.where(np.diff(va_idxs) > self.num_pause_frames)]\n",
    "        self.num_silences += len(speak_before_silence_frames_idx)\n",
    "        # Remove scenarios where both speakers were speaking last i.e., only \n",
    "        # one speaking could have been speaking before te pause\n",
    "        speak_before_silence_frames_idx = [idx for idx in speak_before_silence_frames_idx \\\n",
    "            if not (idx in s0_va_idxs and idx in s1_va_idxs) and (idx in s0_va_idxs or idx in s1_va_idxs)]\n",
    "        # Next, we want to find all the instances where one (and only one) \n",
    "        # speaker continues within the next future_window_ms seconds. \n",
    "        pauses_df = pd.DataFrame(columns=['pauseStartFrameTime', 'previousSpeaker',\n",
    "            'pauseEndFrameIndex', 'nextSpeechFrameIndex', 'holdShiftLabel', 'nextSpeaker'])\n",
    "        for i,idx in enumerate(speak_before_silence_frames_idx):\n",
    "            # Obtain index of the frame after the specified pause length. \n",
    "            idx_after_silence_frames = idx + self.num_pause_frames + 1 \n",
    "            # Get the voice activity in the specified future window\n",
    "            s0_window_va = np.asarray((s0_feature_df['voiceActivity'])[\n",
    "                idx_after_silence_frames:idx_after_silence_frames+self.future_window_frames] == 1)\n",
    "            s1_window_va = np.asarray((s1_feature_df['voiceActivity'])[\n",
    "                idx_after_silence_frames:idx_after_silence_frames+self.future_window_frames] == 1)\n",
    "            # Determine the last speaker before silence \n",
    "            last_participant = 0 if s0_feature_df['voiceActivity'].iloc[idx] else 1 \n",
    "            # NOTE: Both speakers might start speaking in the future window but we want \n",
    "            # to make sure that only one of the speakers starts i.e., no overlap. \n",
    "            # NOTE: 0 = hold, 1 = shift \n",
    "            # Condition 1: Speaker 0 is next. \n",
    "            if s0_window_va.any() and not s1_window_va.any():\n",
    "                next_va_idx = np.argmax(s0_window_va) + idx_after_silence_frames  \n",
    "                hold_shift_label = self.HOLD_LABEL if last_participant == 0 else self.SHIFT_LABEL\n",
    "                pauses_df.loc[i] = (\n",
    "                    s0_feature_df.iloc[idx]['frameTime'], last_participant,\n",
    "                     idx_after_silence_frames, next_va_idx, hold_shift_label,0)             \n",
    "            # Condition 2: Speaker 1 is next. \n",
    "            elif s1_window_va.any() and not s0_window_va.any():\n",
    "                next_va_idx = np.argmax(s1_window_va) + idx_after_silence_frames \n",
    "                hold_shift_label = self.HOLD_LABEL if last_participant == 1 else self.SHIFT_LABEL\n",
    "                pauses_df.loc[i] = (\n",
    "                    s1_feature_df.iloc[idx]['frameTime'], last_participant,\n",
    "                    idx_after_silence_frames, next_va_idx, hold_shift_label,1) \n",
    "        # Update the shift / hold values \n",
    "        self.num_holds += (pauses_df['holdShiftLabel'] == self.HOLD_LABEL).sum()\n",
    "        self.num_shifts += (pauses_df['holdShiftLabel'] == self.SHIFT_LABEL).sum()\n",
    "        self.num_pauses = self.num_holds + self.num_shifts\n",
    "        # Save the pauses df if save dir provided \n",
    "        if self.save_dir != None:\n",
    "            pauses_df.to_csv(\"{}/{}_pauses_df.csv\".format(self.save_dir, dialogue))\n",
    "        return pauses_df \n",
    "\n",
    "    def __load_dataframes(self, dialogue):\n",
    "        if self.s0_participant == \"f\":\n",
    "            s0_feature_df = pd.read_csv(self.feature_paths_map[dialogue][\"f\"], index_col=0,delimiter=\",\") \n",
    "            s1_feature_df = pd.read_csv(self.feature_paths_map[dialogue][\"g\"],index_col=0,delimiter=\",\")\n",
    "        else:\n",
    "            s0_feature_df = pd.read_csv(self.feature_paths_map[dialogue][\"g\"],index_col=0,delimiter=\",\") \n",
    "            s1_feature_df = pd.read_csv(self.feature_paths_map[dialogue][\"f\"],index_col=0,delimiter=\",\")\n",
    "        # Trim the dataframes to the same length \n",
    "        min_num_frames = np.min([len(s0_feature_df.index),len(s1_feature_df.index)])\n",
    "        s0_feature_df = s0_feature_df[:min_num_frames]\n",
    "        s1_feature_df = s1_feature_df[:min_num_frames]\n",
    "        assert len(s0_feature_df) == len(s1_feature_df)\n",
    "        return s0_feature_df, s1_feature_df \n"
   ]
  },
  {
   "cell_type": "markdown",
   "metadata": {},
   "source": [
    "## Experiment 4.2: Prediction at Pauses "
   ]
  },
  {
   "cell_type": "markdown",
   "metadata": {},
   "source": [
    "In this experiment, we want to make HOLD / SHIFT label predictions at pauses using f and g speaker models trained for the same number of epochs and on the same feature set. "
   ]
  },
  {
   "cell_type": "code",
   "execution_count": 20,
   "metadata": {},
   "outputs": [],
   "source": [
    "# Parameters for the experiment \n",
    "MODEL_NAME = \"skantze2017\"\n",
    "FEATURE_SET = \"full\"\n",
    "FEATURE_SET_DIR = FULL_PROCESSED_FEATURE_DIR if FEATURE_SET == \"full\" else PROSODY_PROCESSED_FEATURE_DIR\n",
    "\n",
    "# Model params. \n",
    "NUM_HIDDEN_NODES = 40 \n",
    "SEQUENCE_LENGTHS_MS = 60_000\n",
    "PREDICTION_LENGTHS_MS = 1000\n",
    "FRAME_STEP_SIZE_MS = 50 \n",
    "\n",
    "# Pause Dataset Params. \n",
    "MIN_PAUSE_LENGTH_MS = 500 \n",
    "MAX_FUTURE_SILENCE_WINDOW_MS = 1000 \n",
    "S0_PARTICIPANT = \"f\"\n",
    "PAUSE_DATASET_SAVE_DIR = os.path.join(\n",
    "    PROCESSED_DATA_DIR,\"pause_dataset_{}\".format(FEATURE_SET))\n",
    "\n",
    "# Training args. \n",
    "PRINT_N_EPOCHS = 1 \n",
    "SAVE_N_EPOCHS = 1 \n",
    "LEARNING_RATE = 0.01 \n",
    "WEIGHT_DECAY = 0.001\n",
    "N_EPOCHS = 60\n",
    "\n"
   ]
  },
  {
   "cell_type": "markdown",
   "metadata": {},
   "source": [
    "### Training Appropriate Models "
   ]
  },
  {
   "cell_type": "code",
   "execution_count": 21,
   "metadata": {},
   "outputs": [],
   "source": [
    "# NOTE: This method needs to be redefined for experiment 4.2 \n",
    "def save_for_inference(save_dir,model_name):\n",
    "    assert os.path.isdir(save_dir)\n",
    "    return lambda model, info: (\n",
    "        torch.save({\n",
    "            \"kwargs\" : {\n",
    "                \"input_dim\" : model.input_dim, \n",
    "                \"hidden_dim\" : model.hidden_dim,\n",
    "                \"output_dim\" : model.output_dim,\n",
    "                \"layer_dim\" : model.layer_dim}, \n",
    "            \"info\" : deepcopy(info),\n",
    "            \"model_state_dict\" : model.state_dict()}, \n",
    "            os.path.join(save_dir, \"{}_{}.pt\".format(model_name, info['epoch']))))"
   ]
  },
  {
   "cell_type": "code",
   "execution_count": 22,
   "metadata": {},
   "outputs": [],
   "source": [
    "# Get dialogue splits \n",
    "dataset_csv_paths =  glob.glob(\"{}/*.csv\".format(FEATURE_SET_DIR))\n",
    "LIMITED_RESOURCES = False # TODO: Temporarily setting this to True for testing - remove later. \n",
    "if LIMITED_RESOURCES:\n",
    "    dataset_csv_paths = dataset_csv_paths[:SMALL_DATASET_SIZE]\n"
   ]
  },
  {
   "cell_type": "code",
   "execution_count": 23,
   "metadata": {},
   "outputs": [
    {
     "name": "stdout",
     "output_type": "stream",
     "text": [
      "76 20 32\n"
     ]
    }
   ],
   "source": [
    "train_dialogues, val_dialogues, test_dialogues = \\\n",
    "    get_train_val_test_dialogues(dataset_csv_paths)\n",
    "feature_paths_map =  \\\n",
    "    collect_dialogue_features(train_dialogues,FEATURE_SET_DIR)\n",
    "print(len(train_dialogues), len(val_dialogues), len(test_dialogues))"
   ]
  },
  {
   "cell_type": "code",
   "execution_count": 24,
   "metadata": {},
   "outputs": [],
   "source": [
    "from tqdm import tqdm "
   ]
  },
  {
   "cell_type": "code",
   "execution_count": 25,
   "metadata": {},
   "outputs": [],
   "source": [
    "# Create the save dir / func for this config. \n",
    "exp_config_name =  \"{}_{}_{}\".format(SEQUENCE_LENGTHS_MS,\n",
    "            PREDICTION_LENGTHS_MS,FEATURE_SET)\n",
    "save_models_dir = os.path.join(SAVE_MODELS_DIR,exp_config_name)"
   ]
  },
  {
   "cell_type": "code",
   "execution_count": 26,
   "metadata": {},
   "outputs": [
    {
     "name": "stdout",
     "output_type": "stream",
     "text": [
      "Target speaker: f\n",
      "Generating training datasets...\n",
      "Generating training dataloaders...\n",
      "Initializing model...\n",
      "Evaluating and saving the untrained model for reference...\n",
      "Training models...\n",
      "[1/60] Training loss: 0.2216\t                 Validation loss: 0.2083\n",
      "[2/60] Training loss: 0.2084\t                 Validation loss: 0.2074\n",
      "[3/60] Training loss: 0.2144\t                 Validation loss: 0.1844\n",
      "[4/60] Training loss: 0.2087\t                 Validation loss: 0.1999\n",
      "[5/60] Training loss: 0.1993\t                 Validation loss: 0.1999\n",
      "[6/60] Training loss: 0.2061\t                 Validation loss: 0.1876\n",
      "[7/60] Training loss: 0.2001\t                 Validation loss: 0.1929\n",
      "[8/60] Training loss: 0.2105\t                 Validation loss: 0.2236\n",
      "[9/60] Training loss: 0.2129\t                 Validation loss: 0.1840\n",
      "[10/60] Training loss: 0.1954\t                 Validation loss: 0.1991\n",
      "[11/60] Training loss: 0.2016\t                 Validation loss: 0.1781\n",
      "[12/60] Training loss: 0.2045\t                 Validation loss: 0.1784\n",
      "[13/60] Training loss: 0.2036\t                 Validation loss: 0.2065\n",
      "[14/60] Training loss: 0.2049\t                 Validation loss: 0.1864\n",
      "[15/60] Training loss: 0.2031\t                 Validation loss: 0.1865\n",
      "[16/60] Training loss: 0.2042\t                 Validation loss: 0.2076\n",
      "[17/60] Training loss: 0.2094\t                 Validation loss: 0.2073\n",
      "[18/60] Training loss: 0.2072\t                 Validation loss: 0.1973\n",
      "[19/60] Training loss: 0.2024\t                 Validation loss: 0.1931\n",
      "[20/60] Training loss: 0.2065\t                 Validation loss: 0.1995\n",
      "[21/60] Training loss: 0.2091\t                 Validation loss: 0.2003\n",
      "[22/60] Training loss: 0.2007\t                 Validation loss: 0.1980\n",
      "[23/60] Training loss: 0.2114\t                 Validation loss: 0.2408\n",
      "[24/60] Training loss: 0.2001\t                 Validation loss: 0.1840\n",
      "[25/60] Training loss: 0.2013\t                 Validation loss: 0.1982\n",
      "[26/60] Training loss: 0.1990\t                 Validation loss: 0.1937\n",
      "[27/60] Training loss: 0.2016\t                 Validation loss: 0.2012\n",
      "[28/60] Training loss: 0.2052\t                 Validation loss: 0.2076\n",
      "[29/60] Training loss: 0.2015\t                 Validation loss: 0.2150\n",
      "[30/60] Training loss: 0.2099\t                 Validation loss: 0.1893\n",
      "[31/60] Training loss: 0.2053\t                 Validation loss: 0.1848\n",
      "[32/60] Training loss: 0.1985\t                 Validation loss: 0.1708\n",
      "[33/60] Training loss: 0.2041\t                 Validation loss: 0.1749\n",
      "[34/60] Training loss: 0.2011\t                 Validation loss: 0.1928\n",
      "[35/60] Training loss: 0.2009\t                 Validation loss: 0.2077\n",
      "[36/60] Training loss: 0.2072\t                 Validation loss: 0.1823\n",
      "[37/60] Training loss: 0.2008\t                 Validation loss: 0.1791\n",
      "[38/60] Training loss: 0.1969\t                 Validation loss: 0.2048\n",
      "[39/60] Training loss: 0.2004\t                 Validation loss: 0.1807\n",
      "[40/60] Training loss: 0.2009\t                 Validation loss: 0.1800\n",
      "[41/60] Training loss: 0.2011\t                 Validation loss: 0.1919\n",
      "[42/60] Training loss: 0.2098\t                 Validation loss: 0.2090\n",
      "[43/60] Training loss: 0.2070\t                 Validation loss: 0.1943\n",
      "[44/60] Training loss: 0.2056\t                 Validation loss: 0.2290\n",
      "[45/60] Training loss: 0.2117\t                 Validation loss: 0.2031\n",
      "[46/60] Training loss: 0.2021\t                 Validation loss: 0.1907\n",
      "[47/60] Training loss: 0.2056\t                 Validation loss: 0.1976\n",
      "[48/60] Training loss: 0.2090\t                 Validation loss: 0.2111\n",
      "[49/60] Training loss: 0.2082\t                 Validation loss: 0.2009\n",
      "[50/60] Training loss: 0.2098\t                 Validation loss: 0.1864\n",
      "[51/60] Training loss: 0.2015\t                 Validation loss: 0.2123\n",
      "[52/60] Training loss: 0.2082\t                 Validation loss: 0.1830\n",
      "[53/60] Training loss: 0.2002\t                 Validation loss: 0.2027\n",
      "[54/60] Training loss: 0.2018\t                 Validation loss: 0.1946\n",
      "[55/60] Training loss: 0.2042\t                 Validation loss: 0.1865\n",
      "[56/60] Training loss: 0.2035\t                 Validation loss: 0.1947\n",
      "[57/60] Training loss: 0.2086\t                 Validation loss: 0.1921\n",
      "[58/60] Training loss: 0.2030\t                 Validation loss: 0.2081\n",
      "[59/60] Training loss: 0.2012\t                 Validation loss: 0.1844\n",
      "[60/60] Training loss: 0.2075\t                 Validation loss: 0.1833\n",
      "Evaluating models...\n"
     ]
    },
    {
     "name": "stderr",
     "output_type": "stream",
     "text": [
      "0it [00:00, ?it/s]\n"
     ]
    },
    {
     "name": "stdout",
     "output_type": "stream",
     "text": [
      "Target speaker: g\n",
      "Generating training datasets...\n",
      "Generating training dataloaders...\n",
      "Initializing model...\n",
      "Evaluating and saving the untrained model for reference...\n",
      "Training models...\n",
      "[1/60] Training loss: 0.3599\t                 Validation loss: 0.3073\n",
      "[2/60] Training loss: 0.3144\t                 Validation loss: 0.3872\n",
      "[3/60] Training loss: 0.3351\t                 Validation loss: 0.4660\n",
      "[4/60] Training loss: 0.3408\t                 Validation loss: 0.3062\n",
      "[5/60] Training loss: 0.3084\t                 Validation loss: 0.2974\n",
      "[6/60] Training loss: 0.3226\t                 Validation loss: 0.3080\n",
      "[7/60] Training loss: 0.3372\t                 Validation loss: 0.3300\n",
      "[8/60] Training loss: 0.3156\t                 Validation loss: 0.3684\n",
      "[9/60] Training loss: 0.3233\t                 Validation loss: 0.3171\n",
      "[10/60] Training loss: 0.3160\t                 Validation loss: 0.3463\n",
      "[11/60] Training loss: 0.3201\t                 Validation loss: 0.2989\n",
      "[12/60] Training loss: 0.3175\t                 Validation loss: 0.2830\n",
      "[13/60] Training loss: 0.3114\t                 Validation loss: 0.3185\n",
      "[14/60] Training loss: 0.3140\t                 Validation loss: 0.2987\n",
      "[15/60] Training loss: 0.3076\t                 Validation loss: 0.3168\n",
      "[16/60] Training loss: 0.3159\t                 Validation loss: 0.3171\n",
      "[17/60] Training loss: 0.3129\t                 Validation loss: 0.3186\n",
      "[18/60] Training loss: 0.3145\t                 Validation loss: 0.3075\n",
      "[19/60] Training loss: 0.3097\t                 Validation loss: 0.3613\n",
      "[20/60] Training loss: 0.3103\t                 Validation loss: 0.3050\n",
      "[21/60] Training loss: 0.3071\t                 Validation loss: 0.3087\n",
      "[22/60] Training loss: 0.3129\t                 Validation loss: 0.3061\n",
      "[23/60] Training loss: 0.3255\t                 Validation loss: 0.3152\n",
      "[24/60] Training loss: 0.3073\t                 Validation loss: 0.3024\n",
      "[25/60] Training loss: 0.3157\t                 Validation loss: 0.2953\n",
      "[26/60] Training loss: 0.3084\t                 Validation loss: 0.3646\n",
      "[27/60] Training loss: 0.3122\t                 Validation loss: 0.3075\n",
      "[28/60] Training loss: 0.3246\t                 Validation loss: 0.4126\n",
      "[29/60] Training loss: 0.3136\t                 Validation loss: 0.2912\n",
      "[30/60] Training loss: 0.3224\t                 Validation loss: 0.2986\n",
      "[31/60] Training loss: 0.3027\t                 Validation loss: 0.3100\n",
      "[32/60] Training loss: 0.3143\t                 Validation loss: 0.3216\n",
      "[33/60] Training loss: 0.3171\t                 Validation loss: 0.3659\n",
      "[34/60] Training loss: 0.3151\t                 Validation loss: 0.3041\n",
      "[35/60] Training loss: 0.3132\t                 Validation loss: 0.3235\n",
      "[36/60] Training loss: 0.3483\t                 Validation loss: 0.3168\n",
      "[37/60] Training loss: 0.3097\t                 Validation loss: 0.2924\n",
      "[38/60] Training loss: 0.3157\t                 Validation loss: 0.3307\n",
      "[39/60] Training loss: 0.3033\t                 Validation loss: 0.3346\n",
      "[40/60] Training loss: 0.3161\t                 Validation loss: 0.3252\n",
      "[41/60] Training loss: 0.3601\t                 Validation loss: 0.3453\n",
      "[42/60] Training loss: 0.3165\t                 Validation loss: 0.4185\n",
      "[43/60] Training loss: 0.3456\t                 Validation loss: 0.3485\n",
      "[44/60] Training loss: 0.3043\t                 Validation loss: 0.3023\n",
      "[45/60] Training loss: 0.3087\t                 Validation loss: 0.3314\n",
      "[46/60] Training loss: 0.3151\t                 Validation loss: 0.3090\n",
      "[47/60] Training loss: 0.3238\t                 Validation loss: 0.3015\n",
      "[48/60] Training loss: 0.3109\t                 Validation loss: 0.3668\n",
      "[49/60] Training loss: 0.3302\t                 Validation loss: 0.3244\n",
      "[50/60] Training loss: 0.3135\t                 Validation loss: 0.3205\n",
      "[51/60] Training loss: 0.3105\t                 Validation loss: 0.2958\n",
      "[52/60] Training loss: 0.3203\t                 Validation loss: 0.3037\n",
      "[53/60] Training loss: 0.3192\t                 Validation loss: 0.3196\n",
      "[54/60] Training loss: 0.3222\t                 Validation loss: 0.2993\n",
      "[55/60] Training loss: 0.3089\t                 Validation loss: 0.3436\n",
      "[56/60] Training loss: 0.3087\t                 Validation loss: 0.3162\n",
      "[57/60] Training loss: 0.3128\t                 Validation loss: 0.3016\n",
      "[58/60] Training loss: 0.3312\t                 Validation loss: 0.3363\n",
      "[59/60] Training loss: 0.3272\t                 Validation loss: 0.3042\n",
      "[60/60] Training loss: 0.3240\t                 Validation loss: 0.3085\n",
      "Evaluating models...\n"
     ]
    },
    {
     "name": "stderr",
     "output_type": "stream",
     "text": [
      "0it [00:00, ?it/s]\n"
     ]
    }
   ],
   "source": [
    "# -- First step is to train the models and save them at every epoch. \n",
    "\n",
    "\n",
    "os.makedirs(save_models_dir,exist_ok=True)\n",
    "# Creating the loss save function \n",
    "hf, hf_save_path, save_loss_fn= save_losses(save_models_dir, \"exp_4.2\")\n",
    "# Starting training per speaker \n",
    "for target_speaker in (\"f\",\"g\"):\n",
    "    print(\"Target speaker: {}\".format(target_speaker))\n",
    "    # Make the save dirs. / method for this target speaker \n",
    "    speaker_save_dir = os.path.join(save_models_dir,target_speaker)\n",
    "    os.makedirs(speaker_save_dir,exist_ok=True)\n",
    "    save_fn = save_for_inference(speaker_save_dir,MODEL_NAME)\n",
    "    print(\"Generating training datasets...\")\n",
    "    datasets = [] \n",
    "    for dialogues in (train_dialogues, val_dialogues, test_dialogues):\n",
    "        dataset = Skantze2017VAPredictionMapTaskDataset(\n",
    "            feature_paths_map=collect_dialogue_features(\n",
    "                                    dialogues,FEATURE_SET_DIR), \n",
    "            sequence_length_ms=SEQUENCE_LENGTHS_MS, \n",
    "            prediction_length_ms=PREDICTION_LENGTHS_MS, \n",
    "            target_participant=target_speaker, \n",
    "            frame_step_size_ms=FRAME_STEP_SIZE_MS)\n",
    "        datasets.append(deepcopy(dataset))\n",
    "    print(\"Generating training dataloaders...\")\n",
    "    dataloaders = [] \n",
    "    for i, (dataset_name, batch_size) in enumerate(\n",
    "        zip(('train','val','test'),(1,1,1))):\n",
    "        dataloader = generate_dataloader(datasets[i],batch_size=batch_size)\n",
    "        dataloaders.append(dataloader)\n",
    "    print(\"Initializing model...\")\n",
    "    model = Skantze2017LSTMPredictor(\n",
    "        input_dim=next(iter(datasets[0]))[0].shape[-1],\n",
    "        hidden_dim=NUM_HIDDEN_NODES , \n",
    "        output_dim=int(PREDICTION_LENGTHS_MS/FRAME_STEP_SIZE_MS))\n",
    "    loss_fn = nn.L1Loss()\n",
    "    optimizer = torch.optim.RMSprop(\n",
    "        model.parameters(),lr=LEARNING_RATE,weight_decay=WEIGHT_DECAY)\n",
    "    # Save the untrained model for reference \n",
    "    print(\"Evaluating and saving the untrained model for reference...\")\n",
    "    per_epoch_eval_losses = []\n",
    "    l1_losses, _ = evaluate_skantze2017(model, dataloaders[-1])\n",
    "    per_epoch_eval_losses.append(np.mean(l1_losses))\n",
    "    save_fn(model,{ \"epoch\" : 0,  \"loss\" : 0.0,  \"val_loss\" : 0.0})\n",
    "    # -- Start training \n",
    "    print(\"Training models...\")\n",
    "    training_losses, val_losses = train(\n",
    "        model,optimizer, loss_fn,dataloaders[0], dataloaders[1], \n",
    "        n_epochs=N_EPOCHS, print_n_epochs=PRINT_N_EPOCHS,\n",
    "        save_fn=save_fn,save_n_epochs=SAVE_N_EPOCHS)\n",
    "    # -- Evaluate the models \n",
    "    # The evaluation is the average evaluation loss for models trained \n",
    "    # utpo epoch N. \n",
    "    print(\"Evaluating models...\")\n",
    "    model_paths = sorted(glob.glob(\"{}/*.pt\".format(save_models_dir))) \n",
    "    for model_path in tqdm(model_paths):\n",
    "        model, info = load_for_inference(model_path)\n",
    "        model.eval()\n",
    "        l1_losses, _ = evaluate_skantze2017(model, dataloaders[-1])\n",
    "        per_epoch_eval_losses.append(np.mean(l1_losses))\n",
    "    # Save losses for the final epoch of this configuration.\n",
    "    # NOTE: These losses are the per epoch loss for every epoch. \n",
    "    save_loss_fn(\n",
    "        \"{}_{}_{}\".format(exp_config_name,target_speaker,N_EPOCHS), {\n",
    "            \"per_epoch_training\" : training_losses, \n",
    "            \"per_epoch_validation\" : val_losses, \n",
    "            \"per_epoch_eval\" : per_epoch_eval_losses})\n",
    "hf.close()\n",
    "\n"
   ]
  },
  {
   "cell_type": "markdown",
   "metadata": {},
   "source": [
    "### Evaluating on the Pause Dataset "
   ]
  },
  {
   "cell_type": "code",
   "execution_count": 27,
   "metadata": {},
   "outputs": [],
   "source": [
    "from collections import defaultdict"
   ]
  },
  {
   "cell_type": "code",
   "execution_count": 28,
   "metadata": {},
   "outputs": [],
   "source": [
    "# Loading the models \n",
    "models = defaultdict(lambda : list())\n",
    "for target_speaker in (\"f\",\"g\"):\n",
    "    speaker_save_dir = os.path.join(save_models_dir,target_speaker)\n",
    "    model_paths = glob.glob(\"{}/*.pt\".format(speaker_save_dir))\n",
    "    models[target_speaker] = sorted(model_paths)\n",
    "assert len(models[\"f\"]) == len(models[\"g\"])\n",
    "# Collect the s0 and s1 models \n",
    "if S0_PARTICIPANT == \"f\":\n",
    "    s0_models = models[\"f\"]\n",
    "    s1_models = models[\"g\"]\n",
    "else:\n",
    "    s0_models = models[\"g\"]\n",
    "    s1_models = models[\"f\"]\n",
    "assert len(s0_models) == len(s1_models)\n",
    "# TODO: The models are not being sorted properly before prediction. "
   ]
  },
  {
   "cell_type": "code",
   "execution_count": 29,
   "metadata": {},
   "outputs": [
    {
     "data": {
      "text/plain": [
       "[('/Users/muhammadumair/Documents/Repositories/mumair01-repos/TRP-Modeling/skantze_2017_continuous/models/skantze2017_exp_4_2_poc/60000_1000_full/f/skantze2017_0.pt',\n",
       "  '/Users/muhammadumair/Documents/Repositories/mumair01-repos/TRP-Modeling/skantze_2017_continuous/models/skantze2017_exp_4_2_poc/60000_1000_full/g/skantze2017_0.pt'),\n",
       " ('/Users/muhammadumair/Documents/Repositories/mumair01-repos/TRP-Modeling/skantze_2017_continuous/models/skantze2017_exp_4_2_poc/60000_1000_full/f/skantze2017_1.pt',\n",
       "  '/Users/muhammadumair/Documents/Repositories/mumair01-repos/TRP-Modeling/skantze_2017_continuous/models/skantze2017_exp_4_2_poc/60000_1000_full/g/skantze2017_1.pt'),\n",
       " ('/Users/muhammadumair/Documents/Repositories/mumair01-repos/TRP-Modeling/skantze_2017_continuous/models/skantze2017_exp_4_2_poc/60000_1000_full/f/skantze2017_2.pt',\n",
       "  '/Users/muhammadumair/Documents/Repositories/mumair01-repos/TRP-Modeling/skantze_2017_continuous/models/skantze2017_exp_4_2_poc/60000_1000_full/g/skantze2017_2.pt'),\n",
       " ('/Users/muhammadumair/Documents/Repositories/mumair01-repos/TRP-Modeling/skantze_2017_continuous/models/skantze2017_exp_4_2_poc/60000_1000_full/f/skantze2017_3.pt',\n",
       "  '/Users/muhammadumair/Documents/Repositories/mumair01-repos/TRP-Modeling/skantze_2017_continuous/models/skantze2017_exp_4_2_poc/60000_1000_full/g/skantze2017_3.pt'),\n",
       " ('/Users/muhammadumair/Documents/Repositories/mumair01-repos/TRP-Modeling/skantze_2017_continuous/models/skantze2017_exp_4_2_poc/60000_1000_full/f/skantze2017_4.pt',\n",
       "  '/Users/muhammadumair/Documents/Repositories/mumair01-repos/TRP-Modeling/skantze_2017_continuous/models/skantze2017_exp_4_2_poc/60000_1000_full/g/skantze2017_4.pt'),\n",
       " ('/Users/muhammadumair/Documents/Repositories/mumair01-repos/TRP-Modeling/skantze_2017_continuous/models/skantze2017_exp_4_2_poc/60000_1000_full/f/skantze2017_5.pt',\n",
       "  '/Users/muhammadumair/Documents/Repositories/mumair01-repos/TRP-Modeling/skantze_2017_continuous/models/skantze2017_exp_4_2_poc/60000_1000_full/g/skantze2017_5.pt'),\n",
       " ('/Users/muhammadumair/Documents/Repositories/mumair01-repos/TRP-Modeling/skantze_2017_continuous/models/skantze2017_exp_4_2_poc/60000_1000_full/f/skantze2017_6.pt',\n",
       "  '/Users/muhammadumair/Documents/Repositories/mumair01-repos/TRP-Modeling/skantze_2017_continuous/models/skantze2017_exp_4_2_poc/60000_1000_full/g/skantze2017_6.pt'),\n",
       " ('/Users/muhammadumair/Documents/Repositories/mumair01-repos/TRP-Modeling/skantze_2017_continuous/models/skantze2017_exp_4_2_poc/60000_1000_full/f/skantze2017_7.pt',\n",
       "  '/Users/muhammadumair/Documents/Repositories/mumair01-repos/TRP-Modeling/skantze_2017_continuous/models/skantze2017_exp_4_2_poc/60000_1000_full/g/skantze2017_7.pt'),\n",
       " ('/Users/muhammadumair/Documents/Repositories/mumair01-repos/TRP-Modeling/skantze_2017_continuous/models/skantze2017_exp_4_2_poc/60000_1000_full/f/skantze2017_8.pt',\n",
       "  '/Users/muhammadumair/Documents/Repositories/mumair01-repos/TRP-Modeling/skantze_2017_continuous/models/skantze2017_exp_4_2_poc/60000_1000_full/g/skantze2017_8.pt'),\n",
       " ('/Users/muhammadumair/Documents/Repositories/mumair01-repos/TRP-Modeling/skantze_2017_continuous/models/skantze2017_exp_4_2_poc/60000_1000_full/f/skantze2017_9.pt',\n",
       "  '/Users/muhammadumair/Documents/Repositories/mumair01-repos/TRP-Modeling/skantze_2017_continuous/models/skantze2017_exp_4_2_poc/60000_1000_full/g/skantze2017_9.pt'),\n",
       " ('/Users/muhammadumair/Documents/Repositories/mumair01-repos/TRP-Modeling/skantze_2017_continuous/models/skantze2017_exp_4_2_poc/60000_1000_full/f/skantze2017_10.pt',\n",
       "  '/Users/muhammadumair/Documents/Repositories/mumair01-repos/TRP-Modeling/skantze_2017_continuous/models/skantze2017_exp_4_2_poc/60000_1000_full/g/skantze2017_10.pt'),\n",
       " ('/Users/muhammadumair/Documents/Repositories/mumair01-repos/TRP-Modeling/skantze_2017_continuous/models/skantze2017_exp_4_2_poc/60000_1000_full/f/skantze2017_11.pt',\n",
       "  '/Users/muhammadumair/Documents/Repositories/mumair01-repos/TRP-Modeling/skantze_2017_continuous/models/skantze2017_exp_4_2_poc/60000_1000_full/g/skantze2017_11.pt'),\n",
       " ('/Users/muhammadumair/Documents/Repositories/mumair01-repos/TRP-Modeling/skantze_2017_continuous/models/skantze2017_exp_4_2_poc/60000_1000_full/f/skantze2017_12.pt',\n",
       "  '/Users/muhammadumair/Documents/Repositories/mumair01-repos/TRP-Modeling/skantze_2017_continuous/models/skantze2017_exp_4_2_poc/60000_1000_full/g/skantze2017_12.pt'),\n",
       " ('/Users/muhammadumair/Documents/Repositories/mumair01-repos/TRP-Modeling/skantze_2017_continuous/models/skantze2017_exp_4_2_poc/60000_1000_full/f/skantze2017_13.pt',\n",
       "  '/Users/muhammadumair/Documents/Repositories/mumair01-repos/TRP-Modeling/skantze_2017_continuous/models/skantze2017_exp_4_2_poc/60000_1000_full/g/skantze2017_13.pt'),\n",
       " ('/Users/muhammadumair/Documents/Repositories/mumair01-repos/TRP-Modeling/skantze_2017_continuous/models/skantze2017_exp_4_2_poc/60000_1000_full/f/skantze2017_14.pt',\n",
       "  '/Users/muhammadumair/Documents/Repositories/mumair01-repos/TRP-Modeling/skantze_2017_continuous/models/skantze2017_exp_4_2_poc/60000_1000_full/g/skantze2017_14.pt'),\n",
       " ('/Users/muhammadumair/Documents/Repositories/mumair01-repos/TRP-Modeling/skantze_2017_continuous/models/skantze2017_exp_4_2_poc/60000_1000_full/f/skantze2017_15.pt',\n",
       "  '/Users/muhammadumair/Documents/Repositories/mumair01-repos/TRP-Modeling/skantze_2017_continuous/models/skantze2017_exp_4_2_poc/60000_1000_full/g/skantze2017_15.pt'),\n",
       " ('/Users/muhammadumair/Documents/Repositories/mumair01-repos/TRP-Modeling/skantze_2017_continuous/models/skantze2017_exp_4_2_poc/60000_1000_full/f/skantze2017_16.pt',\n",
       "  '/Users/muhammadumair/Documents/Repositories/mumair01-repos/TRP-Modeling/skantze_2017_continuous/models/skantze2017_exp_4_2_poc/60000_1000_full/g/skantze2017_16.pt'),\n",
       " ('/Users/muhammadumair/Documents/Repositories/mumair01-repos/TRP-Modeling/skantze_2017_continuous/models/skantze2017_exp_4_2_poc/60000_1000_full/f/skantze2017_17.pt',\n",
       "  '/Users/muhammadumair/Documents/Repositories/mumair01-repos/TRP-Modeling/skantze_2017_continuous/models/skantze2017_exp_4_2_poc/60000_1000_full/g/skantze2017_17.pt'),\n",
       " ('/Users/muhammadumair/Documents/Repositories/mumair01-repos/TRP-Modeling/skantze_2017_continuous/models/skantze2017_exp_4_2_poc/60000_1000_full/f/skantze2017_18.pt',\n",
       "  '/Users/muhammadumair/Documents/Repositories/mumair01-repos/TRP-Modeling/skantze_2017_continuous/models/skantze2017_exp_4_2_poc/60000_1000_full/g/skantze2017_18.pt'),\n",
       " ('/Users/muhammadumair/Documents/Repositories/mumair01-repos/TRP-Modeling/skantze_2017_continuous/models/skantze2017_exp_4_2_poc/60000_1000_full/f/skantze2017_19.pt',\n",
       "  '/Users/muhammadumair/Documents/Repositories/mumair01-repos/TRP-Modeling/skantze_2017_continuous/models/skantze2017_exp_4_2_poc/60000_1000_full/g/skantze2017_19.pt'),\n",
       " ('/Users/muhammadumair/Documents/Repositories/mumair01-repos/TRP-Modeling/skantze_2017_continuous/models/skantze2017_exp_4_2_poc/60000_1000_full/f/skantze2017_20.pt',\n",
       "  '/Users/muhammadumair/Documents/Repositories/mumair01-repos/TRP-Modeling/skantze_2017_continuous/models/skantze2017_exp_4_2_poc/60000_1000_full/g/skantze2017_20.pt'),\n",
       " ('/Users/muhammadumair/Documents/Repositories/mumair01-repos/TRP-Modeling/skantze_2017_continuous/models/skantze2017_exp_4_2_poc/60000_1000_full/f/skantze2017_21.pt',\n",
       "  '/Users/muhammadumair/Documents/Repositories/mumair01-repos/TRP-Modeling/skantze_2017_continuous/models/skantze2017_exp_4_2_poc/60000_1000_full/g/skantze2017_21.pt'),\n",
       " ('/Users/muhammadumair/Documents/Repositories/mumair01-repos/TRP-Modeling/skantze_2017_continuous/models/skantze2017_exp_4_2_poc/60000_1000_full/f/skantze2017_22.pt',\n",
       "  '/Users/muhammadumair/Documents/Repositories/mumair01-repos/TRP-Modeling/skantze_2017_continuous/models/skantze2017_exp_4_2_poc/60000_1000_full/g/skantze2017_22.pt'),\n",
       " ('/Users/muhammadumair/Documents/Repositories/mumair01-repos/TRP-Modeling/skantze_2017_continuous/models/skantze2017_exp_4_2_poc/60000_1000_full/f/skantze2017_23.pt',\n",
       "  '/Users/muhammadumair/Documents/Repositories/mumair01-repos/TRP-Modeling/skantze_2017_continuous/models/skantze2017_exp_4_2_poc/60000_1000_full/g/skantze2017_23.pt'),\n",
       " ('/Users/muhammadumair/Documents/Repositories/mumair01-repos/TRP-Modeling/skantze_2017_continuous/models/skantze2017_exp_4_2_poc/60000_1000_full/f/skantze2017_24.pt',\n",
       "  '/Users/muhammadumair/Documents/Repositories/mumair01-repos/TRP-Modeling/skantze_2017_continuous/models/skantze2017_exp_4_2_poc/60000_1000_full/g/skantze2017_24.pt'),\n",
       " ('/Users/muhammadumair/Documents/Repositories/mumair01-repos/TRP-Modeling/skantze_2017_continuous/models/skantze2017_exp_4_2_poc/60000_1000_full/f/skantze2017_25.pt',\n",
       "  '/Users/muhammadumair/Documents/Repositories/mumair01-repos/TRP-Modeling/skantze_2017_continuous/models/skantze2017_exp_4_2_poc/60000_1000_full/g/skantze2017_25.pt'),\n",
       " ('/Users/muhammadumair/Documents/Repositories/mumair01-repos/TRP-Modeling/skantze_2017_continuous/models/skantze2017_exp_4_2_poc/60000_1000_full/f/skantze2017_26.pt',\n",
       "  '/Users/muhammadumair/Documents/Repositories/mumair01-repos/TRP-Modeling/skantze_2017_continuous/models/skantze2017_exp_4_2_poc/60000_1000_full/g/skantze2017_26.pt'),\n",
       " ('/Users/muhammadumair/Documents/Repositories/mumair01-repos/TRP-Modeling/skantze_2017_continuous/models/skantze2017_exp_4_2_poc/60000_1000_full/f/skantze2017_27.pt',\n",
       "  '/Users/muhammadumair/Documents/Repositories/mumair01-repos/TRP-Modeling/skantze_2017_continuous/models/skantze2017_exp_4_2_poc/60000_1000_full/g/skantze2017_27.pt'),\n",
       " ('/Users/muhammadumair/Documents/Repositories/mumair01-repos/TRP-Modeling/skantze_2017_continuous/models/skantze2017_exp_4_2_poc/60000_1000_full/f/skantze2017_28.pt',\n",
       "  '/Users/muhammadumair/Documents/Repositories/mumair01-repos/TRP-Modeling/skantze_2017_continuous/models/skantze2017_exp_4_2_poc/60000_1000_full/g/skantze2017_28.pt'),\n",
       " ('/Users/muhammadumair/Documents/Repositories/mumair01-repos/TRP-Modeling/skantze_2017_continuous/models/skantze2017_exp_4_2_poc/60000_1000_full/f/skantze2017_29.pt',\n",
       "  '/Users/muhammadumair/Documents/Repositories/mumair01-repos/TRP-Modeling/skantze_2017_continuous/models/skantze2017_exp_4_2_poc/60000_1000_full/g/skantze2017_29.pt'),\n",
       " ('/Users/muhammadumair/Documents/Repositories/mumair01-repos/TRP-Modeling/skantze_2017_continuous/models/skantze2017_exp_4_2_poc/60000_1000_full/f/skantze2017_30.pt',\n",
       "  '/Users/muhammadumair/Documents/Repositories/mumair01-repos/TRP-Modeling/skantze_2017_continuous/models/skantze2017_exp_4_2_poc/60000_1000_full/g/skantze2017_30.pt'),\n",
       " ('/Users/muhammadumair/Documents/Repositories/mumair01-repos/TRP-Modeling/skantze_2017_continuous/models/skantze2017_exp_4_2_poc/60000_1000_full/f/skantze2017_31.pt',\n",
       "  '/Users/muhammadumair/Documents/Repositories/mumair01-repos/TRP-Modeling/skantze_2017_continuous/models/skantze2017_exp_4_2_poc/60000_1000_full/g/skantze2017_31.pt'),\n",
       " ('/Users/muhammadumair/Documents/Repositories/mumair01-repos/TRP-Modeling/skantze_2017_continuous/models/skantze2017_exp_4_2_poc/60000_1000_full/f/skantze2017_32.pt',\n",
       "  '/Users/muhammadumair/Documents/Repositories/mumair01-repos/TRP-Modeling/skantze_2017_continuous/models/skantze2017_exp_4_2_poc/60000_1000_full/g/skantze2017_32.pt'),\n",
       " ('/Users/muhammadumair/Documents/Repositories/mumair01-repos/TRP-Modeling/skantze_2017_continuous/models/skantze2017_exp_4_2_poc/60000_1000_full/f/skantze2017_33.pt',\n",
       "  '/Users/muhammadumair/Documents/Repositories/mumair01-repos/TRP-Modeling/skantze_2017_continuous/models/skantze2017_exp_4_2_poc/60000_1000_full/g/skantze2017_33.pt'),\n",
       " ('/Users/muhammadumair/Documents/Repositories/mumair01-repos/TRP-Modeling/skantze_2017_continuous/models/skantze2017_exp_4_2_poc/60000_1000_full/f/skantze2017_34.pt',\n",
       "  '/Users/muhammadumair/Documents/Repositories/mumair01-repos/TRP-Modeling/skantze_2017_continuous/models/skantze2017_exp_4_2_poc/60000_1000_full/g/skantze2017_34.pt'),\n",
       " ('/Users/muhammadumair/Documents/Repositories/mumair01-repos/TRP-Modeling/skantze_2017_continuous/models/skantze2017_exp_4_2_poc/60000_1000_full/f/skantze2017_35.pt',\n",
       "  '/Users/muhammadumair/Documents/Repositories/mumair01-repos/TRP-Modeling/skantze_2017_continuous/models/skantze2017_exp_4_2_poc/60000_1000_full/g/skantze2017_35.pt'),\n",
       " ('/Users/muhammadumair/Documents/Repositories/mumair01-repos/TRP-Modeling/skantze_2017_continuous/models/skantze2017_exp_4_2_poc/60000_1000_full/f/skantze2017_36.pt',\n",
       "  '/Users/muhammadumair/Documents/Repositories/mumair01-repos/TRP-Modeling/skantze_2017_continuous/models/skantze2017_exp_4_2_poc/60000_1000_full/g/skantze2017_36.pt'),\n",
       " ('/Users/muhammadumair/Documents/Repositories/mumair01-repos/TRP-Modeling/skantze_2017_continuous/models/skantze2017_exp_4_2_poc/60000_1000_full/f/skantze2017_37.pt',\n",
       "  '/Users/muhammadumair/Documents/Repositories/mumair01-repos/TRP-Modeling/skantze_2017_continuous/models/skantze2017_exp_4_2_poc/60000_1000_full/g/skantze2017_37.pt'),\n",
       " ('/Users/muhammadumair/Documents/Repositories/mumair01-repos/TRP-Modeling/skantze_2017_continuous/models/skantze2017_exp_4_2_poc/60000_1000_full/f/skantze2017_38.pt',\n",
       "  '/Users/muhammadumair/Documents/Repositories/mumair01-repos/TRP-Modeling/skantze_2017_continuous/models/skantze2017_exp_4_2_poc/60000_1000_full/g/skantze2017_38.pt'),\n",
       " ('/Users/muhammadumair/Documents/Repositories/mumair01-repos/TRP-Modeling/skantze_2017_continuous/models/skantze2017_exp_4_2_poc/60000_1000_full/f/skantze2017_39.pt',\n",
       "  '/Users/muhammadumair/Documents/Repositories/mumair01-repos/TRP-Modeling/skantze_2017_continuous/models/skantze2017_exp_4_2_poc/60000_1000_full/g/skantze2017_39.pt'),\n",
       " ('/Users/muhammadumair/Documents/Repositories/mumair01-repos/TRP-Modeling/skantze_2017_continuous/models/skantze2017_exp_4_2_poc/60000_1000_full/f/skantze2017_40.pt',\n",
       "  '/Users/muhammadumair/Documents/Repositories/mumair01-repos/TRP-Modeling/skantze_2017_continuous/models/skantze2017_exp_4_2_poc/60000_1000_full/g/skantze2017_40.pt'),\n",
       " ('/Users/muhammadumair/Documents/Repositories/mumair01-repos/TRP-Modeling/skantze_2017_continuous/models/skantze2017_exp_4_2_poc/60000_1000_full/f/skantze2017_41.pt',\n",
       "  '/Users/muhammadumair/Documents/Repositories/mumair01-repos/TRP-Modeling/skantze_2017_continuous/models/skantze2017_exp_4_2_poc/60000_1000_full/g/skantze2017_41.pt'),\n",
       " ('/Users/muhammadumair/Documents/Repositories/mumair01-repos/TRP-Modeling/skantze_2017_continuous/models/skantze2017_exp_4_2_poc/60000_1000_full/f/skantze2017_42.pt',\n",
       "  '/Users/muhammadumair/Documents/Repositories/mumair01-repos/TRP-Modeling/skantze_2017_continuous/models/skantze2017_exp_4_2_poc/60000_1000_full/g/skantze2017_42.pt'),\n",
       " ('/Users/muhammadumair/Documents/Repositories/mumair01-repos/TRP-Modeling/skantze_2017_continuous/models/skantze2017_exp_4_2_poc/60000_1000_full/f/skantze2017_43.pt',\n",
       "  '/Users/muhammadumair/Documents/Repositories/mumair01-repos/TRP-Modeling/skantze_2017_continuous/models/skantze2017_exp_4_2_poc/60000_1000_full/g/skantze2017_43.pt'),\n",
       " ('/Users/muhammadumair/Documents/Repositories/mumair01-repos/TRP-Modeling/skantze_2017_continuous/models/skantze2017_exp_4_2_poc/60000_1000_full/f/skantze2017_44.pt',\n",
       "  '/Users/muhammadumair/Documents/Repositories/mumair01-repos/TRP-Modeling/skantze_2017_continuous/models/skantze2017_exp_4_2_poc/60000_1000_full/g/skantze2017_44.pt'),\n",
       " ('/Users/muhammadumair/Documents/Repositories/mumair01-repos/TRP-Modeling/skantze_2017_continuous/models/skantze2017_exp_4_2_poc/60000_1000_full/f/skantze2017_45.pt',\n",
       "  '/Users/muhammadumair/Documents/Repositories/mumair01-repos/TRP-Modeling/skantze_2017_continuous/models/skantze2017_exp_4_2_poc/60000_1000_full/g/skantze2017_45.pt'),\n",
       " ('/Users/muhammadumair/Documents/Repositories/mumair01-repos/TRP-Modeling/skantze_2017_continuous/models/skantze2017_exp_4_2_poc/60000_1000_full/f/skantze2017_46.pt',\n",
       "  '/Users/muhammadumair/Documents/Repositories/mumair01-repos/TRP-Modeling/skantze_2017_continuous/models/skantze2017_exp_4_2_poc/60000_1000_full/g/skantze2017_46.pt'),\n",
       " ('/Users/muhammadumair/Documents/Repositories/mumair01-repos/TRP-Modeling/skantze_2017_continuous/models/skantze2017_exp_4_2_poc/60000_1000_full/f/skantze2017_47.pt',\n",
       "  '/Users/muhammadumair/Documents/Repositories/mumair01-repos/TRP-Modeling/skantze_2017_continuous/models/skantze2017_exp_4_2_poc/60000_1000_full/g/skantze2017_47.pt'),\n",
       " ('/Users/muhammadumair/Documents/Repositories/mumair01-repos/TRP-Modeling/skantze_2017_continuous/models/skantze2017_exp_4_2_poc/60000_1000_full/f/skantze2017_48.pt',\n",
       "  '/Users/muhammadumair/Documents/Repositories/mumair01-repos/TRP-Modeling/skantze_2017_continuous/models/skantze2017_exp_4_2_poc/60000_1000_full/g/skantze2017_48.pt'),\n",
       " ('/Users/muhammadumair/Documents/Repositories/mumair01-repos/TRP-Modeling/skantze_2017_continuous/models/skantze2017_exp_4_2_poc/60000_1000_full/f/skantze2017_49.pt',\n",
       "  '/Users/muhammadumair/Documents/Repositories/mumair01-repos/TRP-Modeling/skantze_2017_continuous/models/skantze2017_exp_4_2_poc/60000_1000_full/g/skantze2017_49.pt'),\n",
       " ('/Users/muhammadumair/Documents/Repositories/mumair01-repos/TRP-Modeling/skantze_2017_continuous/models/skantze2017_exp_4_2_poc/60000_1000_full/f/skantze2017_50.pt',\n",
       "  '/Users/muhammadumair/Documents/Repositories/mumair01-repos/TRP-Modeling/skantze_2017_continuous/models/skantze2017_exp_4_2_poc/60000_1000_full/g/skantze2017_50.pt'),\n",
       " ('/Users/muhammadumair/Documents/Repositories/mumair01-repos/TRP-Modeling/skantze_2017_continuous/models/skantze2017_exp_4_2_poc/60000_1000_full/f/skantze2017_51.pt',\n",
       "  '/Users/muhammadumair/Documents/Repositories/mumair01-repos/TRP-Modeling/skantze_2017_continuous/models/skantze2017_exp_4_2_poc/60000_1000_full/g/skantze2017_51.pt'),\n",
       " ('/Users/muhammadumair/Documents/Repositories/mumair01-repos/TRP-Modeling/skantze_2017_continuous/models/skantze2017_exp_4_2_poc/60000_1000_full/f/skantze2017_52.pt',\n",
       "  '/Users/muhammadumair/Documents/Repositories/mumair01-repos/TRP-Modeling/skantze_2017_continuous/models/skantze2017_exp_4_2_poc/60000_1000_full/g/skantze2017_52.pt'),\n",
       " ('/Users/muhammadumair/Documents/Repositories/mumair01-repos/TRP-Modeling/skantze_2017_continuous/models/skantze2017_exp_4_2_poc/60000_1000_full/f/skantze2017_53.pt',\n",
       "  '/Users/muhammadumair/Documents/Repositories/mumair01-repos/TRP-Modeling/skantze_2017_continuous/models/skantze2017_exp_4_2_poc/60000_1000_full/g/skantze2017_53.pt'),\n",
       " ('/Users/muhammadumair/Documents/Repositories/mumair01-repos/TRP-Modeling/skantze_2017_continuous/models/skantze2017_exp_4_2_poc/60000_1000_full/f/skantze2017_54.pt',\n",
       "  '/Users/muhammadumair/Documents/Repositories/mumair01-repos/TRP-Modeling/skantze_2017_continuous/models/skantze2017_exp_4_2_poc/60000_1000_full/g/skantze2017_54.pt'),\n",
       " ('/Users/muhammadumair/Documents/Repositories/mumair01-repos/TRP-Modeling/skantze_2017_continuous/models/skantze2017_exp_4_2_poc/60000_1000_full/f/skantze2017_55.pt',\n",
       "  '/Users/muhammadumair/Documents/Repositories/mumair01-repos/TRP-Modeling/skantze_2017_continuous/models/skantze2017_exp_4_2_poc/60000_1000_full/g/skantze2017_55.pt'),\n",
       " ('/Users/muhammadumair/Documents/Repositories/mumair01-repos/TRP-Modeling/skantze_2017_continuous/models/skantze2017_exp_4_2_poc/60000_1000_full/f/skantze2017_56.pt',\n",
       "  '/Users/muhammadumair/Documents/Repositories/mumair01-repos/TRP-Modeling/skantze_2017_continuous/models/skantze2017_exp_4_2_poc/60000_1000_full/g/skantze2017_56.pt'),\n",
       " ('/Users/muhammadumair/Documents/Repositories/mumair01-repos/TRP-Modeling/skantze_2017_continuous/models/skantze2017_exp_4_2_poc/60000_1000_full/f/skantze2017_57.pt',\n",
       "  '/Users/muhammadumair/Documents/Repositories/mumair01-repos/TRP-Modeling/skantze_2017_continuous/models/skantze2017_exp_4_2_poc/60000_1000_full/g/skantze2017_57.pt'),\n",
       " ('/Users/muhammadumair/Documents/Repositories/mumair01-repos/TRP-Modeling/skantze_2017_continuous/models/skantze2017_exp_4_2_poc/60000_1000_full/f/skantze2017_58.pt',\n",
       "  '/Users/muhammadumair/Documents/Repositories/mumair01-repos/TRP-Modeling/skantze_2017_continuous/models/skantze2017_exp_4_2_poc/60000_1000_full/g/skantze2017_58.pt'),\n",
       " ('/Users/muhammadumair/Documents/Repositories/mumair01-repos/TRP-Modeling/skantze_2017_continuous/models/skantze2017_exp_4_2_poc/60000_1000_full/f/skantze2017_59.pt',\n",
       "  '/Users/muhammadumair/Documents/Repositories/mumair01-repos/TRP-Modeling/skantze_2017_continuous/models/skantze2017_exp_4_2_poc/60000_1000_full/g/skantze2017_59.pt'),\n",
       " ('/Users/muhammadumair/Documents/Repositories/mumair01-repos/TRP-Modeling/skantze_2017_continuous/models/skantze2017_exp_4_2_poc/60000_1000_full/f/skantze2017_60.pt',\n",
       "  '/Users/muhammadumair/Documents/Repositories/mumair01-repos/TRP-Modeling/skantze_2017_continuous/models/skantze2017_exp_4_2_poc/60000_1000_full/g/skantze2017_60.pt')]"
      ]
     },
     "execution_count": 29,
     "metadata": {},
     "output_type": "execute_result"
    }
   ],
   "source": [
    "# This is to make sure we use the models from the lowest number of trained epochs to the highest number. \n",
    "s0_models.sort(key=lambda path :int(os.path.basename(path).split(\".\")[0].split(\"_\")[1]))\n",
    "s1_models.sort(key=lambda path :int(os.path.basename(path).split(\".\")[0].split(\"_\")[1]))\n",
    "list(zip(s0_models, s1_models))"
   ]
  },
  {
   "cell_type": "code",
   "execution_count": null,
   "metadata": {},
   "outputs": [],
   "source": []
  },
  {
   "cell_type": "code",
   "execution_count": 42,
   "metadata": {},
   "outputs": [],
   "source": [
    "# Use the test dialogues \n",
    "# TODO: Only using the first two dialogues of the test set, which is a \n",
    "# hacky way of doing this for now. \n",
    "feature_paths_map =  \\\n",
    "    collect_dialogue_features(test_dialogues[:10],FEATURE_SET_DIR)\n",
    "\n",
    "pauses_save_dir = os.path.join(PROCESSED_DATA_DIR,\"pauses_dfs\")\n",
    "os.makedirs(pauses_save_dir,exist_ok=True)\n",
    "\n",
    "# Load the pause dataset \n",
    "test_pauses_dataset = Skantze2017PausesDataset(\n",
    "    feature_paths_map=feature_paths_map,\n",
    "    sequence_length_ms= SEQUENCE_LENGTHS_MS, \n",
    "    min_pause_length_ms=MIN_PAUSE_LENGTH_MS,  \n",
    "    max_future_silence_window_ms=MAX_FUTURE_SILENCE_WINDOW_MS, \n",
    "    s0_participant=S0_PARTICIPANT,\n",
    "    frame_step_size_ms=FRAME_STEP_SIZE_MS,\n",
    "    save_dir = pauses_save_dir)\n",
    "\n",
    "test_pauses_dataset.get_pause_statistics()\n",
    "\n",
    "pauses_dataloader = generate_dataloader(test_pauses_dataset, batch_size=1)"
   ]
  },
  {
   "cell_type": "code",
   "execution_count": 43,
   "metadata": {},
   "outputs": [],
   "source": [
    "from sklearn.metrics import f1_score"
   ]
  },
  {
   "cell_type": "code",
   "execution_count": 44,
   "metadata": {},
   "outputs": [
    {
     "name": "stdout",
     "output_type": "stream",
     "text": [
      "******************************\n",
      "Loading models...\n",
      "Models trained to epoch: 0\n",
      "Predicting HOLD/SHIFT labels at pauses...\n"
     ]
    },
    {
     "name": "stderr",
     "output_type": "stream",
     "text": [
      "100%|██████████| 640/640 [00:44<00:00, 14.32it/s]\n"
     ]
    },
    {
     "name": "stdout",
     "output_type": "stream",
     "text": [
      "Calculating f1 scores...\n",
      "f-score: 0.256237\n",
      "******************************\n",
      "******************************\n",
      "Loading models...\n",
      "Models trained to epoch: 1\n",
      "Predicting HOLD/SHIFT labels at pauses...\n"
     ]
    },
    {
     "name": "stderr",
     "output_type": "stream",
     "text": [
      "100%|██████████| 640/640 [00:41<00:00, 15.54it/s]\n"
     ]
    },
    {
     "name": "stdout",
     "output_type": "stream",
     "text": [
      "Calculating f1 scores...\n",
      "f-score: 0.721726\n",
      "******************************\n",
      "******************************\n",
      "Loading models...\n",
      "Models trained to epoch: 2\n",
      "Predicting HOLD/SHIFT labels at pauses...\n"
     ]
    },
    {
     "name": "stderr",
     "output_type": "stream",
     "text": [
      "100%|██████████| 640/640 [00:33<00:00, 18.86it/s]\n"
     ]
    },
    {
     "name": "stdout",
     "output_type": "stream",
     "text": [
      "Calculating f1 scores...\n",
      "f-score: 0.723159\n",
      "******************************\n",
      "******************************\n",
      "Loading models...\n",
      "Models trained to epoch: 3\n",
      "Predicting HOLD/SHIFT labels at pauses...\n"
     ]
    },
    {
     "name": "stderr",
     "output_type": "stream",
     "text": [
      "100%|██████████| 640/640 [00:36<00:00, 17.69it/s]\n"
     ]
    },
    {
     "name": "stdout",
     "output_type": "stream",
     "text": [
      "Calculating f1 scores...\n",
      "f-score: 0.723159\n",
      "******************************\n",
      "******************************\n",
      "Loading models...\n",
      "Models trained to epoch: 4\n",
      "Predicting HOLD/SHIFT labels at pauses...\n"
     ]
    },
    {
     "name": "stderr",
     "output_type": "stream",
     "text": [
      "100%|██████████| 640/640 [00:52<00:00, 12.26it/s]\n"
     ]
    },
    {
     "name": "stdout",
     "output_type": "stream",
     "text": [
      "Calculating f1 scores...\n",
      "f-score: 0.620640\n",
      "******************************\n",
      "******************************\n",
      "Loading models...\n",
      "Models trained to epoch: 5\n",
      "Predicting HOLD/SHIFT labels at pauses...\n"
     ]
    },
    {
     "name": "stderr",
     "output_type": "stream",
     "text": [
      "100%|██████████| 640/640 [01:12<00:00,  8.82it/s]\n"
     ]
    },
    {
     "name": "stdout",
     "output_type": "stream",
     "text": [
      "Calculating f1 scores...\n",
      "f-score: 0.719959\n",
      "******************************\n",
      "******************************\n",
      "Loading models...\n",
      "Models trained to epoch: 6\n",
      "Predicting HOLD/SHIFT labels at pauses...\n"
     ]
    },
    {
     "name": "stderr",
     "output_type": "stream",
     "text": [
      "100%|██████████| 640/640 [00:52<00:00, 12.10it/s]\n"
     ]
    },
    {
     "name": "stdout",
     "output_type": "stream",
     "text": [
      "Calculating f1 scores...\n",
      "f-score: 0.661932\n",
      "******************************\n",
      "******************************\n",
      "Loading models...\n",
      "Models trained to epoch: 7\n",
      "Predicting HOLD/SHIFT labels at pauses...\n"
     ]
    },
    {
     "name": "stderr",
     "output_type": "stream",
     "text": [
      "100%|██████████| 640/640 [00:53<00:00, 11.97it/s]\n"
     ]
    },
    {
     "name": "stdout",
     "output_type": "stream",
     "text": [
      "Calculating f1 scores...\n",
      "f-score: 0.394465\n",
      "******************************\n",
      "******************************\n",
      "Loading models...\n",
      "Models trained to epoch: 8\n",
      "Predicting HOLD/SHIFT labels at pauses...\n"
     ]
    },
    {
     "name": "stderr",
     "output_type": "stream",
     "text": [
      "100%|██████████| 640/640 [00:40<00:00, 15.65it/s]\n"
     ]
    },
    {
     "name": "stdout",
     "output_type": "stream",
     "text": [
      "Calculating f1 scores...\n",
      "f-score: 0.262257\n",
      "******************************\n",
      "******************************\n",
      "Loading models...\n",
      "Models trained to epoch: 9\n",
      "Predicting HOLD/SHIFT labels at pauses...\n"
     ]
    },
    {
     "name": "stderr",
     "output_type": "stream",
     "text": [
      "100%|██████████| 640/640 [00:31<00:00, 20.26it/s]\n"
     ]
    },
    {
     "name": "stdout",
     "output_type": "stream",
     "text": [
      "Calculating f1 scores...\n",
      "f-score: 0.296708\n",
      "******************************\n",
      "******************************\n",
      "Loading models...\n",
      "Models trained to epoch: 10\n",
      "Predicting HOLD/SHIFT labels at pauses...\n"
     ]
    },
    {
     "name": "stderr",
     "output_type": "stream",
     "text": [
      "100%|██████████| 640/640 [00:44<00:00, 14.50it/s]\n"
     ]
    },
    {
     "name": "stdout",
     "output_type": "stream",
     "text": [
      "Calculating f1 scores...\n",
      "f-score: 0.726027\n",
      "******************************\n",
      "******************************\n",
      "Loading models...\n",
      "Models trained to epoch: 11\n",
      "Predicting HOLD/SHIFT labels at pauses...\n"
     ]
    },
    {
     "name": "stderr",
     "output_type": "stream",
     "text": [
      "100%|██████████| 640/640 [00:41<00:00, 15.39it/s]\n"
     ]
    },
    {
     "name": "stdout",
     "output_type": "stream",
     "text": [
      "Calculating f1 scores...\n",
      "f-score: 0.713209\n",
      "******************************\n",
      "******************************\n",
      "Loading models...\n",
      "Models trained to epoch: 12\n",
      "Predicting HOLD/SHIFT labels at pauses...\n"
     ]
    },
    {
     "name": "stderr",
     "output_type": "stream",
     "text": [
      "100%|██████████| 640/640 [00:45<00:00, 14.00it/s]\n"
     ]
    },
    {
     "name": "stdout",
     "output_type": "stream",
     "text": [
      "Calculating f1 scores...\n",
      "f-score: 0.716414\n",
      "******************************\n",
      "******************************\n",
      "Loading models...\n",
      "Models trained to epoch: 13\n",
      "Predicting HOLD/SHIFT labels at pauses...\n"
     ]
    },
    {
     "name": "stderr",
     "output_type": "stream",
     "text": [
      "100%|██████████| 640/640 [00:33<00:00, 19.01it/s]\n"
     ]
    },
    {
     "name": "stdout",
     "output_type": "stream",
     "text": [
      "Calculating f1 scores...\n",
      "f-score: 0.726686\n",
      "******************************\n",
      "******************************\n",
      "Loading models...\n",
      "Models trained to epoch: 14\n",
      "Predicting HOLD/SHIFT labels at pauses...\n"
     ]
    },
    {
     "name": "stderr",
     "output_type": "stream",
     "text": [
      "100%|██████████| 640/640 [00:30<00:00, 21.19it/s]\n"
     ]
    },
    {
     "name": "stdout",
     "output_type": "stream",
     "text": [
      "Calculating f1 scores...\n",
      "f-score: 0.718528\n",
      "******************************\n",
      "******************************\n",
      "Loading models...\n",
      "Models trained to epoch: 15\n",
      "Predicting HOLD/SHIFT labels at pauses...\n"
     ]
    },
    {
     "name": "stderr",
     "output_type": "stream",
     "text": [
      "100%|██████████| 640/640 [00:30<00:00, 20.76it/s]\n"
     ]
    },
    {
     "name": "stdout",
     "output_type": "stream",
     "text": [
      "Calculating f1 scores...\n",
      "f-score: 0.273829\n",
      "******************************\n",
      "******************************\n",
      "Loading models...\n",
      "Models trained to epoch: 16\n",
      "Predicting HOLD/SHIFT labels at pauses...\n"
     ]
    },
    {
     "name": "stderr",
     "output_type": "stream",
     "text": [
      "100%|██████████| 640/640 [00:29<00:00, 21.49it/s]\n"
     ]
    },
    {
     "name": "stdout",
     "output_type": "stream",
     "text": [
      "Calculating f1 scores...\n",
      "f-score: 0.723159\n",
      "******************************\n",
      "******************************\n",
      "Loading models...\n",
      "Models trained to epoch: 17\n",
      "Predicting HOLD/SHIFT labels at pauses...\n"
     ]
    },
    {
     "name": "stderr",
     "output_type": "stream",
     "text": [
      "100%|██████████| 640/640 [00:30<00:00, 21.19it/s]\n"
     ]
    },
    {
     "name": "stdout",
     "output_type": "stream",
     "text": [
      "Calculating f1 scores...\n",
      "f-score: 0.721726\n",
      "******************************\n",
      "******************************\n",
      "Loading models...\n",
      "Models trained to epoch: 18\n",
      "Predicting HOLD/SHIFT labels at pauses...\n"
     ]
    },
    {
     "name": "stderr",
     "output_type": "stream",
     "text": [
      "100%|██████████| 640/640 [00:29<00:00, 21.63it/s]\n"
     ]
    },
    {
     "name": "stdout",
     "output_type": "stream",
     "text": [
      "Calculating f1 scores...\n",
      "f-score: 0.521427\n",
      "******************************\n",
      "******************************\n",
      "Loading models...\n",
      "Models trained to epoch: 19\n",
      "Predicting HOLD/SHIFT labels at pauses...\n"
     ]
    },
    {
     "name": "stderr",
     "output_type": "stream",
     "text": [
      "100%|██████████| 640/640 [00:30<00:00, 21.26it/s]\n"
     ]
    },
    {
     "name": "stdout",
     "output_type": "stream",
     "text": [
      "Calculating f1 scores...\n",
      "f-score: 0.266647\n",
      "******************************\n",
      "******************************\n",
      "Loading models...\n",
      "Models trained to epoch: 20\n",
      "Predicting HOLD/SHIFT labels at pauses...\n"
     ]
    },
    {
     "name": "stderr",
     "output_type": "stream",
     "text": [
      "100%|██████████| 640/640 [00:30<00:00, 20.90it/s]\n"
     ]
    },
    {
     "name": "stdout",
     "output_type": "stream",
     "text": [
      "Calculating f1 scores...\n",
      "f-score: 0.721391\n",
      "******************************\n",
      "******************************\n",
      "Loading models...\n",
      "Models trained to epoch: 21\n",
      "Predicting HOLD/SHIFT labels at pauses...\n"
     ]
    },
    {
     "name": "stderr",
     "output_type": "stream",
     "text": [
      "100%|██████████| 640/640 [00:29<00:00, 21.36it/s]\n"
     ]
    },
    {
     "name": "stdout",
     "output_type": "stream",
     "text": [
      "Calculating f1 scores...\n",
      "f-score: 0.298617\n",
      "******************************\n",
      "******************************\n",
      "Loading models...\n",
      "Models trained to epoch: 22\n",
      "Predicting HOLD/SHIFT labels at pauses...\n"
     ]
    },
    {
     "name": "stderr",
     "output_type": "stream",
     "text": [
      "100%|██████████| 640/640 [00:29<00:00, 21.39it/s]\n"
     ]
    },
    {
     "name": "stdout",
     "output_type": "stream",
     "text": [
      "Calculating f1 scores...\n",
      "f-score: 0.726686\n",
      "******************************\n",
      "******************************\n",
      "Loading models...\n",
      "Models trained to epoch: 23\n",
      "Predicting HOLD/SHIFT labels at pauses...\n"
     ]
    },
    {
     "name": "stderr",
     "output_type": "stream",
     "text": [
      "100%|██████████| 640/640 [00:29<00:00, 21.47it/s]\n"
     ]
    },
    {
     "name": "stdout",
     "output_type": "stream",
     "text": [
      "Calculating f1 scores...\n",
      "f-score: 0.269033\n",
      "******************************\n",
      "******************************\n",
      "Loading models...\n",
      "Models trained to epoch: 24\n",
      "Predicting HOLD/SHIFT labels at pauses...\n"
     ]
    },
    {
     "name": "stderr",
     "output_type": "stream",
     "text": [
      "100%|██████████| 640/640 [00:30<00:00, 21.15it/s]\n"
     ]
    },
    {
     "name": "stdout",
     "output_type": "stream",
     "text": [
      "Calculating f1 scores...\n",
      "f-score: 0.724925\n",
      "******************************\n",
      "******************************\n",
      "Loading models...\n",
      "Models trained to epoch: 25\n",
      "Predicting HOLD/SHIFT labels at pauses...\n"
     ]
    },
    {
     "name": "stderr",
     "output_type": "stream",
     "text": [
      "100%|██████████| 640/640 [00:29<00:00, 21.49it/s]\n"
     ]
    },
    {
     "name": "stdout",
     "output_type": "stream",
     "text": [
      "Calculating f1 scores...\n",
      "f-score: 0.726360\n",
      "******************************\n",
      "******************************\n",
      "Loading models...\n",
      "Models trained to epoch: 26\n",
      "Predicting HOLD/SHIFT labels at pauses...\n"
     ]
    },
    {
     "name": "stderr",
     "output_type": "stream",
     "text": [
      "100%|██████████| 640/640 [00:29<00:00, 21.41it/s]\n"
     ]
    },
    {
     "name": "stdout",
     "output_type": "stream",
     "text": [
      "Calculating f1 scores...\n",
      "f-score: 0.721391\n",
      "******************************\n",
      "******************************\n",
      "Loading models...\n",
      "Models trained to epoch: 27\n",
      "Predicting HOLD/SHIFT labels at pauses...\n"
     ]
    },
    {
     "name": "stderr",
     "output_type": "stream",
     "text": [
      "100%|██████████| 640/640 [00:29<00:00, 21.48it/s]\n"
     ]
    },
    {
     "name": "stdout",
     "output_type": "stream",
     "text": [
      "Calculating f1 scores...\n",
      "f-score: 0.722822\n",
      "******************************\n",
      "******************************\n",
      "Loading models...\n",
      "Models trained to epoch: 28\n",
      "Predicting HOLD/SHIFT labels at pauses...\n"
     ]
    },
    {
     "name": "stderr",
     "output_type": "stream",
     "text": [
      "100%|██████████| 640/640 [00:29<00:00, 21.79it/s]\n"
     ]
    },
    {
     "name": "stdout",
     "output_type": "stream",
     "text": [
      "Calculating f1 scores...\n",
      "f-score: 0.723490\n",
      "******************************\n",
      "******************************\n",
      "Loading models...\n",
      "Models trained to epoch: 29\n",
      "Predicting HOLD/SHIFT labels at pauses...\n"
     ]
    },
    {
     "name": "stderr",
     "output_type": "stream",
     "text": [
      "100%|██████████| 640/640 [00:31<00:00, 20.48it/s]\n"
     ]
    },
    {
     "name": "stdout",
     "output_type": "stream",
     "text": [
      "Calculating f1 scores...\n",
      "f-score: 0.633026\n",
      "******************************\n",
      "******************************\n",
      "Loading models...\n",
      "Models trained to epoch: 30\n",
      "Predicting HOLD/SHIFT labels at pauses...\n"
     ]
    },
    {
     "name": "stderr",
     "output_type": "stream",
     "text": [
      "100%|██████████| 640/640 [00:30<00:00, 21.32it/s]\n"
     ]
    },
    {
     "name": "stdout",
     "output_type": "stream",
     "text": [
      "Calculating f1 scores...\n",
      "f-score: 0.721726\n",
      "******************************\n",
      "******************************\n",
      "Loading models...\n",
      "Models trained to epoch: 31\n",
      "Predicting HOLD/SHIFT labels at pauses...\n"
     ]
    },
    {
     "name": "stderr",
     "output_type": "stream",
     "text": [
      "100%|██████████| 640/640 [00:29<00:00, 21.56it/s]\n"
     ]
    },
    {
     "name": "stdout",
     "output_type": "stream",
     "text": [
      "Calculating f1 scores...\n",
      "f-score: 0.717841\n",
      "******************************\n",
      "******************************\n",
      "Loading models...\n",
      "Models trained to epoch: 32\n",
      "Predicting HOLD/SHIFT labels at pauses...\n"
     ]
    },
    {
     "name": "stderr",
     "output_type": "stream",
     "text": [
      "100%|██████████| 640/640 [00:31<00:00, 20.57it/s]\n"
     ]
    },
    {
     "name": "stdout",
     "output_type": "stream",
     "text": [
      "Calculating f1 scores...\n",
      "f-score: 0.708581\n",
      "******************************\n",
      "******************************\n",
      "Loading models...\n",
      "Models trained to epoch: 33\n",
      "Predicting HOLD/SHIFT labels at pauses...\n"
     ]
    },
    {
     "name": "stderr",
     "output_type": "stream",
     "text": [
      "100%|██████████| 640/640 [00:29<00:00, 21.69it/s]\n"
     ]
    },
    {
     "name": "stdout",
     "output_type": "stream",
     "text": [
      "Calculating f1 scores...\n",
      "f-score: 0.558821\n",
      "******************************\n",
      "******************************\n",
      "Loading models...\n",
      "Models trained to epoch: 34\n",
      "Predicting HOLD/SHIFT labels at pauses...\n"
     ]
    },
    {
     "name": "stderr",
     "output_type": "stream",
     "text": [
      "100%|██████████| 640/640 [00:29<00:00, 21.70it/s]\n"
     ]
    },
    {
     "name": "stdout",
     "output_type": "stream",
     "text": [
      "Calculating f1 scores...\n",
      "f-score: 0.725250\n",
      "******************************\n",
      "******************************\n",
      "Loading models...\n",
      "Models trained to epoch: 35\n",
      "Predicting HOLD/SHIFT labels at pauses...\n"
     ]
    },
    {
     "name": "stderr",
     "output_type": "stream",
     "text": [
      "100%|██████████| 640/640 [00:29<00:00, 21.48it/s]\n"
     ]
    },
    {
     "name": "stdout",
     "output_type": "stream",
     "text": [
      "Calculating f1 scores...\n",
      "f-score: 0.723159\n",
      "******************************\n",
      "******************************\n",
      "Loading models...\n",
      "Models trained to epoch: 36\n",
      "Predicting HOLD/SHIFT labels at pauses...\n"
     ]
    },
    {
     "name": "stderr",
     "output_type": "stream",
     "text": [
      "100%|██████████| 640/640 [00:30<00:00, 21.13it/s]\n"
     ]
    },
    {
     "name": "stdout",
     "output_type": "stream",
     "text": [
      "Calculating f1 scores...\n",
      "f-score: 0.716414\n",
      "******************************\n",
      "******************************\n",
      "Loading models...\n",
      "Models trained to epoch: 37\n",
      "Predicting HOLD/SHIFT labels at pauses...\n"
     ]
    },
    {
     "name": "stderr",
     "output_type": "stream",
     "text": [
      "100%|██████████| 640/640 [00:30<00:00, 20.95it/s]\n"
     ]
    },
    {
     "name": "stdout",
     "output_type": "stream",
     "text": [
      "Calculating f1 scores...\n",
      "f-score: 0.648700\n",
      "******************************\n",
      "******************************\n",
      "Loading models...\n",
      "Models trained to epoch: 38\n",
      "Predicting HOLD/SHIFT labels at pauses...\n"
     ]
    },
    {
     "name": "stderr",
     "output_type": "stream",
     "text": [
      "100%|██████████| 640/640 [00:30<00:00, 20.94it/s]\n"
     ]
    },
    {
     "name": "stdout",
     "output_type": "stream",
     "text": [
      "Calculating f1 scores...\n",
      "f-score: 0.726686\n",
      "******************************\n",
      "******************************\n",
      "Loading models...\n",
      "Models trained to epoch: 39\n",
      "Predicting HOLD/SHIFT labels at pauses...\n"
     ]
    },
    {
     "name": "stderr",
     "output_type": "stream",
     "text": [
      "100%|██████████| 640/640 [00:29<00:00, 21.64it/s]\n"
     ]
    },
    {
     "name": "stdout",
     "output_type": "stream",
     "text": [
      "Calculating f1 scores...\n",
      "f-score: 0.359379\n",
      "******************************\n",
      "******************************\n",
      "Loading models...\n",
      "Models trained to epoch: 40\n",
      "Predicting HOLD/SHIFT labels at pauses...\n"
     ]
    },
    {
     "name": "stderr",
     "output_type": "stream",
     "text": [
      "100%|██████████| 640/640 [00:29<00:00, 21.45it/s]\n"
     ]
    },
    {
     "name": "stdout",
     "output_type": "stream",
     "text": [
      "Calculating f1 scores...\n",
      "f-score: 0.711783\n",
      "******************************\n",
      "******************************\n",
      "Loading models...\n",
      "Models trained to epoch: 41\n",
      "Predicting HOLD/SHIFT labels at pauses...\n"
     ]
    },
    {
     "name": "stderr",
     "output_type": "stream",
     "text": [
      "100%|██████████| 640/640 [00:30<00:00, 21.14it/s]\n"
     ]
    },
    {
     "name": "stdout",
     "output_type": "stream",
     "text": [
      "Calculating f1 scores...\n",
      "f-score: 0.716414\n",
      "******************************\n",
      "******************************\n",
      "Loading models...\n",
      "Models trained to epoch: 42\n",
      "Predicting HOLD/SHIFT labels at pauses...\n"
     ]
    },
    {
     "name": "stderr",
     "output_type": "stream",
     "text": [
      "100%|██████████| 640/640 [00:29<00:00, 21.41it/s]\n"
     ]
    },
    {
     "name": "stdout",
     "output_type": "stream",
     "text": [
      "Calculating f1 scores...\n",
      "f-score: 0.724925\n",
      "******************************\n",
      "******************************\n",
      "Loading models...\n",
      "Models trained to epoch: 43\n",
      "Predicting HOLD/SHIFT labels at pauses...\n"
     ]
    },
    {
     "name": "stderr",
     "output_type": "stream",
     "text": [
      "100%|██████████| 640/640 [00:30<00:00, 20.77it/s]\n"
     ]
    },
    {
     "name": "stdout",
     "output_type": "stream",
     "text": [
      "Calculating f1 scores...\n",
      "f-score: 0.723159\n",
      "******************************\n",
      "******************************\n",
      "Loading models...\n",
      "Models trained to epoch: 44\n",
      "Predicting HOLD/SHIFT labels at pauses...\n"
     ]
    },
    {
     "name": "stderr",
     "output_type": "stream",
     "text": [
      "100%|██████████| 640/640 [00:30<00:00, 20.65it/s]\n"
     ]
    },
    {
     "name": "stdout",
     "output_type": "stream",
     "text": [
      "Calculating f1 scores...\n",
      "f-score: 0.722126\n",
      "******************************\n",
      "******************************\n",
      "Loading models...\n",
      "Models trained to epoch: 45\n",
      "Predicting HOLD/SHIFT labels at pauses...\n"
     ]
    },
    {
     "name": "stderr",
     "output_type": "stream",
     "text": [
      "100%|██████████| 640/640 [00:31<00:00, 20.20it/s]\n"
     ]
    },
    {
     "name": "stdout",
     "output_type": "stream",
     "text": [
      "Calculating f1 scores...\n",
      "f-score: 0.328196\n",
      "******************************\n",
      "******************************\n",
      "Loading models...\n",
      "Models trained to epoch: 46\n",
      "Predicting HOLD/SHIFT labels at pauses...\n"
     ]
    },
    {
     "name": "stderr",
     "output_type": "stream",
     "text": [
      "100%|██████████| 640/640 [00:30<00:00, 21.06it/s]\n"
     ]
    },
    {
     "name": "stdout",
     "output_type": "stream",
     "text": [
      "Calculating f1 scores...\n",
      "f-score: 0.711067\n",
      "******************************\n",
      "******************************\n",
      "Loading models...\n",
      "Models trained to epoch: 47\n",
      "Predicting HOLD/SHIFT labels at pauses...\n"
     ]
    },
    {
     "name": "stderr",
     "output_type": "stream",
     "text": [
      "100%|██████████| 640/640 [00:30<00:00, 21.19it/s]\n"
     ]
    },
    {
     "name": "stdout",
     "output_type": "stream",
     "text": [
      "Calculating f1 scores...\n",
      "f-score: 0.698041\n",
      "******************************\n",
      "******************************\n",
      "Loading models...\n",
      "Models trained to epoch: 48\n",
      "Predicting HOLD/SHIFT labels at pauses...\n"
     ]
    },
    {
     "name": "stderr",
     "output_type": "stream",
     "text": [
      "100%|██████████| 640/640 [00:30<00:00, 21.11it/s]\n"
     ]
    },
    {
     "name": "stdout",
     "output_type": "stream",
     "text": [
      "Calculating f1 scores...\n",
      "f-score: 0.721768\n",
      "******************************\n",
      "******************************\n",
      "Loading models...\n",
      "Models trained to epoch: 49\n",
      "Predicting HOLD/SHIFT labels at pauses...\n"
     ]
    },
    {
     "name": "stderr",
     "output_type": "stream",
     "text": [
      "100%|██████████| 640/640 [00:29<00:00, 21.40it/s]\n"
     ]
    },
    {
     "name": "stdout",
     "output_type": "stream",
     "text": [
      "Calculating f1 scores...\n",
      "f-score: 0.656051\n",
      "******************************\n",
      "******************************\n",
      "Loading models...\n",
      "Models trained to epoch: 50\n",
      "Predicting HOLD/SHIFT labels at pauses...\n"
     ]
    },
    {
     "name": "stderr",
     "output_type": "stream",
     "text": [
      "100%|██████████| 640/640 [00:30<00:00, 21.31it/s]\n"
     ]
    },
    {
     "name": "stdout",
     "output_type": "stream",
     "text": [
      "Calculating f1 scores...\n",
      "f-score: 0.724593\n",
      "******************************\n",
      "******************************\n",
      "Loading models...\n",
      "Models trained to epoch: 51\n",
      "Predicting HOLD/SHIFT labels at pauses...\n"
     ]
    },
    {
     "name": "stderr",
     "output_type": "stream",
     "text": [
      "100%|██████████| 640/640 [00:29<00:00, 21.74it/s]\n"
     ]
    },
    {
     "name": "stdout",
     "output_type": "stream",
     "text": [
      "Calculating f1 scores...\n",
      "f-score: 0.723159\n",
      "******************************\n",
      "******************************\n",
      "Loading models...\n",
      "Models trained to epoch: 52\n",
      "Predicting HOLD/SHIFT labels at pauses...\n"
     ]
    },
    {
     "name": "stderr",
     "output_type": "stream",
     "text": [
      "100%|██████████| 640/640 [00:33<00:00, 19.33it/s]\n"
     ]
    },
    {
     "name": "stdout",
     "output_type": "stream",
     "text": [
      "Calculating f1 scores...\n",
      "f-score: 0.712770\n",
      "******************************\n",
      "******************************\n",
      "Loading models...\n",
      "Models trained to epoch: 53\n",
      "Predicting HOLD/SHIFT labels at pauses...\n"
     ]
    },
    {
     "name": "stderr",
     "output_type": "stream",
     "text": [
      "100%|██████████| 640/640 [00:32<00:00, 19.41it/s]\n"
     ]
    },
    {
     "name": "stdout",
     "output_type": "stream",
     "text": [
      "Calculating f1 scores...\n",
      "f-score: 0.721391\n",
      "******************************\n",
      "******************************\n",
      "Loading models...\n",
      "Models trained to epoch: 54\n",
      "Predicting HOLD/SHIFT labels at pauses...\n"
     ]
    },
    {
     "name": "stderr",
     "output_type": "stream",
     "text": [
      "100%|██████████| 640/640 [00:32<00:00, 19.80it/s]\n"
     ]
    },
    {
     "name": "stdout",
     "output_type": "stream",
     "text": [
      "Calculating f1 scores...\n",
      "f-score: 0.716414\n",
      "******************************\n",
      "******************************\n",
      "Loading models...\n",
      "Models trained to epoch: 55\n",
      "Predicting HOLD/SHIFT labels at pauses...\n"
     ]
    },
    {
     "name": "stderr",
     "output_type": "stream",
     "text": [
      "100%|██████████| 640/640 [00:31<00:00, 20.23it/s]\n"
     ]
    },
    {
     "name": "stdout",
     "output_type": "stream",
     "text": [
      "Calculating f1 scores...\n",
      "f-score: 0.713558\n",
      "******************************\n",
      "******************************\n",
      "Loading models...\n",
      "Models trained to epoch: 56\n",
      "Predicting HOLD/SHIFT labels at pauses...\n"
     ]
    },
    {
     "name": "stderr",
     "output_type": "stream",
     "text": [
      "100%|██████████| 640/640 [00:31<00:00, 20.33it/s]\n"
     ]
    },
    {
     "name": "stdout",
     "output_type": "stream",
     "text": [
      "Calculating f1 scores...\n",
      "f-score: 0.714986\n",
      "******************************\n",
      "******************************\n",
      "Loading models...\n",
      "Models trained to epoch: 57\n",
      "Predicting HOLD/SHIFT labels at pauses...\n"
     ]
    },
    {
     "name": "stderr",
     "output_type": "stream",
     "text": [
      "100%|██████████| 640/640 [00:31<00:00, 20.16it/s]\n"
     ]
    },
    {
     "name": "stdout",
     "output_type": "stream",
     "text": [
      "Calculating f1 scores...\n",
      "f-score: 0.709277\n",
      "******************************\n",
      "******************************\n",
      "Loading models...\n",
      "Models trained to epoch: 58\n",
      "Predicting HOLD/SHIFT labels at pauses...\n"
     ]
    },
    {
     "name": "stderr",
     "output_type": "stream",
     "text": [
      "100%|██████████| 640/640 [00:32<00:00, 19.69it/s]\n"
     ]
    },
    {
     "name": "stdout",
     "output_type": "stream",
     "text": [
      "Calculating f1 scores...\n",
      "f-score: 0.267445\n",
      "******************************\n",
      "******************************\n",
      "Loading models...\n",
      "Models trained to epoch: 59\n",
      "Predicting HOLD/SHIFT labels at pauses...\n"
     ]
    },
    {
     "name": "stderr",
     "output_type": "stream",
     "text": [
      "100%|██████████| 640/640 [00:30<00:00, 20.66it/s]\n"
     ]
    },
    {
     "name": "stdout",
     "output_type": "stream",
     "text": [
      "Calculating f1 scores...\n",
      "f-score: 0.726686\n",
      "******************************\n",
      "******************************\n",
      "Loading models...\n",
      "Models trained to epoch: 60\n",
      "Predicting HOLD/SHIFT labels at pauses...\n"
     ]
    },
    {
     "name": "stderr",
     "output_type": "stream",
     "text": [
      "100%|██████████| 640/640 [00:32<00:00, 19.93it/s]"
     ]
    },
    {
     "name": "stdout",
     "output_type": "stream",
     "text": [
      "Calculating f1 scores...\n",
      "f-score: 0.300467\n",
      "******************************\n"
     ]
    },
    {
     "name": "stderr",
     "output_type": "stream",
     "text": [
      "\n"
     ]
    }
   ],
   "source": [
    "# Pr/edict the F1 scores using both the models on the pause dataset \n",
    "# TODO: Add mechanism to save the pause predictions here for every model instead of later. \n",
    "f1_scores = {}\n",
    "predicted_df_list = [] \n",
    "for epoch, (s0_model_path, s1_model_path) in enumerate(zip(s0_models,s1_models)):\n",
    "    # Load the models \n",
    "    print(\"*\" * 30)\n",
    "    print(\"Loading models...\")\n",
    "    s0_model, s0_info = load_for_inference(s0_model_path)\n",
    "    s1_model, s1_info = load_for_inference(s1_model_path)\n",
    "    assert s0_info['epoch'] == s1_info['epoch'] == epoch \n",
    "    print(\"Models trained to epoch: {}\".format(s0_info['epoch']))\n",
    "    # Predict pauses \n",
    "    y_trues = []\n",
    "    y_hats = [] \n",
    "    speaker_scores_batches = [] \n",
    "    predict_df = pd.DataFrame(columns=[\"prevSpeaker\", \"trueNextSpeaker\", \n",
    "                        \"trueHoldShift\", \"s0Score\", \"s1Score\",\n",
    "                        \"predictedNextSpeaker\",\"predictedHoldShift\"]) \n",
    "    print(\"Predicting HOLD/SHIFT labels at pauses...\")\n",
    "    with torch.no_grad():\n",
    "        count = 0 \n",
    "        for x_batch, y_batch in tqdm(next_batch(pauses_dataloader), total=len(pauses_dataloader)):\n",
    "            prev_speaker, hold_shift_label, next_speaker = y_batch \n",
    "            speaker_scores = [] \n",
    "            for sx_model, xs in zip((s0_model.eval(), s1_model.eval()),x_batch):\n",
    "                va_predictions = sx_model(xs)\n",
    "                speaker_score = np.mean(np.asarray(np.squeeze(va_predictions)))\n",
    "                speaker_scores.append(speaker_score)\n",
    "            predicted_next_speaker = np.argmax(speaker_scores)\n",
    "            # NOTE: The prediction should NOT be the next speaker but the predicted \n",
    "            # hold shift label. \n",
    "            predicted_hold_shift = int(not prev_speaker == predicted_next_speaker)\n",
    "            y_hats.append( predicted_hold_shift)\n",
    "            y_trues.append(hold_shift_label.item())\n",
    "            speaker_scores_batches.append(deepcopy(speaker_scores))\n",
    "            predict_df.loc[count] = (\n",
    "                prev_speaker.item(), next_speaker.item(), hold_shift_label.item(), speaker_scores[0], \n",
    "                speaker_scores[1],predicted_next_speaker, predicted_hold_shift)\n",
    "            count += 1 \n",
    "    y_trues = np.asarray(y_trues)\n",
    "    y_hats = np.asarray(y_hats)\n",
    "    predicted_df_list.append(deepcopy(predict_df))\n",
    "    print(\"Calculating f1 scores...\")\n",
    "    eval_score = f1_score(y_trues, y_hats, average=\"weighted\")\n",
    "    print(\"f-score: {:4f}\".format(eval_score))\n",
    "    f1_scores[epoch] = eval_score\n",
    "    print(\"*\" * 30)\n",
    "\n"
   ]
  },
  {
   "cell_type": "code",
   "execution_count": 45,
   "metadata": {},
   "outputs": [
    {
     "data": {
      "text/plain": [
       "{0: 0.25623731783803727,\n",
       " 1: 0.7217261904761905,\n",
       " 2: 0.7231594920338924,\n",
       " 3: 0.7231594920338924,\n",
       " 4: 0.6206397762417752,\n",
       " 5: 0.7199590237337062,\n",
       " 6: 0.6619318181818181,\n",
       " 7: 0.394464746976635,\n",
       " 8: 0.2622574318744839,\n",
       " 9: 0.2967078451349974,\n",
       " 10: 0.7260266178507817,\n",
       " 11: 0.7132091496800581,\n",
       " 12: 0.7164135167227389,\n",
       " 13: 0.7266863344892588,\n",
       " 14: 0.718527640941434,\n",
       " 15: 0.27382883618878673,\n",
       " 16: 0.7231594920338924,\n",
       " 17: 0.7217261904761905,\n",
       " 18: 0.5214271524508666,\n",
       " 19: 0.26664721564636384,\n",
       " 20: 0.7213905526673767,\n",
       " 21: 0.29861723293541476,\n",
       " 22: 0.7266863344892588,\n",
       " 23: 0.26903323495050113,\n",
       " 24: 0.724924740010947,\n",
       " 25: 0.7263599603340787,\n",
       " 26: 0.7213905526673767,\n",
       " 27: 0.7228222508081008,\n",
       " 28: 0.7234896834306538,\n",
       " 29: 0.6330261878927619,\n",
       " 30: 0.7217261904761905,\n",
       " 31: 0.7178414469235971,\n",
       " 32: 0.7085809229049571,\n",
       " 33: 0.5588206197491782,\n",
       " 34: 0.7252495403204623,\n",
       " 35: 0.7231594920338924,\n",
       " 36: 0.7164135167227389,\n",
       " 37: 0.6486996465678759,\n",
       " 38: 0.7266863344892588,\n",
       " 39: 0.35937908253341116,\n",
       " 40: 0.7117833303455621,\n",
       " 41: 0.7164135167227389,\n",
       " 42: 0.724924740010947,\n",
       " 43: 0.7231594920338924,\n",
       " 44: 0.7221263762749663,\n",
       " 45: 0.3281960706634974,\n",
       " 46: 0.7110667449909502,\n",
       " 47: 0.6980407053874345,\n",
       " 48: 0.7217676182666869,\n",
       " 49: 0.6560511664899258,\n",
       " 50: 0.7245929601079816,\n",
       " 51: 0.7231594920338924,\n",
       " 52: 0.7127703971157642,\n",
       " 53: 0.7213905526673767,\n",
       " 54: 0.7164135167227389,\n",
       " 55: 0.7135580871333339,\n",
       " 56: 0.714985737786167,\n",
       " 57: 0.7092767289350803,\n",
       " 58: 0.26744491386956726,\n",
       " 59: 0.7266863344892588,\n",
       " 60: 0.300466790743949}"
      ]
     },
     "execution_count": 45,
     "metadata": {},
     "output_type": "execute_result"
    }
   ],
   "source": [
    "f1_scores"
   ]
  },
  {
   "cell_type": "code",
   "execution_count": null,
   "metadata": {},
   "outputs": [],
   "source": [
    "# Save all the predictions for debugging\n",
    "pause_predictions_dir = os.path.join(PROCESSED_DATA_DIR,\"pause_predictions\",FEATURE_SET)\n",
    "if os.path.isdir(pause_predictions_dir):\n",
    "    shutil.rmtree(pause_predictions_dir)\n",
    "os.makedirs(pause_predictions_dir)\n",
    "\n",
    "for i, predicted_df in enumerate(predicted_df_list):\n",
    "    path = os.path.join(pause_predictions_dir,\"pause_prediction_epoch_{}.csv\".format(i))\n",
    "    predicted_df.to_csv(path)\n",
    "\n"
   ]
  },
  {
   "cell_type": "code",
   "execution_count": null,
   "metadata": {},
   "outputs": [
    {
     "name": "stdout",
     "output_type": "stream",
     "text": [
      "Saving figure Exp-4.2-Figure-4-full\n"
     ]
    },
    {
     "data": {
      "image/png": "[encoded data removed]",
      "text/plain": [
       "<Figure size 432x288 with 1 Axes>"
      ]
     },
     "metadata": {
      "needs_background": "light"
     },
     "output_type": "display_data"
    }
   ],
   "source": [
    "# Visualize the F-1 Scores \n",
    "\n",
    "plt.plot(list(f1_scores.values()), label=FEATURE_SET)\n",
    "plt.title(\"F1 score for HOLD / SHIFT at Pauses\")\n",
    "plt.xlabel(\"Epochs\")\n",
    "plt.ylabel(\"Turn Shift F1 Score\")\n",
    "plt.legend()\n",
    "save_fig(REPORTS_DIR,\"Exp-4.2-Figure-4-{}\".format(FEATURE_SET)) \n",
    "plt.show()"
   ]
  },
  {
   "cell_type": "code",
   "execution_count": null,
   "metadata": {},
   "outputs": [],
   "source": []
  },
  {
   "cell_type": "code",
   "execution_count": null,
   "metadata": {},
   "outputs": [],
   "source": []
  },
  {
   "cell_type": "code",
   "execution_count": null,
   "metadata": {},
   "outputs": [],
   "source": []
  }
 ],
 "metadata": {
  "kernelspec": {
   "display_name": "Python 3.8.13 ('trp')",
   "language": "python",
   "name": "python3"
  },
  "language_info": {
   "codemirror_mode": {
    "name": "ipython",
    "version": 3
   },
   "file_extension": ".py",
   "mimetype": "text/x-python",
   "name": "python",
   "nbconvert_exporter": "python",
   "pygments_lexer": "ipython3",
   "version": "3.8.13"
  },
  "orig_nbformat": 4,
  "vscode": {
   "interpreter": {
    "hash": "a2304c455ac551f7a45279e05896e7a6c75d8c847965e97ef85e853390a9b358"
   }
  }
 },
 "nbformat": 4,
 "nbformat_minor": 2
}
